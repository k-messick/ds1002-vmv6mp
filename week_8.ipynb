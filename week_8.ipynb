{
  "nbformat": 4,
  "nbformat_minor": 0,
  "metadata": {
    "colab": {
      "provenance": [],
      "include_colab_link": true
    },
    "kernelspec": {
      "name": "python3",
      "display_name": "Python 3"
    },
    "language_info": {
      "name": "python"
    }
  },
  "cells": [
    {
      "cell_type": "markdown",
      "metadata": {
        "id": "view-in-github",
        "colab_type": "text"
      },
      "source": [
        "<a href=\"https://colab.research.google.com/github/k-messick/ds1002-vmv6mp/blob/main/week_8.ipynb\" target=\"_parent\"><img src=\"https://colab.research.google.com/assets/colab-badge.svg\" alt=\"Open In Colab\"/></a>"
      ]
    },
    {
      "cell_type": "markdown",
      "source": [
        "## While-Loops\n",
        "\n",
        "Perform the following steps in code:\n",
        "1. Define a variable and populate it with `0`.\n",
        "2. Create a while statement that evaluates whether that variable is less than or equal to `20`.\n",
        "3. Within the while loop evaluate if the variable value is even or odd.\n",
        "4. Within the while loop, if the variable value is even, print it. If not, do not print it.\n",
        "5. Within the while loop, finally add `1` to the variable before it repeats."
      ],
      "metadata": {
        "id": "But1V5T5qWJG"
      }
    },
    {
      "cell_type": "code",
      "source": [
        "# code here\n",
        "ix = 0\n",
        "while ix <= 20:\n",
        "  if ix % 2 == 0:\n",
        "    print(\"ix\")\n",
        "    ix += 1\n",
        "\n",
        "\n",
        "\n",
        "\n"
      ],
      "metadata": {
        "id": "GyQTkbqUq6SQ",
        "colab": {
          "base_uri": "https://localhost:8080/"
        },
        "outputId": "0b018436-7f78-45d8-befb-b03e2fbc5d2c"
      },
      "execution_count": null,
      "outputs": [
        {
          "output_type": "stream",
          "name": "stdout",
          "text": [
            "ix\n"
          ]
        }
      ]
    },
    {
      "cell_type": "markdown",
      "source": [
        "## For-Loops with Lists"
      ],
      "metadata": {
        "id": "ghRg1MRwoXvD"
      }
    },
    {
      "cell_type": "code",
      "source": [
        "# Use this list in the exercises below\n",
        "\n",
        "mylist = [9, 15, 23, 4, 92, 47, 33, 17, -4, 18, 38, -242]"
      ],
      "metadata": {
        "id": "G0PaWRBuoZdQ"
      },
      "execution_count": 5,
      "outputs": []
    },
    {
      "cell_type": "code",
      "source": [
        "# Write a command to print out all the values of this list\n",
        "# EXCEPT for any negative values. Omit them from the printing.\n",
        "mylist = [9, 15, 23, 4, 92, 47, 33, 17, -4, 18, 38, -242]\n",
        "\n",
        "mylist2 = []\n",
        "for value in mylist:\n",
        "  if value>=0:\n",
        "    mylist2.append(value)\n",
        "print(mylist2)\n",
        "\n",
        "\n",
        "\n"
      ],
      "metadata": {
        "id": "hzoe9vw3phWs",
        "colab": {
          "base_uri": "https://localhost:8080/"
        },
        "outputId": "5d738b87-6b1e-4f83-fb3a-c95058ac05f1"
      },
      "execution_count": 6,
      "outputs": [
        {
          "output_type": "stream",
          "name": "stdout",
          "text": [
            "[9, 15, 23, 4, 92, 47, 33, 17, 18, 38]\n"
          ]
        }
      ]
    },
    {
      "cell_type": "code",
      "source": [
        "# Repeat the command from above, but this time get\n",
        "# the absolute value of any negative values in the list\n",
        "# and print those with the other items.\n",
        "mylist = [9, 15, 23, 4, 92, 47, 33, 17, -4, 18, 38, -242]\n",
        "\n",
        "import numpy as np\n",
        "mylist = np.abs(mylist)\n",
        "mylist\n",
        "\n",
        ""
      ],
      "metadata": {
        "id": "IE1-XLNrpnvy",
        "colab": {
          "base_uri": "https://localhost:8080/"
        },
        "outputId": "1c37fbb4-cd41-49de-ab5e-81448ec1928b"
      },
      "execution_count": 7,
      "outputs": [
        {
          "output_type": "execute_result",
          "data": {
            "text/plain": [
              "array([  9,  15,  23,   4,  92,  47,  33,  17,   4,  18,  38, 242])"
            ]
          },
          "metadata": {},
          "execution_count": 7
        }
      ]
    },
    {
      "cell_type": "markdown",
      "source": [
        "*I know this is not using a for-loop, but figured I'd try another way since I was struggling a bit to get it"
      ],
      "metadata": {
        "id": "MVPm1s09DcKj"
      }
    },
    {
      "cell_type": "code",
      "source": [
        "# Similar to above, write a command to print out items in\n",
        "# the list but omit any values greater than 20 and less than 40.\n",
        "mylist = [9, 15, 23, 4, 92, 47, 33, 17, -4, 18, 38, -242]\n",
        "mylist4= []\n",
        "for value in mylist:\n",
        "  if 20 < value < 40:\n",
        "    mylist4.append(value)\n",
        "print(mylist4)\n"
      ],
      "metadata": {
        "id": "rC38pZowp4LX",
        "colab": {
          "base_uri": "https://localhost:8080/"
        },
        "outputId": "84bfd651-f4d5-43e3-85ee-3a0b1b555ed4"
      },
      "execution_count": 8,
      "outputs": [
        {
          "output_type": "stream",
          "name": "stdout",
          "text": [
            "[23, 33, 38]\n"
          ]
        }
      ]
    },
    {
      "cell_type": "markdown",
      "source": [
        "\n",
        "\n",
        "```\n",
        "# This is formatted as code\n",
        "```\n",
        "\n",
        "## For-Loops with Dictionaries"
      ],
      "metadata": {
        "id": "BD1Wg4oSSEdz"
      }
    },
    {
      "cell_type": "code",
      "source": [
        "capitals = {'United States':'Washington DC',\n",
        "          'Italy':'Rome',\n",
        "          'England':'London',\n",
        "          'Thailand':'Bangkok',\n",
        "          'Brazil':'Brasilia'}"
      ],
      "metadata": {
        "id": "9DpHR_WzSGA8"
      },
      "execution_count": 9,
      "outputs": []
    },
    {
      "cell_type": "code",
      "source": [
        "# Write a command to print out all the keys of this dict\n",
        "capitals = {'United States':'Washington DC',\n",
        "          'Italy':'Rome',\n",
        "          'England':'London',\n",
        "          'Thailand':'Bangkok',\n",
        "          'Brazil':'Brasilia'}\n",
        "\n",
        "for c in capitals:\n",
        "    print(c)"
      ],
      "metadata": {
        "id": "Iy_i6RE3S1ta",
        "colab": {
          "base_uri": "https://localhost:8080/"
        },
        "outputId": "8ca9fd01-931c-40c7-fcfd-4be999de45a4"
      },
      "execution_count": 10,
      "outputs": [
        {
          "output_type": "stream",
          "name": "stdout",
          "text": [
            "United States\n",
            "Italy\n",
            "England\n",
            "Thailand\n",
            "Brazil\n"
          ]
        }
      ]
    },
    {
      "cell_type": "code",
      "source": [
        "# Write a command to print out all the values of this dict\n",
        "capitals = {'United States':'Washington DC',\n",
        "          'Italy':'Rome',\n",
        "          'England':'London',\n",
        "          'Thailand':'Bangkok',\n",
        "          'Brazil':'Brasilia'}\n",
        "for c in capitals:\n",
        "    print(capitals.get(c))"
      ],
      "metadata": {
        "id": "eYNBRQAsS95v",
        "colab": {
          "base_uri": "https://localhost:8080/"
        },
        "outputId": "ee8049b5-b2af-41b6-e631-1ef3dbfcf97a"
      },
      "execution_count": 11,
      "outputs": [
        {
          "output_type": "stream",
          "name": "stdout",
          "text": [
            "Washington DC\n",
            "Rome\n",
            "London\n",
            "Bangkok\n",
            "Brasilia\n"
          ]
        }
      ]
    },
    {
      "cell_type": "code",
      "source": [
        "# Write a command to print all the keys and values for this dict\n",
        "capitals = {'United States':'Washington DC',\n",
        "          'Italy':'Rome',\n",
        "          'England':'London',\n",
        "          'Thailand':'Bangkok',\n",
        "          'Brazil':'Brasilia'}\n",
        "for key, value in capitals.items():\n",
        "  print(key, \" \", value)"
      ],
      "metadata": {
        "id": "b1KYFdDxSH7X",
        "colab": {
          "base_uri": "https://localhost:8080/"
        },
        "outputId": "84159d19-37b8-42e8-c863-090962447d81"
      },
      "execution_count": 12,
      "outputs": [
        {
          "output_type": "stream",
          "name": "stdout",
          "text": [
            "United States   Washington DC\n",
            "Italy   Rome\n",
            "England   London\n",
            "Thailand   Bangkok\n",
            "Brazil   Brasilia\n"
          ]
        }
      ]
    },
    {
      "cell_type": "code",
      "source": [
        "# Write a command to print only the first three values and NOTHING more.\n",
        "capitals = {'United States':'Washington DC',\n",
        "          'Italy':'Rome',\n",
        "          'England':'London',\n",
        "          'Thailand':'Bangkok',\n",
        "          'Brazil':'Brasilia'}\n",
        "print(capitals.get(\"United States\"))\n",
        "print(capitals.get(\"Italy\"))\n",
        "print(capitals.get(\"England\"))\n",
        "\n",
        "\n",
        "\n",
        "\n",
        ""
      ],
      "metadata": {
        "id": "pun10Fq2oonQ",
        "colab": {
          "base_uri": "https://localhost:8080/"
        },
        "outputId": "7326ff06-6a43-49c6-bfd2-3d12701c9655"
      },
      "execution_count": 15,
      "outputs": [
        {
          "output_type": "stream",
          "name": "stdout",
          "text": [
            "Washington DC\n",
            "Rome\n",
            "London\n"
          ]
        }
      ]
    },
    {
      "cell_type": "markdown",
      "source": [
        "*Is this something I need to be using lookfor with? Such as:\n",
        "\n",
        "capitals = {'United States':'Washington DC',\n",
        "          'Italy':'Rome',\n",
        "          'England':'London',\n",
        "          'Thailand':'Bangkok',\n",
        "          'Brazil':'Brasilia'}\n",
        "\n",
        "lookfor = {\"United States\", \"Italy\", \"England\"}\n",
        "\n",
        "for c in capitals:\n",
        "\n",
        "    #if (c == lookfor):\n",
        "        #print(str(things[t]))\n",
        "    #else:\n",
        "        #print(\"Nothing here\")\n",
        "        #pass"
      ],
      "metadata": {
        "id": "Xd82DiNDD9rl"
      }
    }
  ]
}