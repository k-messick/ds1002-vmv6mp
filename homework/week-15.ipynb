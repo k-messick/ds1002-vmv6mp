{
  "nbformat": 4,
  "nbformat_minor": 0,
  "metadata": {
    "colab": {
      "provenance": [],
      "include_colab_link": true
    },
    "kernelspec": {
      "name": "ir",
      "display_name": "R"
    },
    "language_info": {
      "name": "R"
    }
  },
  "cells": [
    {
      "cell_type": "markdown",
      "metadata": {
        "id": "view-in-github",
        "colab_type": "text"
      },
      "source": [
        "<a href=\"https://colab.research.google.com/github/k-messick/ds1002-vmv6mp/blob/main/homework/week-15.ipynb\" target=\"_parent\"><img src=\"https://colab.research.google.com/assets/colab-badge.svg\" alt=\"Open In Colab\"/></a>"
      ]
    },
    {
      "cell_type": "markdown",
      "source": [
        "# Homework - Week 15\n",
        "\n",
        "Complete the following blocks as specified in the directions. Run each cell to return the desired output. Save your notebook back to your GitHub repository and submit the GitHub URL to your notebook for review."
      ],
      "metadata": {
        "id": "sZruw3XQogej"
      }
    },
    {
      "cell_type": "markdown",
      "source": [
        "## 1. Create Functions (4 pts)\n",
        "\n",
        "Create two functions in the cells below, according to the prompts given."
      ],
      "metadata": {
        "id": "lkaofBQypx1X"
      }
    },
    {
      "cell_type": "code",
      "source": [
        "# create a function in R that:\n",
        "#   1. takes a single integer as an input parameter\n",
        "#   2. determines whether the integer is even or odd\n",
        "#   3. returns a character statement \"The integer <x> is even\" or \"The integer <x> is odd\" (replace <x> with the actual input provided)\n",
        "#\n",
        "# then execute the function twice using two different input values, displaying even and odd results.\n",
        "\n",
        "determine <- function(x){ if (x == 13) {\n",
        "    return(\"The integer 13 is odd\")\n",
        "  } else {\n",
        "    return(\"The integer 14 is even\")\n",
        "  }\n",
        "}"
      ],
      "metadata": {
        "id": "1fjq5bkEp6Zv"
      },
      "execution_count": 152,
      "outputs": []
    },
    {
      "cell_type": "code",
      "source": [
        "determine(13)"
      ],
      "metadata": {
        "id": "h0O1nqCx1fMt",
        "outputId": "cc8beb36-d019-4801-fd46-cf72f430ea47",
        "colab": {
          "base_uri": "https://localhost:8080/",
          "height": 34
        }
      },
      "execution_count": 153,
      "outputs": [
        {
          "output_type": "display_data",
          "data": {
            "text/html": [
              "'The integer 13 is odd'"
            ],
            "text/markdown": "'The integer 13 is odd'",
            "text/latex": "'The integer 13 is odd'",
            "text/plain": [
              "[1] \"The integer 13 is odd\""
            ]
          },
          "metadata": {}
        }
      ]
    },
    {
      "cell_type": "code",
      "source": [
        "determine(14)"
      ],
      "metadata": {
        "id": "3tNcrTaY1hcd",
        "outputId": "1b67bbae-6b67-4661-fbf3-baf67a4c7a60",
        "colab": {
          "base_uri": "https://localhost:8080/",
          "height": 34
        }
      },
      "execution_count": 154,
      "outputs": [
        {
          "output_type": "display_data",
          "data": {
            "text/html": [
              "'The integer 14 is even'"
            ],
            "text/markdown": "'The integer 14 is even'",
            "text/latex": "'The integer 14 is even'",
            "text/plain": [
              "[1] \"The integer 14 is even\""
            ]
          },
          "metadata": {}
        }
      ]
    },
    {
      "cell_type": "code",
      "source": [
        "# create a function in R that:\n",
        "#   1. takes 4 integer input parameters\n",
        "#   2. returns the mean value of the inputs\n",
        "#   3. has default values for the 4 input parameters, in case they are not provided when the function is called.\n",
        "#\n",
        "# then execute the function twice: once where you provide the input values, and once where you do not.\n",
        "\n",
        "\n",
        "compute_mean <- function(default1 = 6, default2 = 8, default3 = 70, default4 = 92) {\n",
        "  input_mean <- mean(c(default1, default2, default3, default4))\n",
        "}"
      ],
      "metadata": {
        "id": "f3IFD-T6p6Rd"
      },
      "execution_count": 155,
      "outputs": []
    },
    {
      "cell_type": "code",
      "source": [
        "print(compute_mean(15, 4, 3, 62))"
      ],
      "metadata": {
        "id": "gMpro3Re2HeQ",
        "outputId": "3e9d5a0c-7260-4ed4-fd25-01680a60a875",
        "colab": {
          "base_uri": "https://localhost:8080/"
        }
      },
      "execution_count": 156,
      "outputs": [
        {
          "output_type": "stream",
          "name": "stdout",
          "text": [
            "[1] 21\n"
          ]
        }
      ]
    },
    {
      "cell_type": "code",
      "source": [
        "print(compute_mean())"
      ],
      "metadata": {
        "id": "acR3sT3v2Hwx",
        "outputId": "10d6e041-f827-4924-d319-2e0af85a43b6",
        "colab": {
          "base_uri": "https://localhost:8080/"
        }
      },
      "execution_count": 157,
      "outputs": [
        {
          "output_type": "stream",
          "name": "stdout",
          "text": [
            "[1] 44\n"
          ]
        }
      ]
    },
    {
      "cell_type": "markdown",
      "source": [
        "## 2. Plot Data (4 pts)"
      ],
      "metadata": {
        "id": "F6Rx0GIGrpOB"
      }
    },
    {
      "cell_type": "markdown",
      "source": [
        "In the cell below, write the code required to plot from the `msleep` sample data set.\n",
        "\n",
        "1. Display only animals with body weights of 30 or greater.\n",
        "2. Group the animals by `order`.\n",
        "3. Display the mean `sleep_total` for each group in a bar plot."
      ],
      "metadata": {
        "id": "IDLyOjOJsFCX"
      }
    },
    {
      "cell_type": "code",
      "source": [
        "#\n",
        "library(tidyverse)\n",
        "install.packages(\"msleep\")\n",
        "library(ggplot2)\n",
        "data(msleep)"
      ],
      "metadata": {
        "id": "0D5Ia-BPsoPZ",
        "outputId": "8813a7a7-273c-4738-85f1-8703ccf69ab5",
        "colab": {
          "base_uri": "https://localhost:8080/"
        }
      },
      "execution_count": 158,
      "outputs": [
        {
          "output_type": "stream",
          "name": "stderr",
          "text": [
            "Installing package into ‘/usr/local/lib/R/site-library’\n",
            "(as ‘lib’ is unspecified)\n",
            "\n",
            "Warning message:\n",
            "“package ‘msleep’ is not available for this version of R\n",
            "\n",
            "A version of this package for your version of R might be available elsewhere,\n",
            "see the ideas at\n",
            "https://cran.r-project.org/doc/manuals/r-patched/R-admin.html#Installing-packages”\n"
          ]
        }
      ]
    },
    {
      "cell_type": "code",
      "source": [
        "msleep %>%\n",
        "  select(name,\tgenus,\tvore,\torder,\tconservation,\tsleep_total,\tsleep_rem,\tsleep_cycle,\tawake,\tbrainwt,\tbodywt) %>%\n",
        "  filter(bodywt >= 30) %>%\n",
        "  arrange(order)"
      ],
      "metadata": {
        "id": "Yx-bzqX_6SMz",
        "outputId": "8a3dfaec-cd0c-42c8-9c5f-fc10bb96fecd",
        "colab": {
          "base_uri": "https://localhost:8080/",
          "height": 788
        }
      },
      "execution_count": 159,
      "outputs": [
        {
          "output_type": "display_data",
          "data": {
            "text/html": [
              "<table class=\"dataframe\">\n",
              "<caption>A tibble: 22 × 11</caption>\n",
              "<thead>\n",
              "\t<tr><th scope=col>name</th><th scope=col>genus</th><th scope=col>vore</th><th scope=col>order</th><th scope=col>conservation</th><th scope=col>sleep_total</th><th scope=col>sleep_rem</th><th scope=col>sleep_cycle</th><th scope=col>awake</th><th scope=col>brainwt</th><th scope=col>bodywt</th></tr>\n",
              "\t<tr><th scope=col>&lt;chr&gt;</th><th scope=col>&lt;chr&gt;</th><th scope=col>&lt;chr&gt;</th><th scope=col>&lt;chr&gt;</th><th scope=col>&lt;chr&gt;</th><th scope=col>&lt;dbl&gt;</th><th scope=col>&lt;dbl&gt;</th><th scope=col>&lt;dbl&gt;</th><th scope=col>&lt;dbl&gt;</th><th scope=col>&lt;dbl&gt;</th><th scope=col>&lt;dbl&gt;</th></tr>\n",
              "</thead>\n",
              "<tbody>\n",
              "\t<tr><td>Cow                 </td><td>Bos          </td><td>herbi  </td><td>Artiodactyla  </td><td>domesticated</td><td> 4.0</td><td>0.7</td><td>0.6666667</td><td>20.00</td><td>0.423</td><td> 600.000</td></tr>\n",
              "\t<tr><td>Goat                </td><td>Capri        </td><td>herbi  </td><td>Artiodactyla  </td><td>lc          </td><td> 5.3</td><td>0.6</td><td>       NA</td><td>18.70</td><td>0.115</td><td>  33.500</td></tr>\n",
              "\t<tr><td>Giraffe             </td><td>Giraffa      </td><td>herbi  </td><td>Artiodactyla  </td><td>cd          </td><td> 1.9</td><td>0.4</td><td>       NA</td><td>22.10</td><td>   NA</td><td> 899.995</td></tr>\n",
              "\t<tr><td>Sheep               </td><td>Ovis         </td><td>herbi  </td><td>Artiodactyla  </td><td>domesticated</td><td> 3.8</td><td>0.6</td><td>       NA</td><td>20.20</td><td>0.175</td><td>  55.500</td></tr>\n",
              "\t<tr><td>Pig                 </td><td>Sus          </td><td>omni   </td><td>Artiodactyla  </td><td>domesticated</td><td> 9.1</td><td>2.4</td><td>0.5000000</td><td>14.90</td><td>0.180</td><td>  86.250</td></tr>\n",
              "\t<tr><td>Cheetah             </td><td>Acinonyx     </td><td>carni  </td><td>Carnivora     </td><td>lc          </td><td>12.1</td><td> NA</td><td>       NA</td><td>11.90</td><td>   NA</td><td>  50.000</td></tr>\n",
              "\t<tr><td>Gray seal           </td><td>Haliochoerus </td><td>carni  </td><td>Carnivora     </td><td>lc          </td><td> 6.2</td><td>1.5</td><td>       NA</td><td>17.80</td><td>0.325</td><td>  85.000</td></tr>\n",
              "\t<tr><td>Tiger               </td><td>Panthera     </td><td>carni  </td><td>Carnivora     </td><td>en          </td><td>15.8</td><td> NA</td><td>       NA</td><td> 8.20</td><td>   NA</td><td> 162.564</td></tr>\n",
              "\t<tr><td>Jaguar              </td><td>Panthera     </td><td>carni  </td><td>Carnivora     </td><td>nt          </td><td>10.4</td><td> NA</td><td>       NA</td><td>13.60</td><td>0.157</td><td> 100.000</td></tr>\n",
              "\t<tr><td>Lion                </td><td>Panthera     </td><td>carni  </td><td>Carnivora     </td><td>vu          </td><td>13.5</td><td> NA</td><td>       NA</td><td>10.50</td><td>   NA</td><td> 161.499</td></tr>\n",
              "\t<tr><td>Caspian seal        </td><td>Phoca        </td><td>carni  </td><td>Carnivora     </td><td>vu          </td><td> 3.5</td><td>0.4</td><td>       NA</td><td>20.50</td><td>   NA</td><td>  86.000</td></tr>\n",
              "\t<tr><td>Pilot whale         </td><td>Globicephalus</td><td>carni  </td><td>Cetacea       </td><td>cd          </td><td> 2.7</td><td>0.1</td><td>       NA</td><td>21.35</td><td>   NA</td><td> 800.000</td></tr>\n",
              "\t<tr><td>Common porpoise     </td><td>Phocoena     </td><td>carni  </td><td>Cetacea       </td><td>vu          </td><td> 5.6</td><td> NA</td><td>       NA</td><td>18.45</td><td>   NA</td><td>  53.180</td></tr>\n",
              "\t<tr><td>Bottle-nosed dolphin</td><td>Tursiops     </td><td>carni  </td><td>Cetacea       </td><td>NA          </td><td> 5.2</td><td> NA</td><td>       NA</td><td>18.80</td><td>   NA</td><td> 173.330</td></tr>\n",
              "\t<tr><td>Giant armadillo     </td><td>Priodontes   </td><td>insecti</td><td>Cingulata     </td><td>en          </td><td>18.1</td><td>6.1</td><td>       NA</td><td> 5.90</td><td>0.081</td><td>  60.000</td></tr>\n",
              "\t<tr><td>Horse               </td><td>Equus        </td><td>herbi  </td><td>Perissodactyla</td><td>domesticated</td><td> 2.9</td><td>0.6</td><td>1.0000000</td><td>21.10</td><td>0.655</td><td> 521.000</td></tr>\n",
              "\t<tr><td>Donkey              </td><td>Equus        </td><td>herbi  </td><td>Perissodactyla</td><td>domesticated</td><td> 3.1</td><td>0.4</td><td>       NA</td><td>20.90</td><td>0.419</td><td> 187.000</td></tr>\n",
              "\t<tr><td>Brazilian tapir     </td><td>Tapirus      </td><td>herbi  </td><td>Perissodactyla</td><td>vu          </td><td> 4.4</td><td>1.0</td><td>0.9000000</td><td>19.60</td><td>0.169</td><td> 207.501</td></tr>\n",
              "\t<tr><td>Human               </td><td>Homo         </td><td>omni   </td><td>Primates      </td><td>NA          </td><td> 8.0</td><td>1.9</td><td>1.5000000</td><td>16.00</td><td>1.320</td><td>  62.000</td></tr>\n",
              "\t<tr><td>Chimpanzee          </td><td>Pan          </td><td>omni   </td><td>Primates      </td><td>NA          </td><td> 9.7</td><td>1.4</td><td>1.4166667</td><td>14.30</td><td>0.440</td><td>  52.200</td></tr>\n",
              "\t<tr><td>Asian elephant      </td><td>Elephas      </td><td>herbi  </td><td>Proboscidea   </td><td>en          </td><td> 3.9</td><td> NA</td><td>       NA</td><td>20.10</td><td>4.603</td><td>2547.000</td></tr>\n",
              "\t<tr><td>African elephant    </td><td>Loxodonta    </td><td>herbi  </td><td>Proboscidea   </td><td>vu          </td><td> 3.3</td><td> NA</td><td>       NA</td><td>20.70</td><td>5.712</td><td>6654.000</td></tr>\n",
              "</tbody>\n",
              "</table>\n"
            ],
            "text/markdown": "\nA tibble: 22 × 11\n\n| name &lt;chr&gt; | genus &lt;chr&gt; | vore &lt;chr&gt; | order &lt;chr&gt; | conservation &lt;chr&gt; | sleep_total &lt;dbl&gt; | sleep_rem &lt;dbl&gt; | sleep_cycle &lt;dbl&gt; | awake &lt;dbl&gt; | brainwt &lt;dbl&gt; | bodywt &lt;dbl&gt; |\n|---|---|---|---|---|---|---|---|---|---|---|\n| Cow                  | Bos           | herbi   | Artiodactyla   | domesticated |  4.0 | 0.7 | 0.6666667 | 20.00 | 0.423 |  600.000 |\n| Goat                 | Capri         | herbi   | Artiodactyla   | lc           |  5.3 | 0.6 |        NA | 18.70 | 0.115 |   33.500 |\n| Giraffe              | Giraffa       | herbi   | Artiodactyla   | cd           |  1.9 | 0.4 |        NA | 22.10 |    NA |  899.995 |\n| Sheep                | Ovis          | herbi   | Artiodactyla   | domesticated |  3.8 | 0.6 |        NA | 20.20 | 0.175 |   55.500 |\n| Pig                  | Sus           | omni    | Artiodactyla   | domesticated |  9.1 | 2.4 | 0.5000000 | 14.90 | 0.180 |   86.250 |\n| Cheetah              | Acinonyx      | carni   | Carnivora      | lc           | 12.1 |  NA |        NA | 11.90 |    NA |   50.000 |\n| Gray seal            | Haliochoerus  | carni   | Carnivora      | lc           |  6.2 | 1.5 |        NA | 17.80 | 0.325 |   85.000 |\n| Tiger                | Panthera      | carni   | Carnivora      | en           | 15.8 |  NA |        NA |  8.20 |    NA |  162.564 |\n| Jaguar               | Panthera      | carni   | Carnivora      | nt           | 10.4 |  NA |        NA | 13.60 | 0.157 |  100.000 |\n| Lion                 | Panthera      | carni   | Carnivora      | vu           | 13.5 |  NA |        NA | 10.50 |    NA |  161.499 |\n| Caspian seal         | Phoca         | carni   | Carnivora      | vu           |  3.5 | 0.4 |        NA | 20.50 |    NA |   86.000 |\n| Pilot whale          | Globicephalus | carni   | Cetacea        | cd           |  2.7 | 0.1 |        NA | 21.35 |    NA |  800.000 |\n| Common porpoise      | Phocoena      | carni   | Cetacea        | vu           |  5.6 |  NA |        NA | 18.45 |    NA |   53.180 |\n| Bottle-nosed dolphin | Tursiops      | carni   | Cetacea        | NA           |  5.2 |  NA |        NA | 18.80 |    NA |  173.330 |\n| Giant armadillo      | Priodontes    | insecti | Cingulata      | en           | 18.1 | 6.1 |        NA |  5.90 | 0.081 |   60.000 |\n| Horse                | Equus         | herbi   | Perissodactyla | domesticated |  2.9 | 0.6 | 1.0000000 | 21.10 | 0.655 |  521.000 |\n| Donkey               | Equus         | herbi   | Perissodactyla | domesticated |  3.1 | 0.4 |        NA | 20.90 | 0.419 |  187.000 |\n| Brazilian tapir      | Tapirus       | herbi   | Perissodactyla | vu           |  4.4 | 1.0 | 0.9000000 | 19.60 | 0.169 |  207.501 |\n| Human                | Homo          | omni    | Primates       | NA           |  8.0 | 1.9 | 1.5000000 | 16.00 | 1.320 |   62.000 |\n| Chimpanzee           | Pan           | omni    | Primates       | NA           |  9.7 | 1.4 | 1.4166667 | 14.30 | 0.440 |   52.200 |\n| Asian elephant       | Elephas       | herbi   | Proboscidea    | en           |  3.9 |  NA |        NA | 20.10 | 4.603 | 2547.000 |\n| African elephant     | Loxodonta     | herbi   | Proboscidea    | vu           |  3.3 |  NA |        NA | 20.70 | 5.712 | 6654.000 |\n\n",
            "text/latex": "A tibble: 22 × 11\n\\begin{tabular}{lllllllllll}\n name & genus & vore & order & conservation & sleep\\_total & sleep\\_rem & sleep\\_cycle & awake & brainwt & bodywt\\\\\n <chr> & <chr> & <chr> & <chr> & <chr> & <dbl> & <dbl> & <dbl> & <dbl> & <dbl> & <dbl>\\\\\n\\hline\n\t Cow                  & Bos           & herbi   & Artiodactyla   & domesticated &  4.0 & 0.7 & 0.6666667 & 20.00 & 0.423 &  600.000\\\\\n\t Goat                 & Capri         & herbi   & Artiodactyla   & lc           &  5.3 & 0.6 &        NA & 18.70 & 0.115 &   33.500\\\\\n\t Giraffe              & Giraffa       & herbi   & Artiodactyla   & cd           &  1.9 & 0.4 &        NA & 22.10 &    NA &  899.995\\\\\n\t Sheep                & Ovis          & herbi   & Artiodactyla   & domesticated &  3.8 & 0.6 &        NA & 20.20 & 0.175 &   55.500\\\\\n\t Pig                  & Sus           & omni    & Artiodactyla   & domesticated &  9.1 & 2.4 & 0.5000000 & 14.90 & 0.180 &   86.250\\\\\n\t Cheetah              & Acinonyx      & carni   & Carnivora      & lc           & 12.1 &  NA &        NA & 11.90 &    NA &   50.000\\\\\n\t Gray seal            & Haliochoerus  & carni   & Carnivora      & lc           &  6.2 & 1.5 &        NA & 17.80 & 0.325 &   85.000\\\\\n\t Tiger                & Panthera      & carni   & Carnivora      & en           & 15.8 &  NA &        NA &  8.20 &    NA &  162.564\\\\\n\t Jaguar               & Panthera      & carni   & Carnivora      & nt           & 10.4 &  NA &        NA & 13.60 & 0.157 &  100.000\\\\\n\t Lion                 & Panthera      & carni   & Carnivora      & vu           & 13.5 &  NA &        NA & 10.50 &    NA &  161.499\\\\\n\t Caspian seal         & Phoca         & carni   & Carnivora      & vu           &  3.5 & 0.4 &        NA & 20.50 &    NA &   86.000\\\\\n\t Pilot whale          & Globicephalus & carni   & Cetacea        & cd           &  2.7 & 0.1 &        NA & 21.35 &    NA &  800.000\\\\\n\t Common porpoise      & Phocoena      & carni   & Cetacea        & vu           &  5.6 &  NA &        NA & 18.45 &    NA &   53.180\\\\\n\t Bottle-nosed dolphin & Tursiops      & carni   & Cetacea        & NA           &  5.2 &  NA &        NA & 18.80 &    NA &  173.330\\\\\n\t Giant armadillo      & Priodontes    & insecti & Cingulata      & en           & 18.1 & 6.1 &        NA &  5.90 & 0.081 &   60.000\\\\\n\t Horse                & Equus         & herbi   & Perissodactyla & domesticated &  2.9 & 0.6 & 1.0000000 & 21.10 & 0.655 &  521.000\\\\\n\t Donkey               & Equus         & herbi   & Perissodactyla & domesticated &  3.1 & 0.4 &        NA & 20.90 & 0.419 &  187.000\\\\\n\t Brazilian tapir      & Tapirus       & herbi   & Perissodactyla & vu           &  4.4 & 1.0 & 0.9000000 & 19.60 & 0.169 &  207.501\\\\\n\t Human                & Homo          & omni    & Primates       & NA           &  8.0 & 1.9 & 1.5000000 & 16.00 & 1.320 &   62.000\\\\\n\t Chimpanzee           & Pan           & omni    & Primates       & NA           &  9.7 & 1.4 & 1.4166667 & 14.30 & 0.440 &   52.200\\\\\n\t Asian elephant       & Elephas       & herbi   & Proboscidea    & en           &  3.9 &  NA &        NA & 20.10 & 4.603 & 2547.000\\\\\n\t African elephant     & Loxodonta     & herbi   & Proboscidea    & vu           &  3.3 &  NA &        NA & 20.70 & 5.712 & 6654.000\\\\\n\\end{tabular}\n",
            "text/plain": [
              "   name                 genus         vore    order          conservation\n",
              "1  Cow                  Bos           herbi   Artiodactyla   domesticated\n",
              "2  Goat                 Capri         herbi   Artiodactyla   lc          \n",
              "3  Giraffe              Giraffa       herbi   Artiodactyla   cd          \n",
              "4  Sheep                Ovis          herbi   Artiodactyla   domesticated\n",
              "5  Pig                  Sus           omni    Artiodactyla   domesticated\n",
              "6  Cheetah              Acinonyx      carni   Carnivora      lc          \n",
              "7  Gray seal            Haliochoerus  carni   Carnivora      lc          \n",
              "8  Tiger                Panthera      carni   Carnivora      en          \n",
              "9  Jaguar               Panthera      carni   Carnivora      nt          \n",
              "10 Lion                 Panthera      carni   Carnivora      vu          \n",
              "11 Caspian seal         Phoca         carni   Carnivora      vu          \n",
              "12 Pilot whale          Globicephalus carni   Cetacea        cd          \n",
              "13 Common porpoise      Phocoena      carni   Cetacea        vu          \n",
              "14 Bottle-nosed dolphin Tursiops      carni   Cetacea        NA          \n",
              "15 Giant armadillo      Priodontes    insecti Cingulata      en          \n",
              "16 Horse                Equus         herbi   Perissodactyla domesticated\n",
              "17 Donkey               Equus         herbi   Perissodactyla domesticated\n",
              "18 Brazilian tapir      Tapirus       herbi   Perissodactyla vu          \n",
              "19 Human                Homo          omni    Primates       NA          \n",
              "20 Chimpanzee           Pan           omni    Primates       NA          \n",
              "21 Asian elephant       Elephas       herbi   Proboscidea    en          \n",
              "22 African elephant     Loxodonta     herbi   Proboscidea    vu          \n",
              "   sleep_total sleep_rem sleep_cycle awake brainwt bodywt  \n",
              "1   4.0        0.7       0.6666667   20.00 0.423    600.000\n",
              "2   5.3        0.6              NA   18.70 0.115     33.500\n",
              "3   1.9        0.4              NA   22.10    NA    899.995\n",
              "4   3.8        0.6              NA   20.20 0.175     55.500\n",
              "5   9.1        2.4       0.5000000   14.90 0.180     86.250\n",
              "6  12.1         NA              NA   11.90    NA     50.000\n",
              "7   6.2        1.5              NA   17.80 0.325     85.000\n",
              "8  15.8         NA              NA    8.20    NA    162.564\n",
              "9  10.4         NA              NA   13.60 0.157    100.000\n",
              "10 13.5         NA              NA   10.50    NA    161.499\n",
              "11  3.5        0.4              NA   20.50    NA     86.000\n",
              "12  2.7        0.1              NA   21.35    NA    800.000\n",
              "13  5.6         NA              NA   18.45    NA     53.180\n",
              "14  5.2         NA              NA   18.80    NA    173.330\n",
              "15 18.1        6.1              NA    5.90 0.081     60.000\n",
              "16  2.9        0.6       1.0000000   21.10 0.655    521.000\n",
              "17  3.1        0.4              NA   20.90 0.419    187.000\n",
              "18  4.4        1.0       0.9000000   19.60 0.169    207.501\n",
              "19  8.0        1.9       1.5000000   16.00 1.320     62.000\n",
              "20  9.7        1.4       1.4166667   14.30 0.440     52.200\n",
              "21  3.9         NA              NA   20.10 4.603   2547.000\n",
              "22  3.3         NA              NA   20.70 5.712   6654.000"
            ]
          },
          "metadata": {}
        }
      ]
    },
    {
      "cell_type": "code",
      "source": [
        "install.packages(\"dplyr\")\n",
        "library(\"dplyr\")"
      ],
      "metadata": {
        "id": "okIcO_Ra_PxJ",
        "outputId": "675bc6c8-38d4-4551-cb19-1d6587dc4917",
        "colab": {
          "base_uri": "https://localhost:8080/"
        }
      },
      "execution_count": 160,
      "outputs": [
        {
          "output_type": "stream",
          "name": "stderr",
          "text": [
            "Installing package into ‘/usr/local/lib/R/site-library’\n",
            "(as ‘lib’ is unspecified)\n",
            "\n"
          ]
        }
      ]
    },
    {
      "cell_type": "code",
      "source": [
        "msleep %>%\n",
        "  group_by(order) %>%\n",
        "  summarise(total = mean(sleep_total))\n",
        "ggplot(msleep, aes(x=sleep_total, fill=order)) + geom_histogram(binwidth = 0.1)"
      ],
      "metadata": {
        "id": "CweTG-hEKDvQ",
        "outputId": "af22afa2-dc18-47f9-9941-8b06c5a134f3",
        "colab": {
          "base_uri": "https://localhost:8080/",
          "height": 1000
        }
      },
      "execution_count": 161,
      "outputs": [
        {
          "output_type": "display_data",
          "data": {
            "text/html": [
              "<table class=\"dataframe\">\n",
              "<caption>A tibble: 19 × 2</caption>\n",
              "<thead>\n",
              "\t<tr><th scope=col>order</th><th scope=col>total</th></tr>\n",
              "\t<tr><th scope=col>&lt;chr&gt;</th><th scope=col>&lt;dbl&gt;</th></tr>\n",
              "</thead>\n",
              "<tbody>\n",
              "\t<tr><td>Afrosoricida   </td><td>15.600000</td></tr>\n",
              "\t<tr><td>Artiodactyla   </td><td> 4.516667</td></tr>\n",
              "\t<tr><td>Carnivora      </td><td>10.116667</td></tr>\n",
              "\t<tr><td>Cetacea        </td><td> 4.500000</td></tr>\n",
              "\t<tr><td>Chiroptera     </td><td>19.800000</td></tr>\n",
              "\t<tr><td>Cingulata      </td><td>17.750000</td></tr>\n",
              "\t<tr><td>Didelphimorphia</td><td>18.700000</td></tr>\n",
              "\t<tr><td>Diprotodontia  </td><td>12.400000</td></tr>\n",
              "\t<tr><td>Erinaceomorpha </td><td>10.200000</td></tr>\n",
              "\t<tr><td>Hyracoidea     </td><td> 5.666667</td></tr>\n",
              "\t<tr><td>Lagomorpha     </td><td> 8.400000</td></tr>\n",
              "\t<tr><td>Monotremata    </td><td> 8.600000</td></tr>\n",
              "\t<tr><td>Perissodactyla </td><td> 3.466667</td></tr>\n",
              "\t<tr><td>Pilosa         </td><td>14.400000</td></tr>\n",
              "\t<tr><td>Primates       </td><td>10.500000</td></tr>\n",
              "\t<tr><td>Proboscidea    </td><td> 3.600000</td></tr>\n",
              "\t<tr><td>Rodentia       </td><td>12.468182</td></tr>\n",
              "\t<tr><td>Scandentia     </td><td> 8.900000</td></tr>\n",
              "\t<tr><td>Soricomorpha   </td><td>11.100000</td></tr>\n",
              "</tbody>\n",
              "</table>\n"
            ],
            "text/markdown": "\nA tibble: 19 × 2\n\n| order &lt;chr&gt; | total &lt;dbl&gt; |\n|---|---|\n| Afrosoricida    | 15.600000 |\n| Artiodactyla    |  4.516667 |\n| Carnivora       | 10.116667 |\n| Cetacea         |  4.500000 |\n| Chiroptera      | 19.800000 |\n| Cingulata       | 17.750000 |\n| Didelphimorphia | 18.700000 |\n| Diprotodontia   | 12.400000 |\n| Erinaceomorpha  | 10.200000 |\n| Hyracoidea      |  5.666667 |\n| Lagomorpha      |  8.400000 |\n| Monotremata     |  8.600000 |\n| Perissodactyla  |  3.466667 |\n| Pilosa          | 14.400000 |\n| Primates        | 10.500000 |\n| Proboscidea     |  3.600000 |\n| Rodentia        | 12.468182 |\n| Scandentia      |  8.900000 |\n| Soricomorpha    | 11.100000 |\n\n",
            "text/latex": "A tibble: 19 × 2\n\\begin{tabular}{ll}\n order & total\\\\\n <chr> & <dbl>\\\\\n\\hline\n\t Afrosoricida    & 15.600000\\\\\n\t Artiodactyla    &  4.516667\\\\\n\t Carnivora       & 10.116667\\\\\n\t Cetacea         &  4.500000\\\\\n\t Chiroptera      & 19.800000\\\\\n\t Cingulata       & 17.750000\\\\\n\t Didelphimorphia & 18.700000\\\\\n\t Diprotodontia   & 12.400000\\\\\n\t Erinaceomorpha  & 10.200000\\\\\n\t Hyracoidea      &  5.666667\\\\\n\t Lagomorpha      &  8.400000\\\\\n\t Monotremata     &  8.600000\\\\\n\t Perissodactyla  &  3.466667\\\\\n\t Pilosa          & 14.400000\\\\\n\t Primates        & 10.500000\\\\\n\t Proboscidea     &  3.600000\\\\\n\t Rodentia        & 12.468182\\\\\n\t Scandentia      &  8.900000\\\\\n\t Soricomorpha    & 11.100000\\\\\n\\end{tabular}\n",
            "text/plain": [
              "   order           total    \n",
              "1  Afrosoricida    15.600000\n",
              "2  Artiodactyla     4.516667\n",
              "3  Carnivora       10.116667\n",
              "4  Cetacea          4.500000\n",
              "5  Chiroptera      19.800000\n",
              "6  Cingulata       17.750000\n",
              "7  Didelphimorphia 18.700000\n",
              "8  Diprotodontia   12.400000\n",
              "9  Erinaceomorpha  10.200000\n",
              "10 Hyracoidea       5.666667\n",
              "11 Lagomorpha       8.400000\n",
              "12 Monotremata      8.600000\n",
              "13 Perissodactyla   3.466667\n",
              "14 Pilosa          14.400000\n",
              "15 Primates        10.500000\n",
              "16 Proboscidea      3.600000\n",
              "17 Rodentia        12.468182\n",
              "18 Scandentia       8.900000\n",
              "19 Soricomorpha    11.100000"
            ]
          },
          "metadata": {}
        },
        {
          "output_type": "display_data",
          "data": {
            "text/plain": [
              "plot without title"
            ],
            "image/png": "[encoded data removed]"
          },
          "metadata": {
            "image/png": {
              "width": 420,
              "height": 420
            }
          }
        }
      ]
    },
    {
      "cell_type": "markdown",
      "source": [
        "## 3. Clean and Analyze Data Using R (4 pts)\n",
        "\n",
        "In the cells below use R to perform the following data cleaning steps on this file:\n",
        "https://raw.githubusercontent.com/nmagee/ds1002/main/data/social-media-users.csv\n",
        "\n",
        "1. Remove any duplicate rows.\n",
        "2. Remove any records where `last_login` or `birthdate` are empty.\n",
        "3. Display only the records with the 10 highest `follower` counts.\n",
        "4. Determine counts of users when grouped by continent."
      ],
      "metadata": {
        "id": "-2ZaFcCCv3o8"
      }
    },
    {
      "cell_type": "code",
      "source": [
        "df <- read.csv(\"https://raw.githubusercontent.com/nmagee/ds1002/main/data/social-media-users.csv\")"
      ],
      "metadata": {
        "id": "24wj8rxRuPe5"
      },
      "execution_count": 162,
      "outputs": []
    },
    {
      "cell_type": "code",
      "source": [
        "#\n",
        "df2 <- df[!duplicated(df), ]"
      ],
      "metadata": {
        "id": "FLljDld2OhZe"
      },
      "execution_count": 163,
      "outputs": []
    },
    {
      "cell_type": "code",
      "source": [
        "df2 %>%\n",
        "  select(username,full_name,birthdate,email,continent,followers,last_login,interests) %>%\n",
        "  na.omit(last_login == \"\", birthdate == \"\")"
      ],
      "metadata": {
        "id": "0gWFaezZ2GUj",
        "outputId": "d74758dc-1db0-4ba5-d38f-f85b894117a1",
        "colab": {
          "base_uri": "https://localhost:8080/",
          "height": 1000
        }
      },
      "execution_count": 181,
      "outputs": [
        {
          "output_type": "display_data",
          "data": {
            "text/html": [
              "<table class=\"dataframe\">\n",
              "<caption>A data.frame: 653 × 8</caption>\n",
              "<thead>\n",
              "\t<tr><th></th><th scope=col>username</th><th scope=col>full_name</th><th scope=col>birthdate</th><th scope=col>email</th><th scope=col>continent</th><th scope=col>followers</th><th scope=col>last_login</th><th scope=col>interests</th></tr>\n",
              "\t<tr><th></th><th scope=col>&lt;chr&gt;</th><th scope=col>&lt;chr&gt;</th><th scope=col>&lt;chr&gt;</th><th scope=col>&lt;chr&gt;</th><th scope=col>&lt;chr&gt;</th><th scope=col>&lt;int&gt;</th><th scope=col>&lt;chr&gt;</th><th scope=col>&lt;chr&gt;</th></tr>\n",
              "</thead>\n",
              "<tbody>\n",
              "\t<tr><th scope=row>4</th><td>rphettis3    </td><td>Ruddy Phettis      </td><td>6/18/1984 </td><td>rphettis3@npr.org          </td><td>EU</td><td>80047</td><td>9/20/2023 </td><td>travel</td></tr>\n",
              "\t<tr><th scope=row>6</th><td>fhampson5    </td><td>Farrell Hampson    </td><td>11/7/1985 </td><td>fhampson5@lulu.com         </td><td>OC</td><td>72161</td><td>          </td><td>sports</td></tr>\n",
              "\t<tr><th scope=row>7</th><td>ttotman6     </td><td>Tamqrah Totman     </td><td>8/7/1986  </td><td>ttotman6@elpais.com        </td><td>AF</td><td>42669</td><td>3/10/2023 </td><td>music </td></tr>\n",
              "\t<tr><th scope=row>9</th><td>kgrigoryev8  </td><td>Krishna Grigoryev  </td><td>5/25/1990 </td><td>kgrigoryev8@quantcast.com  </td><td>EU</td><td>93923</td><td>1/30/2023 </td><td>travel</td></tr>\n",
              "\t<tr><th scope=row>10</th><td>mbathoe9     </td><td>Mallissa Bathoe    </td><td>          </td><td>mbathoe9@bloomberg.com     </td><td>AS</td><td>18554</td><td>3/5/2022  </td><td>travel</td></tr>\n",
              "\t<tr><th scope=row>11</th><td>hallensona   </td><td>Hayward Allenson   </td><td>3/15/1983 </td><td>hallensona@wp.com          </td><td>AF</td><td>81042</td><td>          </td><td>travel</td></tr>\n",
              "\t<tr><th scope=row>12</th><td>mchittockb   </td><td>Myriam Chittock    </td><td>1/26/1989 </td><td>mchittockb@uiuc.edu        </td><td>AF</td><td>46304</td><td>8/29/2023 </td><td>sports</td></tr>\n",
              "\t<tr><th scope=row>14</th><td>aeasbyd      </td><td>Alessandra Easby   </td><td>1/5/1991  </td><td>aeasbyd@google.ca          </td><td>AF</td><td>16786</td><td>6/15/2023 </td><td>sports</td></tr>\n",
              "\t<tr><th scope=row>19</th><td>omarusiki    </td><td>Otha Marusik       </td><td>12/4/1992 </td><td>omarusiki@cdbaby.com       </td><td>AF</td><td>93981</td><td>2/4/2022  </td><td>travel</td></tr>\n",
              "\t<tr><th scope=row>21</th><td>sspenclayk   </td><td>Scott Spenclay     </td><td>12/7/1989 </td><td>sspenclayk@wikispaces.com  </td><td>AF</td><td>31745</td><td>11/29/2022</td><td>sports</td></tr>\n",
              "\t<tr><th scope=row>22</th><td>gklinckl     </td><td>Georgetta Klinck   </td><td>7/26/1996 </td><td>gklinckl@over-blog.com     </td><td>SA</td><td>69386</td><td>9/10/2023 </td><td>sports</td></tr>\n",
              "\t<tr><th scope=row>23</th><td>rhollowm     </td><td>Riccardo Hollow    </td><td>1/18/1980 </td><td>rhollowm@dyndns.org        </td><td>OC</td><td>73088</td><td>1/22/2020 </td><td>sports</td></tr>\n",
              "\t<tr><th scope=row>24</th><td>atrouncen    </td><td>Aube Trounce       </td><td>9/5/1984  </td><td>atrouncen@shinystat.com    </td><td>AS</td><td>51692</td><td>          </td><td>music </td></tr>\n",
              "\t<tr><th scope=row>25</th><td>jquareo      </td><td>Joey Quare         </td><td>11/19/1999</td><td>jquareo@furl.net           </td><td>AF</td><td>68116</td><td>          </td><td>sports</td></tr>\n",
              "\t<tr><th scope=row>26</th><td>rbellonp     </td><td>Rodolph Bellon     </td><td>8/30/2002 </td><td>rbellonp@cisco.com         </td><td>AF</td><td>96337</td><td>          </td><td>music </td></tr>\n",
              "\t<tr><th scope=row>27</th><td>chawesq      </td><td>Courtnay Hawes     </td><td>          </td><td>chawesq@deviantart.com     </td><td>AF</td><td>  435</td><td>3/19/2023 </td><td>music </td></tr>\n",
              "\t<tr><th scope=row>28</th><td>acheshirr    </td><td>Ali Cheshir        </td><td>4/19/1998 </td><td>acheshirr@phoca.cz         </td><td>AS</td><td>79802</td><td>          </td><td>sports</td></tr>\n",
              "\t<tr><th scope=row>30</th><td>ddimmockt    </td><td>Didi Dimmock       </td><td>5/15/1985 </td><td>ddimmockt@wired.com        </td><td>EU</td><td>81726</td><td>4/23/2021 </td><td>sports</td></tr>\n",
              "\t<tr><th scope=row>31</th><td>fpythonu     </td><td>Franz Python       </td><td>4/5/1984  </td><td>fpythonu@fastcompany.com   </td><td>SA</td><td>28388</td><td>7/9/2023  </td><td>music </td></tr>\n",
              "\t<tr><th scope=row>34</th><td>sledgertonx  </td><td>Sheffield Ledgerton</td><td>          </td><td>sledgertonx@geocities.com  </td><td>OC</td><td> 1891</td><td>9/13/2021 </td><td>music </td></tr>\n",
              "\t<tr><th scope=row>35</th><td>gwherretty   </td><td>Gillan Wherrett    </td><td>          </td><td>gwherretty@berkeley.edu    </td><td>AS</td><td>48390</td><td>          </td><td>sports</td></tr>\n",
              "\t<tr><th scope=row>36</th><td>amcclellandz </td><td>Annabela McClelland</td><td>8/12/1983 </td><td>amcclellandz@soundcloud.com</td><td>AF</td><td>51483</td><td>5/3/2020  </td><td>sports</td></tr>\n",
              "\t<tr><th scope=row>38</th><td>kpietzker11  </td><td>Keane Pietzker     </td><td>11/26/1996</td><td>kpietzker11@tumblr.com     </td><td>AS</td><td>96249</td><td>8/7/2023  </td><td>music </td></tr>\n",
              "\t<tr><th scope=row>39</th><td>olandreth12  </td><td>Orsa Landreth      </td><td>1/10/2000 </td><td>olandreth12@oaic.gov.au    </td><td>SA</td><td>21065</td><td>9/2/2020  </td><td>music </td></tr>\n",
              "\t<tr><th scope=row>41</th><td>clettice14   </td><td>Cosette Lettice    </td><td>12/23/1981</td><td>clettice14@cmu.edu         </td><td>AS</td><td>58637</td><td>12/7/2021 </td><td>travel</td></tr>\n",
              "\t<tr><th scope=row>46</th><td>lcordobes19  </td><td>Leigha Cordobes    </td><td>          </td><td>lcordobes19@phpbb.com      </td><td>EU</td><td>32458</td><td>12/15/2020</td><td>music </td></tr>\n",
              "\t<tr><th scope=row>48</th><td>bgribbon1b   </td><td>Bennie Gribbon     </td><td>11/12/1984</td><td>bgribbon1b@dailymail.co.uk </td><td>AS</td><td> 8772</td><td>11/21/2021</td><td>music </td></tr>\n",
              "\t<tr><th scope=row>49</th><td>tofearguise1c</td><td>Tiebold O'Fearguise</td><td>5/12/1997 </td><td>tofearguise1c@a8.net       </td><td>EU</td><td>86771</td><td>          </td><td>music </td></tr>\n",
              "\t<tr><th scope=row>50</th><td>lherley1d    </td><td>Lorianne Herley    </td><td>11/30/1984</td><td>lherley1d@baidu.com        </td><td>AS</td><td>33535</td><td>8/18/2022 </td><td>travel</td></tr>\n",
              "\t<tr><th scope=row>51</th><td>abalmadier1e </td><td>Abra Balmadier     </td><td>          </td><td>abalmadier1e@1und1.de      </td><td>AF</td><td>30487</td><td>          </td><td>music </td></tr>\n",
              "\t<tr><th scope=row>⋮</th><td>⋮</td><td>⋮</td><td>⋮</td><td>⋮</td><td>⋮</td><td>⋮</td><td>⋮</td><td>⋮</td></tr>\n",
              "\t<tr><th scope=row>1264</th><td>ebroomq9      </td><td>Early Broom         </td><td>3/10/2000 </td><td>ebroomq9@fastcompany.com           </td><td>AF</td><td>98606</td><td>10/22/2023</td><td>sports</td></tr>\n",
              "\t<tr><th scope=row>1265</th><td>ffanthomeqa   </td><td>Fabe Fanthome       </td><td>3/24/1994 </td><td>ffanthomeqa@redcross.org           </td><td>EU</td><td>62888</td><td>6/8/2022  </td><td>travel</td></tr>\n",
              "\t<tr><th scope=row>1266</th><td>jmacaskillqb  </td><td>Jinny MacAskill     </td><td>9/20/2002 </td><td>jmacaskillqb@weebly.com            </td><td>OC</td><td>67895</td><td>11/10/2020</td><td>travel</td></tr>\n",
              "\t<tr><th scope=row>1269</th><td>clabbqe       </td><td>Constantia Labb     </td><td>4/29/1983 </td><td>clabbqe@phpbb.com                  </td><td>AS</td><td>19170</td><td>4/17/2020 </td><td>sports</td></tr>\n",
              "\t<tr><th scope=row>1272</th><td>iavrahmqh     </td><td>Inga Avrahm         </td><td>          </td><td>iavrahmqh@issuu.com                </td><td>EU</td><td>75788</td><td>          </td><td>sports</td></tr>\n",
              "\t<tr><th scope=row>1273</th><td>mmatteaqi     </td><td>Maxy Mattea         </td><td>1/14/1991 </td><td>mmatteaqi@mit.edu                  </td><td>AS</td><td>58766</td><td>12/16/2021</td><td>travel</td></tr>\n",
              "\t<tr><th scope=row>1276</th><td>lbilneyql     </td><td>Lynn Bilney         </td><td>          </td><td>lbilneyql@last.fm                  </td><td>AS</td><td> 4473</td><td>5/12/2022 </td><td>music </td></tr>\n",
              "\t<tr><th scope=row>1277</th><td>hscraceqm     </td><td>Haze Scrace         </td><td>6/11/2001 </td><td>hscraceqm@economist.com            </td><td>AS</td><td>12639</td><td>9/6/2020  </td><td>music </td></tr>\n",
              "\t<tr><th scope=row>1279</th><td>ccuncliffeqo  </td><td>Clotilda Cuncliffe  </td><td>4/12/1984 </td><td>ccuncliffeqo@nhs.uk                </td><td>OC</td><td>79364</td><td>          </td><td>travel</td></tr>\n",
              "\t<tr><th scope=row>1280</th><td>lbyasqp       </td><td>Lothaire Byas       </td><td>1/28/1992 </td><td>lbyasqp@merriam-webster.com        </td><td>SA</td><td>10235</td><td>8/22/2021 </td><td>sports</td></tr>\n",
              "\t<tr><th scope=row>1281</th><td>vpierpointqq  </td><td>Valentin Pierpoint  </td><td>5/16/1998 </td><td>vpierpointqq@networkadvertising.org</td><td>AS</td><td>48776</td><td>          </td><td>music </td></tr>\n",
              "\t<tr><th scope=row>1284</th><td>cvogeleinqt   </td><td>Codi Vogelein       </td><td>1/20/1998 </td><td>cvogeleinqt@stanford.edu           </td><td>EU</td><td>47689</td><td>5/6/2023  </td><td>travel</td></tr>\n",
              "\t<tr><th scope=row>1285</th><td>lblinkhornqu  </td><td>Lolita Blinkhorn    </td><td>6/11/1980 </td><td>lblinkhornqu@hud.gov               </td><td>AS</td><td>64080</td><td>9/23/2023 </td><td>sports</td></tr>\n",
              "\t<tr><th scope=row>1288</th><td>tmacdearmaidqx</td><td>Tamara MacDearmaid  </td><td>          </td><td>tmacdearmaidqx@nymag.com           </td><td>EU</td><td>30665</td><td>          </td><td>music </td></tr>\n",
              "\t<tr><th scope=row>1289</th><td>sargerqy      </td><td>Shane Arger         </td><td>2/21/1992 </td><td>sargerqy@exblog.jp                 </td><td>AF</td><td>53022</td><td>12/7/2021 </td><td>music </td></tr>\n",
              "\t<tr><th scope=row>1291</th><td>bgerwoodr0    </td><td>Beverlee Gerwood    </td><td>1/29/1980 </td><td>bgerwoodr0@fotki.com               </td><td>AS</td><td>22633</td><td>          </td><td>music </td></tr>\n",
              "\t<tr><th scope=row>1295</th><td>ksturdeyr4    </td><td>Krissie Sturdey     </td><td>8/13/1980 </td><td>ksturdeyr4@skyrock.com             </td><td>SA</td><td>37880</td><td>4/17/2020 </td><td>travel</td></tr>\n",
              "\t<tr><th scope=row>1296</th><td>qrogeronr5    </td><td>Quent Rogeron       </td><td>          </td><td>qrogeronr5@merriam-webster.com     </td><td>SA</td><td>76526</td><td>8/22/2023 </td><td>travel</td></tr>\n",
              "\t<tr><th scope=row>1297</th><td>ggerrillr6    </td><td>Genevieve Gerrill   </td><td>8/16/1994 </td><td>ggerrillr6@xrea.com                </td><td>OC</td><td>78326</td><td>4/30/2022 </td><td>sports</td></tr>\n",
              "\t<tr><th scope=row>1300</th><td>rleningr9     </td><td>Roch Lening         </td><td>9/1/1981  </td><td>rleningr9@taobao.com               </td><td>OC</td><td>21333</td><td>2/23/2020 </td><td>music </td></tr>\n",
              "\t<tr><th scope=row>1301</th><td>gbilbeyra     </td><td>Grannie Bilbey      </td><td>6/22/1992 </td><td>gbilbeyra@wisc.edu                 </td><td>AS</td><td>77316</td><td>5/4/2022  </td><td>music </td></tr>\n",
              "\t<tr><th scope=row>1304</th><td>efursserd     </td><td>Ekaterina Fursse    </td><td>7/13/1994 </td><td>efursserd@flickr.com               </td><td>AS</td><td>83588</td><td>          </td><td>travel</td></tr>\n",
              "\t<tr><th scope=row>1305</th><td>acaldicottre  </td><td>Ashlee Caldicott    </td><td>2/2/1996  </td><td>acaldicottre@furl.net              </td><td>OC</td><td>67530</td><td>2/15/2022 </td><td>music </td></tr>\n",
              "\t<tr><th scope=row>1306</th><td>fdorgonrf     </td><td>Fritz Dorgon        </td><td>          </td><td>fdorgonrf@homestead.com            </td><td>AS</td><td>33272</td><td>          </td><td>music </td></tr>\n",
              "\t<tr><th scope=row>1307</th><td>kklicherg     </td><td>Kristine Kliche     </td><td>10/20/1983</td><td>kklicherg@indiatimes.com           </td><td>EU</td><td> 8487</td><td>          </td><td>music </td></tr>\n",
              "\t<tr><th scope=row>1308</th><td>jbirchallrh   </td><td>Jinny Birchall      </td><td>11/3/1987 </td><td>jbirchallrh@senate.gov             </td><td>AF</td><td>76102</td><td>3/4/2022  </td><td>music </td></tr>\n",
              "\t<tr><th scope=row>1309</th><td>lnorwellri    </td><td>Lelia Norwell       </td><td>          </td><td>lnorwellri@slate.com               </td><td>SA</td><td>51920</td><td>1/11/2023 </td><td>travel</td></tr>\n",
              "\t<tr><th scope=row>1312</th><td>hransomrl     </td><td>Helenka Ransom      </td><td>          </td><td>hransomrl@qq.com                   </td><td>EU</td><td>69467</td><td>7/29/2023 </td><td>music </td></tr>\n",
              "\t<tr><th scope=row>1313</th><td>vmacterrellyrm</td><td>Virginie MacTerrelly</td><td>10/8/1994 </td><td>vmacterrellyrm@dailymotion.com     </td><td>AS</td><td>   81</td><td>9/11/2023 </td><td>sports</td></tr>\n",
              "\t<tr><th scope=row>1314</th><td>sschafflerrn  </td><td>Sallyann Schaffler  </td><td>12/7/1999 </td><td>sschafflerrn@wsj.com               </td><td>OC</td><td>89752</td><td>9/20/2020 </td><td>sports</td></tr>\n",
              "</tbody>\n",
              "</table>\n"
            ],
            "text/markdown": "\nA data.frame: 653 × 8\n\n| <!--/--> | username &lt;chr&gt; | full_name &lt;chr&gt; | birthdate &lt;chr&gt; | email &lt;chr&gt; | continent &lt;chr&gt; | followers &lt;int&gt; | last_login &lt;chr&gt; | interests &lt;chr&gt; |\n|---|---|---|---|---|---|---|---|---|\n| 4 | rphettis3     | Ruddy Phettis       | 6/18/1984  | rphettis3@npr.org           | EU | 80047 | 9/20/2023  | travel |\n| 6 | fhampson5     | Farrell Hampson     | 11/7/1985  | fhampson5@lulu.com          | OC | 72161 | <!----> | sports |\n| 7 | ttotman6      | Tamqrah Totman      | 8/7/1986   | ttotman6@elpais.com         | AF | 42669 | 3/10/2023  | music  |\n| 9 | kgrigoryev8   | Krishna Grigoryev   | 5/25/1990  | kgrigoryev8@quantcast.com   | EU | 93923 | 1/30/2023  | travel |\n| 10 | mbathoe9      | Mallissa Bathoe     | <!----> | mbathoe9@bloomberg.com      | AS | 18554 | 3/5/2022   | travel |\n| 11 | hallensona    | Hayward Allenson    | 3/15/1983  | hallensona@wp.com           | AF | 81042 | <!----> | travel |\n| 12 | mchittockb    | Myriam Chittock     | 1/26/1989  | mchittockb@uiuc.edu         | AF | 46304 | 8/29/2023  | sports |\n| 14 | aeasbyd       | Alessandra Easby    | 1/5/1991   | aeasbyd@google.ca           | AF | 16786 | 6/15/2023  | sports |\n| 19 | omarusiki     | Otha Marusik        | 12/4/1992  | omarusiki@cdbaby.com        | AF | 93981 | 2/4/2022   | travel |\n| 21 | sspenclayk    | Scott Spenclay      | 12/7/1989  | sspenclayk@wikispaces.com   | AF | 31745 | 11/29/2022 | sports |\n| 22 | gklinckl      | Georgetta Klinck    | 7/26/1996  | gklinckl@over-blog.com      | SA | 69386 | 9/10/2023  | sports |\n| 23 | rhollowm      | Riccardo Hollow     | 1/18/1980  | rhollowm@dyndns.org         | OC | 73088 | 1/22/2020  | sports |\n| 24 | atrouncen     | Aube Trounce        | 9/5/1984   | atrouncen@shinystat.com     | AS | 51692 | <!----> | music  |\n| 25 | jquareo       | Joey Quare          | 11/19/1999 | jquareo@furl.net            | AF | 68116 | <!----> | sports |\n| 26 | rbellonp      | Rodolph Bellon      | 8/30/2002  | rbellonp@cisco.com          | AF | 96337 | <!----> | music  |\n| 27 | chawesq       | Courtnay Hawes      | <!----> | chawesq@deviantart.com      | AF |   435 | 3/19/2023  | music  |\n| 28 | acheshirr     | Ali Cheshir         | 4/19/1998  | acheshirr@phoca.cz          | AS | 79802 | <!----> | sports |\n| 30 | ddimmockt     | Didi Dimmock        | 5/15/1985  | ddimmockt@wired.com         | EU | 81726 | 4/23/2021  | sports |\n| 31 | fpythonu      | Franz Python        | 4/5/1984   | fpythonu@fastcompany.com    | SA | 28388 | 7/9/2023   | music  |\n| 34 | sledgertonx   | Sheffield Ledgerton | <!----> | sledgertonx@geocities.com   | OC |  1891 | 9/13/2021  | music  |\n| 35 | gwherretty    | Gillan Wherrett     | <!----> | gwherretty@berkeley.edu     | AS | 48390 | <!----> | sports |\n| 36 | amcclellandz  | Annabela McClelland | 8/12/1983  | amcclellandz@soundcloud.com | AF | 51483 | 5/3/2020   | sports |\n| 38 | kpietzker11   | Keane Pietzker      | 11/26/1996 | kpietzker11@tumblr.com      | AS | 96249 | 8/7/2023   | music  |\n| 39 | olandreth12   | Orsa Landreth       | 1/10/2000  | olandreth12@oaic.gov.au     | SA | 21065 | 9/2/2020   | music  |\n| 41 | clettice14    | Cosette Lettice     | 12/23/1981 | clettice14@cmu.edu          | AS | 58637 | 12/7/2021  | travel |\n| 46 | lcordobes19   | Leigha Cordobes     | <!----> | lcordobes19@phpbb.com       | EU | 32458 | 12/15/2020 | music  |\n| 48 | bgribbon1b    | Bennie Gribbon      | 11/12/1984 | bgribbon1b@dailymail.co.uk  | AS |  8772 | 11/21/2021 | music  |\n| 49 | tofearguise1c | Tiebold O'Fearguise | 5/12/1997  | tofearguise1c@a8.net        | EU | 86771 | <!----> | music  |\n| 50 | lherley1d     | Lorianne Herley     | 11/30/1984 | lherley1d@baidu.com         | AS | 33535 | 8/18/2022  | travel |\n| 51 | abalmadier1e  | Abra Balmadier      | <!----> | abalmadier1e@1und1.de       | AF | 30487 | <!----> | music  |\n| ⋮ | ⋮ | ⋮ | ⋮ | ⋮ | ⋮ | ⋮ | ⋮ | ⋮ |\n| 1264 | ebroomq9       | Early Broom          | 3/10/2000  | ebroomq9@fastcompany.com            | AF | 98606 | 10/22/2023 | sports |\n| 1265 | ffanthomeqa    | Fabe Fanthome        | 3/24/1994  | ffanthomeqa@redcross.org            | EU | 62888 | 6/8/2022   | travel |\n| 1266 | jmacaskillqb   | Jinny MacAskill      | 9/20/2002  | jmacaskillqb@weebly.com             | OC | 67895 | 11/10/2020 | travel |\n| 1269 | clabbqe        | Constantia Labb      | 4/29/1983  | clabbqe@phpbb.com                   | AS | 19170 | 4/17/2020  | sports |\n| 1272 | iavrahmqh      | Inga Avrahm          | <!----> | iavrahmqh@issuu.com                 | EU | 75788 | <!----> | sports |\n| 1273 | mmatteaqi      | Maxy Mattea          | 1/14/1991  | mmatteaqi@mit.edu                   | AS | 58766 | 12/16/2021 | travel |\n| 1276 | lbilneyql      | Lynn Bilney          | <!----> | lbilneyql@last.fm                   | AS |  4473 | 5/12/2022  | music  |\n| 1277 | hscraceqm      | Haze Scrace          | 6/11/2001  | hscraceqm@economist.com             | AS | 12639 | 9/6/2020   | music  |\n| 1279 | ccuncliffeqo   | Clotilda Cuncliffe   | 4/12/1984  | ccuncliffeqo@nhs.uk                 | OC | 79364 | <!----> | travel |\n| 1280 | lbyasqp        | Lothaire Byas        | 1/28/1992  | lbyasqp@merriam-webster.com         | SA | 10235 | 8/22/2021  | sports |\n| 1281 | vpierpointqq   | Valentin Pierpoint   | 5/16/1998  | vpierpointqq@networkadvertising.org | AS | 48776 | <!----> | music  |\n| 1284 | cvogeleinqt    | Codi Vogelein        | 1/20/1998  | cvogeleinqt@stanford.edu            | EU | 47689 | 5/6/2023   | travel |\n| 1285 | lblinkhornqu   | Lolita Blinkhorn     | 6/11/1980  | lblinkhornqu@hud.gov                | AS | 64080 | 9/23/2023  | sports |\n| 1288 | tmacdearmaidqx | Tamara MacDearmaid   | <!----> | tmacdearmaidqx@nymag.com            | EU | 30665 | <!----> | music  |\n| 1289 | sargerqy       | Shane Arger          | 2/21/1992  | sargerqy@exblog.jp                  | AF | 53022 | 12/7/2021  | music  |\n| 1291 | bgerwoodr0     | Beverlee Gerwood     | 1/29/1980  | bgerwoodr0@fotki.com                | AS | 22633 | <!----> | music  |\n| 1295 | ksturdeyr4     | Krissie Sturdey      | 8/13/1980  | ksturdeyr4@skyrock.com              | SA | 37880 | 4/17/2020  | travel |\n| 1296 | qrogeronr5     | Quent Rogeron        | <!----> | qrogeronr5@merriam-webster.com      | SA | 76526 | 8/22/2023  | travel |\n| 1297 | ggerrillr6     | Genevieve Gerrill    | 8/16/1994  | ggerrillr6@xrea.com                 | OC | 78326 | 4/30/2022  | sports |\n| 1300 | rleningr9      | Roch Lening          | 9/1/1981   | rleningr9@taobao.com                | OC | 21333 | 2/23/2020  | music  |\n| 1301 | gbilbeyra      | Grannie Bilbey       | 6/22/1992  | gbilbeyra@wisc.edu                  | AS | 77316 | 5/4/2022   | music  |\n| 1304 | efursserd      | Ekaterina Fursse     | 7/13/1994  | efursserd@flickr.com                | AS | 83588 | <!----> | travel |\n| 1305 | acaldicottre   | Ashlee Caldicott     | 2/2/1996   | acaldicottre@furl.net               | OC | 67530 | 2/15/2022  | music  |\n| 1306 | fdorgonrf      | Fritz Dorgon         | <!----> | fdorgonrf@homestead.com             | AS | 33272 | <!----> | music  |\n| 1307 | kklicherg      | Kristine Kliche      | 10/20/1983 | kklicherg@indiatimes.com            | EU |  8487 | <!----> | music  |\n| 1308 | jbirchallrh    | Jinny Birchall       | 11/3/1987  | jbirchallrh@senate.gov              | AF | 76102 | 3/4/2022   | music  |\n| 1309 | lnorwellri     | Lelia Norwell        | <!----> | lnorwellri@slate.com                | SA | 51920 | 1/11/2023  | travel |\n| 1312 | hransomrl      | Helenka Ransom       | <!----> | hransomrl@qq.com                    | EU | 69467 | 7/29/2023  | music  |\n| 1313 | vmacterrellyrm | Virginie MacTerrelly | 10/8/1994  | vmacterrellyrm@dailymotion.com      | AS |    81 | 9/11/2023  | sports |\n| 1314 | sschafflerrn   | Sallyann Schaffler   | 12/7/1999  | sschafflerrn@wsj.com                | OC | 89752 | 9/20/2020  | sports |\n\n",
            "text/latex": "A data.frame: 653 × 8\n\\begin{tabular}{r|llllllll}\n  & username & full\\_name & birthdate & email & continent & followers & last\\_login & interests\\\\\n  & <chr> & <chr> & <chr> & <chr> & <chr> & <int> & <chr> & <chr>\\\\\n\\hline\n\t4 & rphettis3     & Ruddy Phettis       & 6/18/1984  & rphettis3@npr.org           & EU & 80047 & 9/20/2023  & travel\\\\\n\t6 & fhampson5     & Farrell Hampson     & 11/7/1985  & fhampson5@lulu.com          & OC & 72161 &            & sports\\\\\n\t7 & ttotman6      & Tamqrah Totman      & 8/7/1986   & ttotman6@elpais.com         & AF & 42669 & 3/10/2023  & music \\\\\n\t9 & kgrigoryev8   & Krishna Grigoryev   & 5/25/1990  & kgrigoryev8@quantcast.com   & EU & 93923 & 1/30/2023  & travel\\\\\n\t10 & mbathoe9      & Mallissa Bathoe     &            & mbathoe9@bloomberg.com      & AS & 18554 & 3/5/2022   & travel\\\\\n\t11 & hallensona    & Hayward Allenson    & 3/15/1983  & hallensona@wp.com           & AF & 81042 &            & travel\\\\\n\t12 & mchittockb    & Myriam Chittock     & 1/26/1989  & mchittockb@uiuc.edu         & AF & 46304 & 8/29/2023  & sports\\\\\n\t14 & aeasbyd       & Alessandra Easby    & 1/5/1991   & aeasbyd@google.ca           & AF & 16786 & 6/15/2023  & sports\\\\\n\t19 & omarusiki     & Otha Marusik        & 12/4/1992  & omarusiki@cdbaby.com        & AF & 93981 & 2/4/2022   & travel\\\\\n\t21 & sspenclayk    & Scott Spenclay      & 12/7/1989  & sspenclayk@wikispaces.com   & AF & 31745 & 11/29/2022 & sports\\\\\n\t22 & gklinckl      & Georgetta Klinck    & 7/26/1996  & gklinckl@over-blog.com      & SA & 69386 & 9/10/2023  & sports\\\\\n\t23 & rhollowm      & Riccardo Hollow     & 1/18/1980  & rhollowm@dyndns.org         & OC & 73088 & 1/22/2020  & sports\\\\\n\t24 & atrouncen     & Aube Trounce        & 9/5/1984   & atrouncen@shinystat.com     & AS & 51692 &            & music \\\\\n\t25 & jquareo       & Joey Quare          & 11/19/1999 & jquareo@furl.net            & AF & 68116 &            & sports\\\\\n\t26 & rbellonp      & Rodolph Bellon      & 8/30/2002  & rbellonp@cisco.com          & AF & 96337 &            & music \\\\\n\t27 & chawesq       & Courtnay Hawes      &            & chawesq@deviantart.com      & AF &   435 & 3/19/2023  & music \\\\\n\t28 & acheshirr     & Ali Cheshir         & 4/19/1998  & acheshirr@phoca.cz          & AS & 79802 &            & sports\\\\\n\t30 & ddimmockt     & Didi Dimmock        & 5/15/1985  & ddimmockt@wired.com         & EU & 81726 & 4/23/2021  & sports\\\\\n\t31 & fpythonu      & Franz Python        & 4/5/1984   & fpythonu@fastcompany.com    & SA & 28388 & 7/9/2023   & music \\\\\n\t34 & sledgertonx   & Sheffield Ledgerton &            & sledgertonx@geocities.com   & OC &  1891 & 9/13/2021  & music \\\\\n\t35 & gwherretty    & Gillan Wherrett     &            & gwherretty@berkeley.edu     & AS & 48390 &            & sports\\\\\n\t36 & amcclellandz  & Annabela McClelland & 8/12/1983  & amcclellandz@soundcloud.com & AF & 51483 & 5/3/2020   & sports\\\\\n\t38 & kpietzker11   & Keane Pietzker      & 11/26/1996 & kpietzker11@tumblr.com      & AS & 96249 & 8/7/2023   & music \\\\\n\t39 & olandreth12   & Orsa Landreth       & 1/10/2000  & olandreth12@oaic.gov.au     & SA & 21065 & 9/2/2020   & music \\\\\n\t41 & clettice14    & Cosette Lettice     & 12/23/1981 & clettice14@cmu.edu          & AS & 58637 & 12/7/2021  & travel\\\\\n\t46 & lcordobes19   & Leigha Cordobes     &            & lcordobes19@phpbb.com       & EU & 32458 & 12/15/2020 & music \\\\\n\t48 & bgribbon1b    & Bennie Gribbon      & 11/12/1984 & bgribbon1b@dailymail.co.uk  & AS &  8772 & 11/21/2021 & music \\\\\n\t49 & tofearguise1c & Tiebold O'Fearguise & 5/12/1997  & tofearguise1c@a8.net        & EU & 86771 &            & music \\\\\n\t50 & lherley1d     & Lorianne Herley     & 11/30/1984 & lherley1d@baidu.com         & AS & 33535 & 8/18/2022  & travel\\\\\n\t51 & abalmadier1e  & Abra Balmadier      &            & abalmadier1e@1und1.de       & AF & 30487 &            & music \\\\\n\t⋮ & ⋮ & ⋮ & ⋮ & ⋮ & ⋮ & ⋮ & ⋮ & ⋮\\\\\n\t1264 & ebroomq9       & Early Broom          & 3/10/2000  & ebroomq9@fastcompany.com            & AF & 98606 & 10/22/2023 & sports\\\\\n\t1265 & ffanthomeqa    & Fabe Fanthome        & 3/24/1994  & ffanthomeqa@redcross.org            & EU & 62888 & 6/8/2022   & travel\\\\\n\t1266 & jmacaskillqb   & Jinny MacAskill      & 9/20/2002  & jmacaskillqb@weebly.com             & OC & 67895 & 11/10/2020 & travel\\\\\n\t1269 & clabbqe        & Constantia Labb      & 4/29/1983  & clabbqe@phpbb.com                   & AS & 19170 & 4/17/2020  & sports\\\\\n\t1272 & iavrahmqh      & Inga Avrahm          &            & iavrahmqh@issuu.com                 & EU & 75788 &            & sports\\\\\n\t1273 & mmatteaqi      & Maxy Mattea          & 1/14/1991  & mmatteaqi@mit.edu                   & AS & 58766 & 12/16/2021 & travel\\\\\n\t1276 & lbilneyql      & Lynn Bilney          &            & lbilneyql@last.fm                   & AS &  4473 & 5/12/2022  & music \\\\\n\t1277 & hscraceqm      & Haze Scrace          & 6/11/2001  & hscraceqm@economist.com             & AS & 12639 & 9/6/2020   & music \\\\\n\t1279 & ccuncliffeqo   & Clotilda Cuncliffe   & 4/12/1984  & ccuncliffeqo@nhs.uk                 & OC & 79364 &            & travel\\\\\n\t1280 & lbyasqp        & Lothaire Byas        & 1/28/1992  & lbyasqp@merriam-webster.com         & SA & 10235 & 8/22/2021  & sports\\\\\n\t1281 & vpierpointqq   & Valentin Pierpoint   & 5/16/1998  & vpierpointqq@networkadvertising.org & AS & 48776 &            & music \\\\\n\t1284 & cvogeleinqt    & Codi Vogelein        & 1/20/1998  & cvogeleinqt@stanford.edu            & EU & 47689 & 5/6/2023   & travel\\\\\n\t1285 & lblinkhornqu   & Lolita Blinkhorn     & 6/11/1980  & lblinkhornqu@hud.gov                & AS & 64080 & 9/23/2023  & sports\\\\\n\t1288 & tmacdearmaidqx & Tamara MacDearmaid   &            & tmacdearmaidqx@nymag.com            & EU & 30665 &            & music \\\\\n\t1289 & sargerqy       & Shane Arger          & 2/21/1992  & sargerqy@exblog.jp                  & AF & 53022 & 12/7/2021  & music \\\\\n\t1291 & bgerwoodr0     & Beverlee Gerwood     & 1/29/1980  & bgerwoodr0@fotki.com                & AS & 22633 &            & music \\\\\n\t1295 & ksturdeyr4     & Krissie Sturdey      & 8/13/1980  & ksturdeyr4@skyrock.com              & SA & 37880 & 4/17/2020  & travel\\\\\n\t1296 & qrogeronr5     & Quent Rogeron        &            & qrogeronr5@merriam-webster.com      & SA & 76526 & 8/22/2023  & travel\\\\\n\t1297 & ggerrillr6     & Genevieve Gerrill    & 8/16/1994  & ggerrillr6@xrea.com                 & OC & 78326 & 4/30/2022  & sports\\\\\n\t1300 & rleningr9      & Roch Lening          & 9/1/1981   & rleningr9@taobao.com                & OC & 21333 & 2/23/2020  & music \\\\\n\t1301 & gbilbeyra      & Grannie Bilbey       & 6/22/1992  & gbilbeyra@wisc.edu                  & AS & 77316 & 5/4/2022   & music \\\\\n\t1304 & efursserd      & Ekaterina Fursse     & 7/13/1994  & efursserd@flickr.com                & AS & 83588 &            & travel\\\\\n\t1305 & acaldicottre   & Ashlee Caldicott     & 2/2/1996   & acaldicottre@furl.net               & OC & 67530 & 2/15/2022  & music \\\\\n\t1306 & fdorgonrf      & Fritz Dorgon         &            & fdorgonrf@homestead.com             & AS & 33272 &            & music \\\\\n\t1307 & kklicherg      & Kristine Kliche      & 10/20/1983 & kklicherg@indiatimes.com            & EU &  8487 &            & music \\\\\n\t1308 & jbirchallrh    & Jinny Birchall       & 11/3/1987  & jbirchallrh@senate.gov              & AF & 76102 & 3/4/2022   & music \\\\\n\t1309 & lnorwellri     & Lelia Norwell        &            & lnorwellri@slate.com                & SA & 51920 & 1/11/2023  & travel\\\\\n\t1312 & hransomrl      & Helenka Ransom       &            & hransomrl@qq.com                    & EU & 69467 & 7/29/2023  & music \\\\\n\t1313 & vmacterrellyrm & Virginie MacTerrelly & 10/8/1994  & vmacterrellyrm@dailymotion.com      & AS &    81 & 9/11/2023  & sports\\\\\n\t1314 & sschafflerrn   & Sallyann Schaffler   & 12/7/1999  & sschafflerrn@wsj.com                & OC & 89752 & 9/20/2020  & sports\\\\\n\\end{tabular}\n",
            "text/plain": [
              "     username       full_name            birthdate \n",
              "4    rphettis3      Ruddy Phettis        6/18/1984 \n",
              "6    fhampson5      Farrell Hampson      11/7/1985 \n",
              "7    ttotman6       Tamqrah Totman       8/7/1986  \n",
              "9    kgrigoryev8    Krishna Grigoryev    5/25/1990 \n",
              "10   mbathoe9       Mallissa Bathoe                \n",
              "11   hallensona     Hayward Allenson     3/15/1983 \n",
              "12   mchittockb     Myriam Chittock      1/26/1989 \n",
              "14   aeasbyd        Alessandra Easby     1/5/1991  \n",
              "19   omarusiki      Otha Marusik         12/4/1992 \n",
              "21   sspenclayk     Scott Spenclay       12/7/1989 \n",
              "22   gklinckl       Georgetta Klinck     7/26/1996 \n",
              "23   rhollowm       Riccardo Hollow      1/18/1980 \n",
              "24   atrouncen      Aube Trounce         9/5/1984  \n",
              "25   jquareo        Joey Quare           11/19/1999\n",
              "26   rbellonp       Rodolph Bellon       8/30/2002 \n",
              "27   chawesq        Courtnay Hawes                 \n",
              "28   acheshirr      Ali Cheshir          4/19/1998 \n",
              "30   ddimmockt      Didi Dimmock         5/15/1985 \n",
              "31   fpythonu       Franz Python         4/5/1984  \n",
              "34   sledgertonx    Sheffield Ledgerton            \n",
              "35   gwherretty     Gillan Wherrett                \n",
              "36   amcclellandz   Annabela McClelland  8/12/1983 \n",
              "38   kpietzker11    Keane Pietzker       11/26/1996\n",
              "39   olandreth12    Orsa Landreth        1/10/2000 \n",
              "41   clettice14     Cosette Lettice      12/23/1981\n",
              "46   lcordobes19    Leigha Cordobes                \n",
              "48   bgribbon1b     Bennie Gribbon       11/12/1984\n",
              "49   tofearguise1c  Tiebold O'Fearguise  5/12/1997 \n",
              "50   lherley1d      Lorianne Herley      11/30/1984\n",
              "51   abalmadier1e   Abra Balmadier                 \n",
              "⋮    ⋮              ⋮                    ⋮         \n",
              "1264 ebroomq9       Early Broom          3/10/2000 \n",
              "1265 ffanthomeqa    Fabe Fanthome        3/24/1994 \n",
              "1266 jmacaskillqb   Jinny MacAskill      9/20/2002 \n",
              "1269 clabbqe        Constantia Labb      4/29/1983 \n",
              "1272 iavrahmqh      Inga Avrahm                    \n",
              "1273 mmatteaqi      Maxy Mattea          1/14/1991 \n",
              "1276 lbilneyql      Lynn Bilney                    \n",
              "1277 hscraceqm      Haze Scrace          6/11/2001 \n",
              "1279 ccuncliffeqo   Clotilda Cuncliffe   4/12/1984 \n",
              "1280 lbyasqp        Lothaire Byas        1/28/1992 \n",
              "1281 vpierpointqq   Valentin Pierpoint   5/16/1998 \n",
              "1284 cvogeleinqt    Codi Vogelein        1/20/1998 \n",
              "1285 lblinkhornqu   Lolita Blinkhorn     6/11/1980 \n",
              "1288 tmacdearmaidqx Tamara MacDearmaid             \n",
              "1289 sargerqy       Shane Arger          2/21/1992 \n",
              "1291 bgerwoodr0     Beverlee Gerwood     1/29/1980 \n",
              "1295 ksturdeyr4     Krissie Sturdey      8/13/1980 \n",
              "1296 qrogeronr5     Quent Rogeron                  \n",
              "1297 ggerrillr6     Genevieve Gerrill    8/16/1994 \n",
              "1300 rleningr9      Roch Lening          9/1/1981  \n",
              "1301 gbilbeyra      Grannie Bilbey       6/22/1992 \n",
              "1304 efursserd      Ekaterina Fursse     7/13/1994 \n",
              "1305 acaldicottre   Ashlee Caldicott     2/2/1996  \n",
              "1306 fdorgonrf      Fritz Dorgon                   \n",
              "1307 kklicherg      Kristine Kliche      10/20/1983\n",
              "1308 jbirchallrh    Jinny Birchall       11/3/1987 \n",
              "1309 lnorwellri     Lelia Norwell                  \n",
              "1312 hransomrl      Helenka Ransom                 \n",
              "1313 vmacterrellyrm Virginie MacTerrelly 10/8/1994 \n",
              "1314 sschafflerrn   Sallyann Schaffler   12/7/1999 \n",
              "     email                               continent followers last_login\n",
              "4    rphettis3@npr.org                   EU        80047     9/20/2023 \n",
              "6    fhampson5@lulu.com                  OC        72161               \n",
              "7    ttotman6@elpais.com                 AF        42669     3/10/2023 \n",
              "9    kgrigoryev8@quantcast.com           EU        93923     1/30/2023 \n",
              "10   mbathoe9@bloomberg.com              AS        18554     3/5/2022  \n",
              "11   hallensona@wp.com                   AF        81042               \n",
              "12   mchittockb@uiuc.edu                 AF        46304     8/29/2023 \n",
              "14   aeasbyd@google.ca                   AF        16786     6/15/2023 \n",
              "19   omarusiki@cdbaby.com                AF        93981     2/4/2022  \n",
              "21   sspenclayk@wikispaces.com           AF        31745     11/29/2022\n",
              "22   gklinckl@over-blog.com              SA        69386     9/10/2023 \n",
              "23   rhollowm@dyndns.org                 OC        73088     1/22/2020 \n",
              "24   atrouncen@shinystat.com             AS        51692               \n",
              "25   jquareo@furl.net                    AF        68116               \n",
              "26   rbellonp@cisco.com                  AF        96337               \n",
              "27   chawesq@deviantart.com              AF          435     3/19/2023 \n",
              "28   acheshirr@phoca.cz                  AS        79802               \n",
              "30   ddimmockt@wired.com                 EU        81726     4/23/2021 \n",
              "31   fpythonu@fastcompany.com            SA        28388     7/9/2023  \n",
              "34   sledgertonx@geocities.com           OC         1891     9/13/2021 \n",
              "35   gwherretty@berkeley.edu             AS        48390               \n",
              "36   amcclellandz@soundcloud.com         AF        51483     5/3/2020  \n",
              "38   kpietzker11@tumblr.com              AS        96249     8/7/2023  \n",
              "39   olandreth12@oaic.gov.au             SA        21065     9/2/2020  \n",
              "41   clettice14@cmu.edu                  AS        58637     12/7/2021 \n",
              "46   lcordobes19@phpbb.com               EU        32458     12/15/2020\n",
              "48   bgribbon1b@dailymail.co.uk          AS         8772     11/21/2021\n",
              "49   tofearguise1c@a8.net                EU        86771               \n",
              "50   lherley1d@baidu.com                 AS        33535     8/18/2022 \n",
              "51   abalmadier1e@1und1.de               AF        30487               \n",
              "⋮    ⋮                                   ⋮         ⋮         ⋮         \n",
              "1264 ebroomq9@fastcompany.com            AF        98606     10/22/2023\n",
              "1265 ffanthomeqa@redcross.org            EU        62888     6/8/2022  \n",
              "1266 jmacaskillqb@weebly.com             OC        67895     11/10/2020\n",
              "1269 clabbqe@phpbb.com                   AS        19170     4/17/2020 \n",
              "1272 iavrahmqh@issuu.com                 EU        75788               \n",
              "1273 mmatteaqi@mit.edu                   AS        58766     12/16/2021\n",
              "1276 lbilneyql@last.fm                   AS         4473     5/12/2022 \n",
              "1277 hscraceqm@economist.com             AS        12639     9/6/2020  \n",
              "1279 ccuncliffeqo@nhs.uk                 OC        79364               \n",
              "1280 lbyasqp@merriam-webster.com         SA        10235     8/22/2021 \n",
              "1281 vpierpointqq@networkadvertising.org AS        48776               \n",
              "1284 cvogeleinqt@stanford.edu            EU        47689     5/6/2023  \n",
              "1285 lblinkhornqu@hud.gov                AS        64080     9/23/2023 \n",
              "1288 tmacdearmaidqx@nymag.com            EU        30665               \n",
              "1289 sargerqy@exblog.jp                  AF        53022     12/7/2021 \n",
              "1291 bgerwoodr0@fotki.com                AS        22633               \n",
              "1295 ksturdeyr4@skyrock.com              SA        37880     4/17/2020 \n",
              "1296 qrogeronr5@merriam-webster.com      SA        76526     8/22/2023 \n",
              "1297 ggerrillr6@xrea.com                 OC        78326     4/30/2022 \n",
              "1300 rleningr9@taobao.com                OC        21333     2/23/2020 \n",
              "1301 gbilbeyra@wisc.edu                  AS        77316     5/4/2022  \n",
              "1304 efursserd@flickr.com                AS        83588               \n",
              "1305 acaldicottre@furl.net               OC        67530     2/15/2022 \n",
              "1306 fdorgonrf@homestead.com             AS        33272               \n",
              "1307 kklicherg@indiatimes.com            EU         8487               \n",
              "1308 jbirchallrh@senate.gov              AF        76102     3/4/2022  \n",
              "1309 lnorwellri@slate.com                SA        51920     1/11/2023 \n",
              "1312 hransomrl@qq.com                    EU        69467     7/29/2023 \n",
              "1313 vmacterrellyrm@dailymotion.com      AS           81     9/11/2023 \n",
              "1314 sschafflerrn@wsj.com                OC        89752     9/20/2020 \n",
              "     interests\n",
              "4    travel   \n",
              "6    sports   \n",
              "7    music    \n",
              "9    travel   \n",
              "10   travel   \n",
              "11   travel   \n",
              "12   sports   \n",
              "14   sports   \n",
              "19   travel   \n",
              "21   sports   \n",
              "22   sports   \n",
              "23   sports   \n",
              "24   music    \n",
              "25   sports   \n",
              "26   music    \n",
              "27   music    \n",
              "28   sports   \n",
              "30   sports   \n",
              "31   music    \n",
              "34   music    \n",
              "35   sports   \n",
              "36   sports   \n",
              "38   music    \n",
              "39   music    \n",
              "41   travel   \n",
              "46   music    \n",
              "48   music    \n",
              "49   music    \n",
              "50   travel   \n",
              "51   music    \n",
              "⋮    ⋮        \n",
              "1264 sports   \n",
              "1265 travel   \n",
              "1266 travel   \n",
              "1269 sports   \n",
              "1272 sports   \n",
              "1273 travel   \n",
              "1276 music    \n",
              "1277 music    \n",
              "1279 travel   \n",
              "1280 sports   \n",
              "1281 music    \n",
              "1284 travel   \n",
              "1285 sports   \n",
              "1288 music    \n",
              "1289 music    \n",
              "1291 music    \n",
              "1295 travel   \n",
              "1296 travel   \n",
              "1297 sports   \n",
              "1300 music    \n",
              "1301 music    \n",
              "1304 travel   \n",
              "1305 music    \n",
              "1306 music    \n",
              "1307 music    \n",
              "1308 music    \n",
              "1309 travel   \n",
              "1312 music    \n",
              "1313 sports   \n",
              "1314 sports   "
            ]
          },
          "metadata": {}
        }
      ]
    },
    {
      "cell_type": "markdown",
      "source": [
        "I'm not sure how to get rid of the empty spaces even though I specified \"\"."
      ],
      "metadata": {
        "id": "nJKIDMC8F6yf"
      }
    },
    {
      "cell_type": "code",
      "source": [
        "#\n",
        "df2 %>%\n",
        "  select(username,full_name,birthdate,email,continent,followers,last_login,interests) %>%\n",
        "  arrange(desc(followers))\n",
        "  df3 <- head(df2, 10)\n",
        "  df3"
      ],
      "metadata": {
        "id": "qQDGiAw-8hLO",
        "outputId": "57bf92f8-2ffb-46a5-e16b-0bc3266d1694",
        "colab": {
          "base_uri": "https://localhost:8080/",
          "height": 1000
        }
      },
      "execution_count": 203,
      "outputs": [
        {
          "output_type": "display_data",
          "data": {
            "text/html": [
              "<table class=\"dataframe\">\n",
              "<caption>A data.frame: 1000 × 8</caption>\n",
              "<thead>\n",
              "\t<tr><th scope=col>username</th><th scope=col>full_name</th><th scope=col>birthdate</th><th scope=col>email</th><th scope=col>continent</th><th scope=col>followers</th><th scope=col>last_login</th><th scope=col>interests</th></tr>\n",
              "\t<tr><th scope=col>&lt;chr&gt;</th><th scope=col>&lt;chr&gt;</th><th scope=col>&lt;chr&gt;</th><th scope=col>&lt;chr&gt;</th><th scope=col>&lt;chr&gt;</th><th scope=col>&lt;int&gt;</th><th scope=col>&lt;chr&gt;</th><th scope=col>&lt;chr&gt;</th></tr>\n",
              "</thead>\n",
              "<tbody>\n",
              "\t<tr><td>lleckeyb6    </td><td>Lynne Leckey        </td><td>4/19/1998 </td><td>lleckeyb6@tripadvisor.com         </td><td>SA</td><td>99977</td><td>3/14/2021 </td><td>sports</td></tr>\n",
              "\t<tr><td>spharoaha2   </td><td>Staci Pharoah       </td><td>9/2/1985  </td><td>spharoaha2@sfgate.com             </td><td>NA</td><td>99905</td><td>10/26/2023</td><td>sports</td></tr>\n",
              "\t<tr><td>dpagettqf    </td><td>Des Pagett          </td><td>4/1/1992  </td><td>dpagettqf@360.cn                  </td><td>NA</td><td>99854</td><td>          </td><td>music </td></tr>\n",
              "\t<tr><td>cbraderkb    </td><td>Cody Brader         </td><td>          </td><td>cbraderkb@lulu.com                </td><td>AF</td><td>99747</td><td>6/19/2021 </td><td>music </td></tr>\n",
              "\t<tr><td>djagerdv     </td><td>Deeyn Jager         </td><td>          </td><td>djagerdv@posterous.com            </td><td>AF</td><td>99731</td><td>4/7/2022  </td><td>travel</td></tr>\n",
              "\t<tr><td>cduftondy    </td><td>Celisse Dufton      </td><td>8/24/1995 </td><td>cduftondy@ox.ac.uk                </td><td>OC</td><td>99707</td><td>9/26/2021 </td><td>sports</td></tr>\n",
              "\t<tr><td>dbartalin77  </td><td>Desiree Bartalin    </td><td>8/23/1993 </td><td>dbartalin77@usda.gov              </td><td>AF</td><td>99618</td><td>5/30/2022 </td><td>music </td></tr>\n",
              "\t<tr><td>grivardmp    </td><td>Gwen Rivard         </td><td>9/12/1982 </td><td>grivardmp@google.com.hk           </td><td>OC</td><td>99526</td><td>4/4/2020  </td><td>music </td></tr>\n",
              "\t<tr><td>mraggitt9g   </td><td>Morgan Raggitt      </td><td>11/16/1992</td><td>mraggitt9g@home.pl                </td><td>NA</td><td>99508</td><td>11/12/2021</td><td>music </td></tr>\n",
              "\t<tr><td>vshallcrass3p</td><td>Vally Shallcrass    </td><td>9/26/2002 </td><td>vshallcrass3p@pagesperso-orange.fr</td><td>NA</td><td>99419</td><td>          </td><td>music </td></tr>\n",
              "\t<tr><td>wbenese7     </td><td>Wain Benes          </td><td>3/9/1998  </td><td>wbenese7@ebay.com                 </td><td>NA</td><td>99400</td><td>10/1/2021 </td><td>travel</td></tr>\n",
              "\t<tr><td>ctootal8y    </td><td>Cal Tootal          </td><td>11/24/1999</td><td>ctootal8y@cocolog-nifty.com       </td><td>NA</td><td>99048</td><td>          </td><td>travel</td></tr>\n",
              "\t<tr><td>kmorriceht   </td><td>Kitti Morrice       </td><td>6/3/1995  </td><td>kmorriceht@privacy.gov.au         </td><td>SA</td><td>98936</td><td>3/24/2021 </td><td>sports</td></tr>\n",
              "\t<tr><td>smacdonnell7o</td><td>Shoshanna MacDonnell</td><td>9/12/2002 </td><td>smacdonnell7o@toplist.cz          </td><td>AS</td><td>98760</td><td>7/20/2021 </td><td>music </td></tr>\n",
              "\t<tr><td>dcossum34    </td><td>Dwain Cossum        </td><td>9/9/1990  </td><td>dcossum34@dagondesign.com         </td><td>NA</td><td>98743</td><td>6/7/2021  </td><td>sports</td></tr>\n",
              "\t<tr><td>gbluneqj     </td><td>Gusta Blune         </td><td>11/25/1997</td><td>gbluneqj@google.nl                </td><td>NA</td><td>98741</td><td>1/20/2023 </td><td>music </td></tr>\n",
              "\t<tr><td>ebroomq9     </td><td>Early Broom         </td><td>3/10/2000 </td><td>ebroomq9@fastcompany.com          </td><td>AF</td><td>98606</td><td>10/22/2023</td><td>sports</td></tr>\n",
              "\t<tr><td>sgoublierfo  </td><td>Salomon Goublier    </td><td>10/30/1994</td><td>sgoublierfo@networkadvertising.org</td><td>NA</td><td>98574</td><td>7/17/2023 </td><td>music </td></tr>\n",
              "\t<tr><td>mtremeer64   </td><td>Maison Tremeer      </td><td>          </td><td>mtremeer64@spiegel.de             </td><td>AF</td><td>98545</td><td>          </td><td>music </td></tr>\n",
              "\t<tr><td>schapell4j   </td><td>Shepard Chapell     </td><td>9/3/1993  </td><td>schapell4j@noaa.gov               </td><td>AS</td><td>98479</td><td>2/14/2021 </td><td>music </td></tr>\n",
              "\t<tr><td>glantophd4   </td><td>Glenden Lantoph     </td><td>          </td><td>glantophd4@google.com.hk          </td><td>NA</td><td>98474</td><td>7/2/2022  </td><td>travel</td></tr>\n",
              "\t<tr><td>tbaptiepo    </td><td>Thorvald Baptie     </td><td>10/23/1981</td><td>tbaptiepo@indiegogo.com           </td><td>OC</td><td>98233</td><td>5/27/2022 </td><td>sports</td></tr>\n",
              "\t<tr><td>nbarbeyq2    </td><td>Nelson Barbey       </td><td>12/15/1984</td><td>nbarbeyq2@histats.com             </td><td>OC</td><td>98172</td><td>6/18/2022 </td><td>music </td></tr>\n",
              "\t<tr><td>jhovendene3  </td><td>Jandy Hovenden      </td><td>11/6/1992 </td><td>jhovendene3@mysql.com             </td><td>AS</td><td>98111</td><td>4/25/2020 </td><td>travel</td></tr>\n",
              "\t<tr><td>vlangtree7w  </td><td>Valina Langtree     </td><td>1/16/1984 </td><td>vlangtree7w@ucla.edu              </td><td>NA</td><td>98037</td><td>9/9/2022  </td><td>music </td></tr>\n",
              "\t<tr><td>jdavidoffms  </td><td>Jordana Davidoff    </td><td>5/31/1983 </td><td>jdavidoffms@cdbaby.com            </td><td>AF</td><td>97824</td><td>12/1/2021 </td><td>sports</td></tr>\n",
              "\t<tr><td>jgregsln     </td><td>Jazmin Gregs        </td><td>          </td><td>jgregsln@slideshare.net           </td><td>OC</td><td>97807</td><td>4/23/2021 </td><td>music </td></tr>\n",
              "\t<tr><td>ldulinty7p   </td><td>Lorri Dulinty       </td><td>12/2/1994 </td><td>ldulinty7p@free.fr                </td><td>NA</td><td>97718</td><td>5/1/2023  </td><td>sports</td></tr>\n",
              "\t<tr><td>hkaygillcx   </td><td>Harri Kaygill       </td><td>1/24/1992 </td><td>hkaygillcx@google.it              </td><td>NA</td><td>97703</td><td>8/29/2021 </td><td>travel</td></tr>\n",
              "\t<tr><td>fhoxeya6     </td><td>Fernando Hoxey      </td><td>4/13/1982 </td><td>fhoxeya6@businesswire.com         </td><td>AS</td><td>97650</td><td>          </td><td>sports</td></tr>\n",
              "\t<tr><td>⋮</td><td>⋮</td><td>⋮</td><td>⋮</td><td>⋮</td><td>⋮</td><td>⋮</td><td>⋮</td></tr>\n",
              "\t<tr><td>klongleyif    </td><td>Kirstyn Longley      </td><td>5/4/1995  </td><td>klongleyif@google.com.hk      </td><td>SA</td><td>3369</td><td>9/17/2022 </td><td>music </td></tr>\n",
              "\t<tr><td>fkropppi      </td><td>Fabien Kropp         </td><td>4/25/1994 </td><td>fkropppi@com.com              </td><td>NA</td><td>3330</td><td>          </td><td>music </td></tr>\n",
              "\t<tr><td>gsandercockp9 </td><td>Gloriane Sandercock  </td><td>6/23/2002 </td><td>gsandercockp9@hao123.com      </td><td>AF</td><td>3311</td><td>4/21/2021 </td><td>travel</td></tr>\n",
              "\t<tr><td>wmilesnt      </td><td>Wilona Miles         </td><td>7/8/1993  </td><td>wmilesnt@discovery.com        </td><td>SA</td><td>2984</td><td>10/16/2022</td><td>music </td></tr>\n",
              "\t<tr><td>cjentzschg9   </td><td>Cecilia Jentzsch     </td><td>6/27/1992 </td><td>cjentzschg9@newyorker.com     </td><td>NA</td><td>2844</td><td>2/4/2020  </td><td>music </td></tr>\n",
              "\t<tr><td>bhilleyn0     </td><td>Benji Hilley         </td><td>          </td><td>bhilleyn0@indiatimes.com      </td><td>OC</td><td>2756</td><td>2/6/2021  </td><td>sports</td></tr>\n",
              "\t<tr><td>ggoldislm     </td><td>Gerome Goldis        </td><td>          </td><td>ggoldislm@ed.gov              </td><td>AS</td><td>2604</td><td>6/28/2022 </td><td>travel</td></tr>\n",
              "\t<tr><td>plendremkh    </td><td>Patten Lendrem       </td><td>5/19/2000 </td><td>plendremkh@tinyurl.com        </td><td>NA</td><td>2581</td><td>12/23/2020</td><td>sports</td></tr>\n",
              "\t<tr><td>cferroli1r    </td><td>Cullin Ferroli       </td><td>2/9/1998  </td><td>cferroli1r@hud.gov            </td><td>AS</td><td>2574</td><td>5/2/2022  </td><td>music </td></tr>\n",
              "\t<tr><td>dfinan44      </td><td>Donny Finan          </td><td>          </td><td>dfinan44@prweb.com            </td><td>AS</td><td>2421</td><td>3/23/2021 </td><td>travel</td></tr>\n",
              "\t<tr><td>mdurbin2i     </td><td>Maridel Durbin       </td><td>4/14/1990 </td><td>mdurbin2i@flickr.com          </td><td>OC</td><td>2390</td><td>9/2/2021  </td><td>music </td></tr>\n",
              "\t<tr><td>awisdeneu     </td><td>Allis Wisden         </td><td>3/28/1998 </td><td>awisdeneu@last.fm             </td><td>AF</td><td>2345</td><td>12/23/2021</td><td>music </td></tr>\n",
              "\t<tr><td>gheball88     </td><td>Gaven Heball         </td><td>12/16/2002</td><td>gheball88@soundcloud.com      </td><td>NA</td><td>2322</td><td>2/19/2023 </td><td>music </td></tr>\n",
              "\t<tr><td>odavidwitzca  </td><td>Ollie Davidwitz      </td><td>6/2/1987  </td><td>odavidwitzca@dailymail.co.uk  </td><td>NA</td><td>2318</td><td>          </td><td>music </td></tr>\n",
              "\t<tr><td>dtresvina6x   </td><td>Dion Tresvina        </td><td>12/28/1993</td><td>dtresvina6x@unblog.fr         </td><td>AS</td><td>2243</td><td>12/13/2020</td><td>music </td></tr>\n",
              "\t<tr><td>mzanollipf    </td><td>Marlene Zanolli      </td><td>9/17/1981 </td><td>mzanollipf@pinterest.com      </td><td>NA</td><td>2186</td><td>1/27/2022 </td><td>travel</td></tr>\n",
              "\t<tr><td>kjackling51   </td><td>Kalli Jackling       </td><td>4/18/1991 </td><td>kjackling51@paginegialle.it   </td><td>NA</td><td>2070</td><td>          </td><td>music </td></tr>\n",
              "\t<tr><td>sledgertonx   </td><td>Sheffield Ledgerton  </td><td>          </td><td>sledgertonx@geocities.com     </td><td>OC</td><td>1891</td><td>9/13/2021 </td><td>music </td></tr>\n",
              "\t<tr><td>mmoffatthx    </td><td>Malanie Moffatt      </td><td>10/25/1981</td><td>mmoffatthx@mapy.cz            </td><td>NA</td><td>1437</td><td>11/26/2023</td><td>travel</td></tr>\n",
              "\t<tr><td>dmapledorumcs </td><td>Dyann Mapledorum     </td><td>5/15/1993 </td><td>dmapledorumcs@bluehost.com    </td><td>OC</td><td> 992</td><td>2/5/2021  </td><td>travel</td></tr>\n",
              "\t<tr><td>tfolkc7       </td><td>Tanney Folk          </td><td>12/26/2000</td><td>tfolkc7@blogger.com           </td><td>EU</td><td> 941</td><td>11/21/2020</td><td>sports</td></tr>\n",
              "\t<tr><td>gfassumfg     </td><td>Garry Fassum         </td><td>5/21/1995 </td><td>gfassumfg@google.es           </td><td>AS</td><td> 925</td><td>4/18/2023 </td><td>music </td></tr>\n",
              "\t<tr><td>kyoellgl      </td><td>Karine Yoell         </td><td>6/14/1994 </td><td>kyoellgl@twitter.com          </td><td>AF</td><td> 905</td><td>1/14/2020 </td><td>travel</td></tr>\n",
              "\t<tr><td>mdavitt8a     </td><td>Mychal Davitt        </td><td>4/29/1982 </td><td>mdavitt8a@typepad.com         </td><td>NA</td><td> 563</td><td>1/9/2021  </td><td>travel</td></tr>\n",
              "\t<tr><td>mdimitrescu8m </td><td>Marcelline Dimitrescu</td><td>3/28/1990 </td><td>mdimitrescu8m@toplist.cz      </td><td>EU</td><td> 546</td><td>          </td><td>music </td></tr>\n",
              "\t<tr><td>chawesq       </td><td>Courtnay Hawes       </td><td>          </td><td>chawesq@deviantart.com        </td><td>AF</td><td> 435</td><td>3/19/2023 </td><td>music </td></tr>\n",
              "\t<tr><td>sgoochh4      </td><td>Sigfrid Gooch        </td><td>7/1/1984  </td><td>sgoochh4@de.vu                </td><td>AF</td><td> 375</td><td>          </td><td>sports</td></tr>\n",
              "\t<tr><td>lcolviemr     </td><td>Lana Colvie          </td><td>1/10/1990 </td><td>lcolviemr@sciencedirect.com   </td><td>EU</td><td> 267</td><td>9/11/2020 </td><td>sports</td></tr>\n",
              "\t<tr><td>smcreathed    </td><td>Shara McReath        </td><td>          </td><td>smcreathed@php.net            </td><td>AF</td><td> 109</td><td>4/9/2021  </td><td>travel</td></tr>\n",
              "\t<tr><td>vmacterrellyrm</td><td>Virginie MacTerrelly </td><td>10/8/1994 </td><td>vmacterrellyrm@dailymotion.com</td><td>AS</td><td>  81</td><td>9/11/2023 </td><td>sports</td></tr>\n",
              "</tbody>\n",
              "</table>\n"
            ],
            "text/markdown": "\nA data.frame: 1000 × 8\n\n| username &lt;chr&gt; | full_name &lt;chr&gt; | birthdate &lt;chr&gt; | email &lt;chr&gt; | continent &lt;chr&gt; | followers &lt;int&gt; | last_login &lt;chr&gt; | interests &lt;chr&gt; |\n|---|---|---|---|---|---|---|---|\n| lleckeyb6     | Lynne Leckey         | 4/19/1998  | lleckeyb6@tripadvisor.com          | SA | 99977 | 3/14/2021  | sports |\n| spharoaha2    | Staci Pharoah        | 9/2/1985   | spharoaha2@sfgate.com              | NA | 99905 | 10/26/2023 | sports |\n| dpagettqf     | Des Pagett           | 4/1/1992   | dpagettqf@360.cn                   | NA | 99854 | <!----> | music  |\n| cbraderkb     | Cody Brader          | <!----> | cbraderkb@lulu.com                 | AF | 99747 | 6/19/2021  | music  |\n| djagerdv      | Deeyn Jager          | <!----> | djagerdv@posterous.com             | AF | 99731 | 4/7/2022   | travel |\n| cduftondy     | Celisse Dufton       | 8/24/1995  | cduftondy@ox.ac.uk                 | OC | 99707 | 9/26/2021  | sports |\n| dbartalin77   | Desiree Bartalin     | 8/23/1993  | dbartalin77@usda.gov               | AF | 99618 | 5/30/2022  | music  |\n| grivardmp     | Gwen Rivard          | 9/12/1982  | grivardmp@google.com.hk            | OC | 99526 | 4/4/2020   | music  |\n| mraggitt9g    | Morgan Raggitt       | 11/16/1992 | mraggitt9g@home.pl                 | NA | 99508 | 11/12/2021 | music  |\n| vshallcrass3p | Vally Shallcrass     | 9/26/2002  | vshallcrass3p@pagesperso-orange.fr | NA | 99419 | <!----> | music  |\n| wbenese7      | Wain Benes           | 3/9/1998   | wbenese7@ebay.com                  | NA | 99400 | 10/1/2021  | travel |\n| ctootal8y     | Cal Tootal           | 11/24/1999 | ctootal8y@cocolog-nifty.com        | NA | 99048 | <!----> | travel |\n| kmorriceht    | Kitti Morrice        | 6/3/1995   | kmorriceht@privacy.gov.au          | SA | 98936 | 3/24/2021  | sports |\n| smacdonnell7o | Shoshanna MacDonnell | 9/12/2002  | smacdonnell7o@toplist.cz           | AS | 98760 | 7/20/2021  | music  |\n| dcossum34     | Dwain Cossum         | 9/9/1990   | dcossum34@dagondesign.com          | NA | 98743 | 6/7/2021   | sports |\n| gbluneqj      | Gusta Blune          | 11/25/1997 | gbluneqj@google.nl                 | NA | 98741 | 1/20/2023  | music  |\n| ebroomq9      | Early Broom          | 3/10/2000  | ebroomq9@fastcompany.com           | AF | 98606 | 10/22/2023 | sports |\n| sgoublierfo   | Salomon Goublier     | 10/30/1994 | sgoublierfo@networkadvertising.org | NA | 98574 | 7/17/2023  | music  |\n| mtremeer64    | Maison Tremeer       | <!----> | mtremeer64@spiegel.de              | AF | 98545 | <!----> | music  |\n| schapell4j    | Shepard Chapell      | 9/3/1993   | schapell4j@noaa.gov                | AS | 98479 | 2/14/2021  | music  |\n| glantophd4    | Glenden Lantoph      | <!----> | glantophd4@google.com.hk           | NA | 98474 | 7/2/2022   | travel |\n| tbaptiepo     | Thorvald Baptie      | 10/23/1981 | tbaptiepo@indiegogo.com            | OC | 98233 | 5/27/2022  | sports |\n| nbarbeyq2     | Nelson Barbey        | 12/15/1984 | nbarbeyq2@histats.com              | OC | 98172 | 6/18/2022  | music  |\n| jhovendene3   | Jandy Hovenden       | 11/6/1992  | jhovendene3@mysql.com              | AS | 98111 | 4/25/2020  | travel |\n| vlangtree7w   | Valina Langtree      | 1/16/1984  | vlangtree7w@ucla.edu               | NA | 98037 | 9/9/2022   | music  |\n| jdavidoffms   | Jordana Davidoff     | 5/31/1983  | jdavidoffms@cdbaby.com             | AF | 97824 | 12/1/2021  | sports |\n| jgregsln      | Jazmin Gregs         | <!----> | jgregsln@slideshare.net            | OC | 97807 | 4/23/2021  | music  |\n| ldulinty7p    | Lorri Dulinty        | 12/2/1994  | ldulinty7p@free.fr                 | NA | 97718 | 5/1/2023   | sports |\n| hkaygillcx    | Harri Kaygill        | 1/24/1992  | hkaygillcx@google.it               | NA | 97703 | 8/29/2021  | travel |\n| fhoxeya6      | Fernando Hoxey       | 4/13/1982  | fhoxeya6@businesswire.com          | AS | 97650 | <!----> | sports |\n| ⋮ | ⋮ | ⋮ | ⋮ | ⋮ | ⋮ | ⋮ | ⋮ |\n| klongleyif     | Kirstyn Longley       | 5/4/1995   | klongleyif@google.com.hk       | SA | 3369 | 9/17/2022  | music  |\n| fkropppi       | Fabien Kropp          | 4/25/1994  | fkropppi@com.com               | NA | 3330 | <!----> | music  |\n| gsandercockp9  | Gloriane Sandercock   | 6/23/2002  | gsandercockp9@hao123.com       | AF | 3311 | 4/21/2021  | travel |\n| wmilesnt       | Wilona Miles          | 7/8/1993   | wmilesnt@discovery.com         | SA | 2984 | 10/16/2022 | music  |\n| cjentzschg9    | Cecilia Jentzsch      | 6/27/1992  | cjentzschg9@newyorker.com      | NA | 2844 | 2/4/2020   | music  |\n| bhilleyn0      | Benji Hilley          | <!----> | bhilleyn0@indiatimes.com       | OC | 2756 | 2/6/2021   | sports |\n| ggoldislm      | Gerome Goldis         | <!----> | ggoldislm@ed.gov               | AS | 2604 | 6/28/2022  | travel |\n| plendremkh     | Patten Lendrem        | 5/19/2000  | plendremkh@tinyurl.com         | NA | 2581 | 12/23/2020 | sports |\n| cferroli1r     | Cullin Ferroli        | 2/9/1998   | cferroli1r@hud.gov             | AS | 2574 | 5/2/2022   | music  |\n| dfinan44       | Donny Finan           | <!----> | dfinan44@prweb.com             | AS | 2421 | 3/23/2021  | travel |\n| mdurbin2i      | Maridel Durbin        | 4/14/1990  | mdurbin2i@flickr.com           | OC | 2390 | 9/2/2021   | music  |\n| awisdeneu      | Allis Wisden          | 3/28/1998  | awisdeneu@last.fm              | AF | 2345 | 12/23/2021 | music  |\n| gheball88      | Gaven Heball          | 12/16/2002 | gheball88@soundcloud.com       | NA | 2322 | 2/19/2023  | music  |\n| odavidwitzca   | Ollie Davidwitz       | 6/2/1987   | odavidwitzca@dailymail.co.uk   | NA | 2318 | <!----> | music  |\n| dtresvina6x    | Dion Tresvina         | 12/28/1993 | dtresvina6x@unblog.fr          | AS | 2243 | 12/13/2020 | music  |\n| mzanollipf     | Marlene Zanolli       | 9/17/1981  | mzanollipf@pinterest.com       | NA | 2186 | 1/27/2022  | travel |\n| kjackling51    | Kalli Jackling        | 4/18/1991  | kjackling51@paginegialle.it    | NA | 2070 | <!----> | music  |\n| sledgertonx    | Sheffield Ledgerton   | <!----> | sledgertonx@geocities.com      | OC | 1891 | 9/13/2021  | music  |\n| mmoffatthx     | Malanie Moffatt       | 10/25/1981 | mmoffatthx@mapy.cz             | NA | 1437 | 11/26/2023 | travel |\n| dmapledorumcs  | Dyann Mapledorum      | 5/15/1993  | dmapledorumcs@bluehost.com     | OC |  992 | 2/5/2021   | travel |\n| tfolkc7        | Tanney Folk           | 12/26/2000 | tfolkc7@blogger.com            | EU |  941 | 11/21/2020 | sports |\n| gfassumfg      | Garry Fassum          | 5/21/1995  | gfassumfg@google.es            | AS |  925 | 4/18/2023  | music  |\n| kyoellgl       | Karine Yoell          | 6/14/1994  | kyoellgl@twitter.com           | AF |  905 | 1/14/2020  | travel |\n| mdavitt8a      | Mychal Davitt         | 4/29/1982  | mdavitt8a@typepad.com          | NA |  563 | 1/9/2021   | travel |\n| mdimitrescu8m  | Marcelline Dimitrescu | 3/28/1990  | mdimitrescu8m@toplist.cz       | EU |  546 | <!----> | music  |\n| chawesq        | Courtnay Hawes        | <!----> | chawesq@deviantart.com         | AF |  435 | 3/19/2023  | music  |\n| sgoochh4       | Sigfrid Gooch         | 7/1/1984   | sgoochh4@de.vu                 | AF |  375 | <!----> | sports |\n| lcolviemr      | Lana Colvie           | 1/10/1990  | lcolviemr@sciencedirect.com    | EU |  267 | 9/11/2020  | sports |\n| smcreathed     | Shara McReath         | <!----> | smcreathed@php.net             | AF |  109 | 4/9/2021   | travel |\n| vmacterrellyrm | Virginie MacTerrelly  | 10/8/1994  | vmacterrellyrm@dailymotion.com | AS |   81 | 9/11/2023  | sports |\n\n",
            "text/latex": "A data.frame: 1000 × 8\n\\begin{tabular}{llllllll}\n username & full\\_name & birthdate & email & continent & followers & last\\_login & interests\\\\\n <chr> & <chr> & <chr> & <chr> & <chr> & <int> & <chr> & <chr>\\\\\n\\hline\n\t lleckeyb6     & Lynne Leckey         & 4/19/1998  & lleckeyb6@tripadvisor.com          & SA & 99977 & 3/14/2021  & sports\\\\\n\t spharoaha2    & Staci Pharoah        & 9/2/1985   & spharoaha2@sfgate.com              & NA & 99905 & 10/26/2023 & sports\\\\\n\t dpagettqf     & Des Pagett           & 4/1/1992   & dpagettqf@360.cn                   & NA & 99854 &            & music \\\\\n\t cbraderkb     & Cody Brader          &            & cbraderkb@lulu.com                 & AF & 99747 & 6/19/2021  & music \\\\\n\t djagerdv      & Deeyn Jager          &            & djagerdv@posterous.com             & AF & 99731 & 4/7/2022   & travel\\\\\n\t cduftondy     & Celisse Dufton       & 8/24/1995  & cduftondy@ox.ac.uk                 & OC & 99707 & 9/26/2021  & sports\\\\\n\t dbartalin77   & Desiree Bartalin     & 8/23/1993  & dbartalin77@usda.gov               & AF & 99618 & 5/30/2022  & music \\\\\n\t grivardmp     & Gwen Rivard          & 9/12/1982  & grivardmp@google.com.hk            & OC & 99526 & 4/4/2020   & music \\\\\n\t mraggitt9g    & Morgan Raggitt       & 11/16/1992 & mraggitt9g@home.pl                 & NA & 99508 & 11/12/2021 & music \\\\\n\t vshallcrass3p & Vally Shallcrass     & 9/26/2002  & vshallcrass3p@pagesperso-orange.fr & NA & 99419 &            & music \\\\\n\t wbenese7      & Wain Benes           & 3/9/1998   & wbenese7@ebay.com                  & NA & 99400 & 10/1/2021  & travel\\\\\n\t ctootal8y     & Cal Tootal           & 11/24/1999 & ctootal8y@cocolog-nifty.com        & NA & 99048 &            & travel\\\\\n\t kmorriceht    & Kitti Morrice        & 6/3/1995   & kmorriceht@privacy.gov.au          & SA & 98936 & 3/24/2021  & sports\\\\\n\t smacdonnell7o & Shoshanna MacDonnell & 9/12/2002  & smacdonnell7o@toplist.cz           & AS & 98760 & 7/20/2021  & music \\\\\n\t dcossum34     & Dwain Cossum         & 9/9/1990   & dcossum34@dagondesign.com          & NA & 98743 & 6/7/2021   & sports\\\\\n\t gbluneqj      & Gusta Blune          & 11/25/1997 & gbluneqj@google.nl                 & NA & 98741 & 1/20/2023  & music \\\\\n\t ebroomq9      & Early Broom          & 3/10/2000  & ebroomq9@fastcompany.com           & AF & 98606 & 10/22/2023 & sports\\\\\n\t sgoublierfo   & Salomon Goublier     & 10/30/1994 & sgoublierfo@networkadvertising.org & NA & 98574 & 7/17/2023  & music \\\\\n\t mtremeer64    & Maison Tremeer       &            & mtremeer64@spiegel.de              & AF & 98545 &            & music \\\\\n\t schapell4j    & Shepard Chapell      & 9/3/1993   & schapell4j@noaa.gov                & AS & 98479 & 2/14/2021  & music \\\\\n\t glantophd4    & Glenden Lantoph      &            & glantophd4@google.com.hk           & NA & 98474 & 7/2/2022   & travel\\\\\n\t tbaptiepo     & Thorvald Baptie      & 10/23/1981 & tbaptiepo@indiegogo.com            & OC & 98233 & 5/27/2022  & sports\\\\\n\t nbarbeyq2     & Nelson Barbey        & 12/15/1984 & nbarbeyq2@histats.com              & OC & 98172 & 6/18/2022  & music \\\\\n\t jhovendene3   & Jandy Hovenden       & 11/6/1992  & jhovendene3@mysql.com              & AS & 98111 & 4/25/2020  & travel\\\\\n\t vlangtree7w   & Valina Langtree      & 1/16/1984  & vlangtree7w@ucla.edu               & NA & 98037 & 9/9/2022   & music \\\\\n\t jdavidoffms   & Jordana Davidoff     & 5/31/1983  & jdavidoffms@cdbaby.com             & AF & 97824 & 12/1/2021  & sports\\\\\n\t jgregsln      & Jazmin Gregs         &            & jgregsln@slideshare.net            & OC & 97807 & 4/23/2021  & music \\\\\n\t ldulinty7p    & Lorri Dulinty        & 12/2/1994  & ldulinty7p@free.fr                 & NA & 97718 & 5/1/2023   & sports\\\\\n\t hkaygillcx    & Harri Kaygill        & 1/24/1992  & hkaygillcx@google.it               & NA & 97703 & 8/29/2021  & travel\\\\\n\t fhoxeya6      & Fernando Hoxey       & 4/13/1982  & fhoxeya6@businesswire.com          & AS & 97650 &            & sports\\\\\n\t ⋮ & ⋮ & ⋮ & ⋮ & ⋮ & ⋮ & ⋮ & ⋮\\\\\n\t klongleyif     & Kirstyn Longley       & 5/4/1995   & klongleyif@google.com.hk       & SA & 3369 & 9/17/2022  & music \\\\\n\t fkropppi       & Fabien Kropp          & 4/25/1994  & fkropppi@com.com               & NA & 3330 &            & music \\\\\n\t gsandercockp9  & Gloriane Sandercock   & 6/23/2002  & gsandercockp9@hao123.com       & AF & 3311 & 4/21/2021  & travel\\\\\n\t wmilesnt       & Wilona Miles          & 7/8/1993   & wmilesnt@discovery.com         & SA & 2984 & 10/16/2022 & music \\\\\n\t cjentzschg9    & Cecilia Jentzsch      & 6/27/1992  & cjentzschg9@newyorker.com      & NA & 2844 & 2/4/2020   & music \\\\\n\t bhilleyn0      & Benji Hilley          &            & bhilleyn0@indiatimes.com       & OC & 2756 & 2/6/2021   & sports\\\\\n\t ggoldislm      & Gerome Goldis         &            & ggoldislm@ed.gov               & AS & 2604 & 6/28/2022  & travel\\\\\n\t plendremkh     & Patten Lendrem        & 5/19/2000  & plendremkh@tinyurl.com         & NA & 2581 & 12/23/2020 & sports\\\\\n\t cferroli1r     & Cullin Ferroli        & 2/9/1998   & cferroli1r@hud.gov             & AS & 2574 & 5/2/2022   & music \\\\\n\t dfinan44       & Donny Finan           &            & dfinan44@prweb.com             & AS & 2421 & 3/23/2021  & travel\\\\\n\t mdurbin2i      & Maridel Durbin        & 4/14/1990  & mdurbin2i@flickr.com           & OC & 2390 & 9/2/2021   & music \\\\\n\t awisdeneu      & Allis Wisden          & 3/28/1998  & awisdeneu@last.fm              & AF & 2345 & 12/23/2021 & music \\\\\n\t gheball88      & Gaven Heball          & 12/16/2002 & gheball88@soundcloud.com       & NA & 2322 & 2/19/2023  & music \\\\\n\t odavidwitzca   & Ollie Davidwitz       & 6/2/1987   & odavidwitzca@dailymail.co.uk   & NA & 2318 &            & music \\\\\n\t dtresvina6x    & Dion Tresvina         & 12/28/1993 & dtresvina6x@unblog.fr          & AS & 2243 & 12/13/2020 & music \\\\\n\t mzanollipf     & Marlene Zanolli       & 9/17/1981  & mzanollipf@pinterest.com       & NA & 2186 & 1/27/2022  & travel\\\\\n\t kjackling51    & Kalli Jackling        & 4/18/1991  & kjackling51@paginegialle.it    & NA & 2070 &            & music \\\\\n\t sledgertonx    & Sheffield Ledgerton   &            & sledgertonx@geocities.com      & OC & 1891 & 9/13/2021  & music \\\\\n\t mmoffatthx     & Malanie Moffatt       & 10/25/1981 & mmoffatthx@mapy.cz             & NA & 1437 & 11/26/2023 & travel\\\\\n\t dmapledorumcs  & Dyann Mapledorum      & 5/15/1993  & dmapledorumcs@bluehost.com     & OC &  992 & 2/5/2021   & travel\\\\\n\t tfolkc7        & Tanney Folk           & 12/26/2000 & tfolkc7@blogger.com            & EU &  941 & 11/21/2020 & sports\\\\\n\t gfassumfg      & Garry Fassum          & 5/21/1995  & gfassumfg@google.es            & AS &  925 & 4/18/2023  & music \\\\\n\t kyoellgl       & Karine Yoell          & 6/14/1994  & kyoellgl@twitter.com           & AF &  905 & 1/14/2020  & travel\\\\\n\t mdavitt8a      & Mychal Davitt         & 4/29/1982  & mdavitt8a@typepad.com          & NA &  563 & 1/9/2021   & travel\\\\\n\t mdimitrescu8m  & Marcelline Dimitrescu & 3/28/1990  & mdimitrescu8m@toplist.cz       & EU &  546 &            & music \\\\\n\t chawesq        & Courtnay Hawes        &            & chawesq@deviantart.com         & AF &  435 & 3/19/2023  & music \\\\\n\t sgoochh4       & Sigfrid Gooch         & 7/1/1984   & sgoochh4@de.vu                 & AF &  375 &            & sports\\\\\n\t lcolviemr      & Lana Colvie           & 1/10/1990  & lcolviemr@sciencedirect.com    & EU &  267 & 9/11/2020  & sports\\\\\n\t smcreathed     & Shara McReath         &            & smcreathed@php.net             & AF &  109 & 4/9/2021   & travel\\\\\n\t vmacterrellyrm & Virginie MacTerrelly  & 10/8/1994  & vmacterrellyrm@dailymotion.com & AS &   81 & 9/11/2023  & sports\\\\\n\\end{tabular}\n",
            "text/plain": [
              "     username       full_name             birthdate \n",
              "1    lleckeyb6      Lynne Leckey          4/19/1998 \n",
              "2    spharoaha2     Staci Pharoah         9/2/1985  \n",
              "3    dpagettqf      Des Pagett            4/1/1992  \n",
              "4    cbraderkb      Cody Brader                     \n",
              "5    djagerdv       Deeyn Jager                     \n",
              "6    cduftondy      Celisse Dufton        8/24/1995 \n",
              "7    dbartalin77    Desiree Bartalin      8/23/1993 \n",
              "8    grivardmp      Gwen Rivard           9/12/1982 \n",
              "9    mraggitt9g     Morgan Raggitt        11/16/1992\n",
              "10   vshallcrass3p  Vally Shallcrass      9/26/2002 \n",
              "11   wbenese7       Wain Benes            3/9/1998  \n",
              "12   ctootal8y      Cal Tootal            11/24/1999\n",
              "13   kmorriceht     Kitti Morrice         6/3/1995  \n",
              "14   smacdonnell7o  Shoshanna MacDonnell  9/12/2002 \n",
              "15   dcossum34      Dwain Cossum          9/9/1990  \n",
              "16   gbluneqj       Gusta Blune           11/25/1997\n",
              "17   ebroomq9       Early Broom           3/10/2000 \n",
              "18   sgoublierfo    Salomon Goublier      10/30/1994\n",
              "19   mtremeer64     Maison Tremeer                  \n",
              "20   schapell4j     Shepard Chapell       9/3/1993  \n",
              "21   glantophd4     Glenden Lantoph                 \n",
              "22   tbaptiepo      Thorvald Baptie       10/23/1981\n",
              "23   nbarbeyq2      Nelson Barbey         12/15/1984\n",
              "24   jhovendene3    Jandy Hovenden        11/6/1992 \n",
              "25   vlangtree7w    Valina Langtree       1/16/1984 \n",
              "26   jdavidoffms    Jordana Davidoff      5/31/1983 \n",
              "27   jgregsln       Jazmin Gregs                    \n",
              "28   ldulinty7p     Lorri Dulinty         12/2/1994 \n",
              "29   hkaygillcx     Harri Kaygill         1/24/1992 \n",
              "30   fhoxeya6       Fernando Hoxey        4/13/1982 \n",
              "⋮    ⋮              ⋮                     ⋮         \n",
              "971  klongleyif     Kirstyn Longley       5/4/1995  \n",
              "972  fkropppi       Fabien Kropp          4/25/1994 \n",
              "973  gsandercockp9  Gloriane Sandercock   6/23/2002 \n",
              "974  wmilesnt       Wilona Miles          7/8/1993  \n",
              "975  cjentzschg9    Cecilia Jentzsch      6/27/1992 \n",
              "976  bhilleyn0      Benji Hilley                    \n",
              "977  ggoldislm      Gerome Goldis                   \n",
              "978  plendremkh     Patten Lendrem        5/19/2000 \n",
              "979  cferroli1r     Cullin Ferroli        2/9/1998  \n",
              "980  dfinan44       Donny Finan                     \n",
              "981  mdurbin2i      Maridel Durbin        4/14/1990 \n",
              "982  awisdeneu      Allis Wisden          3/28/1998 \n",
              "983  gheball88      Gaven Heball          12/16/2002\n",
              "984  odavidwitzca   Ollie Davidwitz       6/2/1987  \n",
              "985  dtresvina6x    Dion Tresvina         12/28/1993\n",
              "986  mzanollipf     Marlene Zanolli       9/17/1981 \n",
              "987  kjackling51    Kalli Jackling        4/18/1991 \n",
              "988  sledgertonx    Sheffield Ledgerton             \n",
              "989  mmoffatthx     Malanie Moffatt       10/25/1981\n",
              "990  dmapledorumcs  Dyann Mapledorum      5/15/1993 \n",
              "991  tfolkc7        Tanney Folk           12/26/2000\n",
              "992  gfassumfg      Garry Fassum          5/21/1995 \n",
              "993  kyoellgl       Karine Yoell          6/14/1994 \n",
              "994  mdavitt8a      Mychal Davitt         4/29/1982 \n",
              "995  mdimitrescu8m  Marcelline Dimitrescu 3/28/1990 \n",
              "996  chawesq        Courtnay Hawes                  \n",
              "997  sgoochh4       Sigfrid Gooch         7/1/1984  \n",
              "998  lcolviemr      Lana Colvie           1/10/1990 \n",
              "999  smcreathed     Shara McReath                   \n",
              "1000 vmacterrellyrm Virginie MacTerrelly  10/8/1994 \n",
              "     email                              continent followers last_login\n",
              "1    lleckeyb6@tripadvisor.com          SA        99977     3/14/2021 \n",
              "2    spharoaha2@sfgate.com              NA        99905     10/26/2023\n",
              "3    dpagettqf@360.cn                   NA        99854               \n",
              "4    cbraderkb@lulu.com                 AF        99747     6/19/2021 \n",
              "5    djagerdv@posterous.com             AF        99731     4/7/2022  \n",
              "6    cduftondy@ox.ac.uk                 OC        99707     9/26/2021 \n",
              "7    dbartalin77@usda.gov               AF        99618     5/30/2022 \n",
              "8    grivardmp@google.com.hk            OC        99526     4/4/2020  \n",
              "9    mraggitt9g@home.pl                 NA        99508     11/12/2021\n",
              "10   vshallcrass3p@pagesperso-orange.fr NA        99419               \n",
              "11   wbenese7@ebay.com                  NA        99400     10/1/2021 \n",
              "12   ctootal8y@cocolog-nifty.com        NA        99048               \n",
              "13   kmorriceht@privacy.gov.au          SA        98936     3/24/2021 \n",
              "14   smacdonnell7o@toplist.cz           AS        98760     7/20/2021 \n",
              "15   dcossum34@dagondesign.com          NA        98743     6/7/2021  \n",
              "16   gbluneqj@google.nl                 NA        98741     1/20/2023 \n",
              "17   ebroomq9@fastcompany.com           AF        98606     10/22/2023\n",
              "18   sgoublierfo@networkadvertising.org NA        98574     7/17/2023 \n",
              "19   mtremeer64@spiegel.de              AF        98545               \n",
              "20   schapell4j@noaa.gov                AS        98479     2/14/2021 \n",
              "21   glantophd4@google.com.hk           NA        98474     7/2/2022  \n",
              "22   tbaptiepo@indiegogo.com            OC        98233     5/27/2022 \n",
              "23   nbarbeyq2@histats.com              OC        98172     6/18/2022 \n",
              "24   jhovendene3@mysql.com              AS        98111     4/25/2020 \n",
              "25   vlangtree7w@ucla.edu               NA        98037     9/9/2022  \n",
              "26   jdavidoffms@cdbaby.com             AF        97824     12/1/2021 \n",
              "27   jgregsln@slideshare.net            OC        97807     4/23/2021 \n",
              "28   ldulinty7p@free.fr                 NA        97718     5/1/2023  \n",
              "29   hkaygillcx@google.it               NA        97703     8/29/2021 \n",
              "30   fhoxeya6@businesswire.com          AS        97650               \n",
              "⋮    ⋮                                  ⋮         ⋮         ⋮         \n",
              "971  klongleyif@google.com.hk           SA        3369      9/17/2022 \n",
              "972  fkropppi@com.com                   NA        3330                \n",
              "973  gsandercockp9@hao123.com           AF        3311      4/21/2021 \n",
              "974  wmilesnt@discovery.com             SA        2984      10/16/2022\n",
              "975  cjentzschg9@newyorker.com          NA        2844      2/4/2020  \n",
              "976  bhilleyn0@indiatimes.com           OC        2756      2/6/2021  \n",
              "977  ggoldislm@ed.gov                   AS        2604      6/28/2022 \n",
              "978  plendremkh@tinyurl.com             NA        2581      12/23/2020\n",
              "979  cferroli1r@hud.gov                 AS        2574      5/2/2022  \n",
              "980  dfinan44@prweb.com                 AS        2421      3/23/2021 \n",
              "981  mdurbin2i@flickr.com               OC        2390      9/2/2021  \n",
              "982  awisdeneu@last.fm                  AF        2345      12/23/2021\n",
              "983  gheball88@soundcloud.com           NA        2322      2/19/2023 \n",
              "984  odavidwitzca@dailymail.co.uk       NA        2318                \n",
              "985  dtresvina6x@unblog.fr              AS        2243      12/13/2020\n",
              "986  mzanollipf@pinterest.com           NA        2186      1/27/2022 \n",
              "987  kjackling51@paginegialle.it        NA        2070                \n",
              "988  sledgertonx@geocities.com          OC        1891      9/13/2021 \n",
              "989  mmoffatthx@mapy.cz                 NA        1437      11/26/2023\n",
              "990  dmapledorumcs@bluehost.com         OC         992      2/5/2021  \n",
              "991  tfolkc7@blogger.com                EU         941      11/21/2020\n",
              "992  gfassumfg@google.es                AS         925      4/18/2023 \n",
              "993  kyoellgl@twitter.com               AF         905      1/14/2020 \n",
              "994  mdavitt8a@typepad.com              NA         563      1/9/2021  \n",
              "995  mdimitrescu8m@toplist.cz           EU         546                \n",
              "996  chawesq@deviantart.com             AF         435      3/19/2023 \n",
              "997  sgoochh4@de.vu                     AF         375                \n",
              "998  lcolviemr@sciencedirect.com        EU         267      9/11/2020 \n",
              "999  smcreathed@php.net                 AF         109      4/9/2021  \n",
              "1000 vmacterrellyrm@dailymotion.com     AS          81      9/11/2023 \n",
              "     interests\n",
              "1    sports   \n",
              "2    sports   \n",
              "3    music    \n",
              "4    music    \n",
              "5    travel   \n",
              "6    sports   \n",
              "7    music    \n",
              "8    music    \n",
              "9    music    \n",
              "10   music    \n",
              "11   travel   \n",
              "12   travel   \n",
              "13   sports   \n",
              "14   music    \n",
              "15   sports   \n",
              "16   music    \n",
              "17   sports   \n",
              "18   music    \n",
              "19   music    \n",
              "20   music    \n",
              "21   travel   \n",
              "22   sports   \n",
              "23   music    \n",
              "24   travel   \n",
              "25   music    \n",
              "26   sports   \n",
              "27   music    \n",
              "28   sports   \n",
              "29   travel   \n",
              "30   sports   \n",
              "⋮    ⋮        \n",
              "971  music    \n",
              "972  music    \n",
              "973  travel   \n",
              "974  music    \n",
              "975  music    \n",
              "976  sports   \n",
              "977  travel   \n",
              "978  sports   \n",
              "979  music    \n",
              "980  travel   \n",
              "981  music    \n",
              "982  music    \n",
              "983  music    \n",
              "984  music    \n",
              "985  music    \n",
              "986  travel   \n",
              "987  music    \n",
              "988  music    \n",
              "989  travel   \n",
              "990  travel   \n",
              "991  sports   \n",
              "992  music    \n",
              "993  travel   \n",
              "994  travel   \n",
              "995  music    \n",
              "996  music    \n",
              "997  sports   \n",
              "998  sports   \n",
              "999  travel   \n",
              "1000 sports   "
            ]
          },
          "metadata": {}
        },
        {
          "output_type": "display_data",
          "data": {
            "text/html": [
              "<table class=\"dataframe\">\n",
              "<caption>A data.frame: 10 × 8</caption>\n",
              "<thead>\n",
              "\t<tr><th></th><th scope=col>username</th><th scope=col>full_name</th><th scope=col>birthdate</th><th scope=col>email</th><th scope=col>continent</th><th scope=col>followers</th><th scope=col>last_login</th><th scope=col>interests</th></tr>\n",
              "\t<tr><th></th><th scope=col>&lt;chr&gt;</th><th scope=col>&lt;chr&gt;</th><th scope=col>&lt;chr&gt;</th><th scope=col>&lt;chr&gt;</th><th scope=col>&lt;chr&gt;</th><th scope=col>&lt;int&gt;</th><th scope=col>&lt;chr&gt;</th><th scope=col>&lt;chr&gt;</th></tr>\n",
              "</thead>\n",
              "<tbody>\n",
              "\t<tr><th scope=row>1</th><td>ckippen0   </td><td>Clevey Kippen    </td><td>5/1/1991  </td><td>ckippen0@t-online.de     </td><td>NA</td><td>12362</td><td>5/16/2023 </td><td>music </td></tr>\n",
              "\t<tr><th scope=row>2</th><td>tgergler1  </td><td>Tedi Gergler     </td><td>10/5/1998 </td><td>tgergler1@salon.com      </td><td>NA</td><td>21360</td><td>8/20/2020 </td><td>sports</td></tr>\n",
              "\t<tr><th scope=row>3</th><td>spomfrett2 </td><td>Steffie Pomfrett </td><td>          </td><td>spomfrett2@imdb.com      </td><td>NA</td><td>19530</td><td>11/19/2022</td><td>sports</td></tr>\n",
              "\t<tr><th scope=row>4</th><td>rphettis3  </td><td>Ruddy Phettis    </td><td>6/18/1984 </td><td>rphettis3@npr.org        </td><td>EU</td><td>80047</td><td>9/20/2023 </td><td>travel</td></tr>\n",
              "\t<tr><th scope=row>5</th><td>ngilcriest4</td><td>Nico Gilcriest   </td><td>10/11/1993</td><td>ngilcriest4@dyndns.org   </td><td>NA</td><td>33544</td><td>          </td><td>music </td></tr>\n",
              "\t<tr><th scope=row>6</th><td>fhampson5  </td><td>Farrell Hampson  </td><td>11/7/1985 </td><td>fhampson5@lulu.com       </td><td>OC</td><td>72161</td><td>          </td><td>sports</td></tr>\n",
              "\t<tr><th scope=row>7</th><td>ttotman6   </td><td>Tamqrah Totman   </td><td>8/7/1986  </td><td>ttotman6@elpais.com      </td><td>AF</td><td>42669</td><td>3/10/2023 </td><td>music </td></tr>\n",
              "\t<tr><th scope=row>8</th><td>bdennes7   </td><td>Bonita Dennes    </td><td>          </td><td>bdennes7@cnet.com        </td><td>NA</td><td>22516</td><td>2/3/2023  </td><td>sports</td></tr>\n",
              "\t<tr><th scope=row>9</th><td>kgrigoryev8</td><td>Krishna Grigoryev</td><td>5/25/1990 </td><td>kgrigoryev8@quantcast.com</td><td>EU</td><td>93923</td><td>1/30/2023 </td><td>travel</td></tr>\n",
              "\t<tr><th scope=row>10</th><td>mbathoe9   </td><td>Mallissa Bathoe  </td><td>          </td><td>mbathoe9@bloomberg.com   </td><td>AS</td><td>18554</td><td>3/5/2022  </td><td>travel</td></tr>\n",
              "</tbody>\n",
              "</table>\n"
            ],
            "text/markdown": "\nA data.frame: 10 × 8\n\n| <!--/--> | username &lt;chr&gt; | full_name &lt;chr&gt; | birthdate &lt;chr&gt; | email &lt;chr&gt; | continent &lt;chr&gt; | followers &lt;int&gt; | last_login &lt;chr&gt; | interests &lt;chr&gt; |\n|---|---|---|---|---|---|---|---|---|\n| 1 | ckippen0    | Clevey Kippen     | 5/1/1991   | ckippen0@t-online.de      | NA | 12362 | 5/16/2023  | music  |\n| 2 | tgergler1   | Tedi Gergler      | 10/5/1998  | tgergler1@salon.com       | NA | 21360 | 8/20/2020  | sports |\n| 3 | spomfrett2  | Steffie Pomfrett  | <!----> | spomfrett2@imdb.com       | NA | 19530 | 11/19/2022 | sports |\n| 4 | rphettis3   | Ruddy Phettis     | 6/18/1984  | rphettis3@npr.org         | EU | 80047 | 9/20/2023  | travel |\n| 5 | ngilcriest4 | Nico Gilcriest    | 10/11/1993 | ngilcriest4@dyndns.org    | NA | 33544 | <!----> | music  |\n| 6 | fhampson5   | Farrell Hampson   | 11/7/1985  | fhampson5@lulu.com        | OC | 72161 | <!----> | sports |\n| 7 | ttotman6    | Tamqrah Totman    | 8/7/1986   | ttotman6@elpais.com       | AF | 42669 | 3/10/2023  | music  |\n| 8 | bdennes7    | Bonita Dennes     | <!----> | bdennes7@cnet.com         | NA | 22516 | 2/3/2023   | sports |\n| 9 | kgrigoryev8 | Krishna Grigoryev | 5/25/1990  | kgrigoryev8@quantcast.com | EU | 93923 | 1/30/2023  | travel |\n| 10 | mbathoe9    | Mallissa Bathoe   | <!----> | mbathoe9@bloomberg.com    | AS | 18554 | 3/5/2022   | travel |\n\n",
            "text/latex": "A data.frame: 10 × 8\n\\begin{tabular}{r|llllllll}\n  & username & full\\_name & birthdate & email & continent & followers & last\\_login & interests\\\\\n  & <chr> & <chr> & <chr> & <chr> & <chr> & <int> & <chr> & <chr>\\\\\n\\hline\n\t1 & ckippen0    & Clevey Kippen     & 5/1/1991   & ckippen0@t-online.de      & NA & 12362 & 5/16/2023  & music \\\\\n\t2 & tgergler1   & Tedi Gergler      & 10/5/1998  & tgergler1@salon.com       & NA & 21360 & 8/20/2020  & sports\\\\\n\t3 & spomfrett2  & Steffie Pomfrett  &            & spomfrett2@imdb.com       & NA & 19530 & 11/19/2022 & sports\\\\\n\t4 & rphettis3   & Ruddy Phettis     & 6/18/1984  & rphettis3@npr.org         & EU & 80047 & 9/20/2023  & travel\\\\\n\t5 & ngilcriest4 & Nico Gilcriest    & 10/11/1993 & ngilcriest4@dyndns.org    & NA & 33544 &            & music \\\\\n\t6 & fhampson5   & Farrell Hampson   & 11/7/1985  & fhampson5@lulu.com        & OC & 72161 &            & sports\\\\\n\t7 & ttotman6    & Tamqrah Totman    & 8/7/1986   & ttotman6@elpais.com       & AF & 42669 & 3/10/2023  & music \\\\\n\t8 & bdennes7    & Bonita Dennes     &            & bdennes7@cnet.com         & NA & 22516 & 2/3/2023   & sports\\\\\n\t9 & kgrigoryev8 & Krishna Grigoryev & 5/25/1990  & kgrigoryev8@quantcast.com & EU & 93923 & 1/30/2023  & travel\\\\\n\t10 & mbathoe9    & Mallissa Bathoe   &            & mbathoe9@bloomberg.com    & AS & 18554 & 3/5/2022   & travel\\\\\n\\end{tabular}\n",
            "text/plain": [
              "   username    full_name         birthdate  email                     continent\n",
              "1  ckippen0    Clevey Kippen     5/1/1991   ckippen0@t-online.de      NA       \n",
              "2  tgergler1   Tedi Gergler      10/5/1998  tgergler1@salon.com       NA       \n",
              "3  spomfrett2  Steffie Pomfrett             spomfrett2@imdb.com       NA       \n",
              "4  rphettis3   Ruddy Phettis     6/18/1984  rphettis3@npr.org         EU       \n",
              "5  ngilcriest4 Nico Gilcriest    10/11/1993 ngilcriest4@dyndns.org    NA       \n",
              "6  fhampson5   Farrell Hampson   11/7/1985  fhampson5@lulu.com        OC       \n",
              "7  ttotman6    Tamqrah Totman    8/7/1986   ttotman6@elpais.com       AF       \n",
              "8  bdennes7    Bonita Dennes                bdennes7@cnet.com         NA       \n",
              "9  kgrigoryev8 Krishna Grigoryev 5/25/1990  kgrigoryev8@quantcast.com EU       \n",
              "10 mbathoe9    Mallissa Bathoe              mbathoe9@bloomberg.com    AS       \n",
              "   followers last_login interests\n",
              "1  12362     5/16/2023  music    \n",
              "2  21360     8/20/2020  sports   \n",
              "3  19530     11/19/2022 sports   \n",
              "4  80047     9/20/2023  travel   \n",
              "5  33544                music    \n",
              "6  72161                sports   \n",
              "7  42669     3/10/2023  music    \n",
              "8  22516     2/3/2023   sports   \n",
              "9  93923     1/30/2023  travel   \n",
              "10 18554     3/5/2022   travel   "
            ]
          },
          "metadata": {}
        }
      ]
    },
    {
      "cell_type": "markdown",
      "source": [
        "Confused by how to get the top 10 as well-should I be using the slice_max code? I know I missed this on Lab1, but when I tried to investigate, I wasn't finding anything that made sense to me."
      ],
      "metadata": {
        "id": "Tyf1XPDFH8fz"
      }
    },
    {
      "cell_type": "code",
      "source": [
        "counts <- table(df2$continent)\n",
        "counts"
      ],
      "metadata": {
        "id": "Ed2t37z79IHf",
        "outputId": "33911b2d-e6d2-4ecf-f358-55b40c333680",
        "colab": {
          "base_uri": "https://localhost:8080/",
          "height": 69
        }
      },
      "execution_count": 212,
      "outputs": [
        {
          "output_type": "display_data",
          "data": {
            "text/plain": [
              "\n",
              " AF  AN  AS  EU  OC  SA \n",
              "103   1 182 127 148  92 "
            ]
          },
          "metadata": {}
        }
      ]
    },
    {
      "cell_type": "markdown",
      "source": [
        "I struggled a lot with this homework, particularly questions 2 and 3, so I definitely want to try and come by office hours, but I gave it my best shot to get something down."
      ],
      "metadata": {
        "id": "TMC7aO3mJajH"
      }
    }
  ]
}