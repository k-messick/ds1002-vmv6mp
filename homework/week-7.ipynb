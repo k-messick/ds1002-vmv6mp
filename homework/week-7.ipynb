{
  "nbformat": 4,
  "nbformat_minor": 0,
  "metadata": {
    "colab": {
      "provenance": [],
      "include_colab_link": true
    },
    "kernelspec": {
      "name": "python3",
      "display_name": "Python 3"
    },
    "language_info": {
      "name": "python"
    }
  },
  "cells": [
    {
      "cell_type": "markdown",
      "metadata": {
        "id": "view-in-github",
        "colab_type": "text"
      },
      "source": [
        "<a href=\"https://colab.research.google.com/github/k-messick/ds1002-vmv6mp/blob/main/homework/week-7.ipynb\" target=\"_parent\"><img src=\"https://colab.research.google.com/assets/colab-badge.svg\" alt=\"Open In Colab\"/></a>"
      ]
    },
    {
      "cell_type": "markdown",
      "source": [
        "# Homework - Week 7\n",
        "\n",
        "Complete the following blocks as specified in the directions. Run each cell to return the desired output. Save your notebook back to your GitHub repository and submit the GitHub URL for your notebook for review.\n",
        "\n",
        "Load the following dataset into pandas and perform the requested operations in code.\n",
        "\n",
        "Source: https://ds1002-resources.s3.amazonaws.com/data/ride_sharing.csv"
      ],
      "metadata": {
        "id": "phbaQTT5gy8A"
      }
    },
    {
      "cell_type": "code",
      "source": [
        "# Load pandas and the data\n",
        "import numpy as np\n",
        "import pandas as pd\n",
        "ride_sharing = pd.read_csv(\"https://ds1002-resources.s3.amazonaws.com/data/ride_sharing.csv\")"
      ],
      "metadata": {
        "id": "kdFLCHtOg53p"
      },
      "execution_count": 1,
      "outputs": []
    },
    {
      "cell_type": "code",
      "source": [
        "# show how many rows and columns are in this dataset\n",
        "ride_sharing.shape\n"
      ],
      "metadata": {
        "id": "Lfh8suAyhKQW",
        "outputId": "ed46fed6-15b6-4e24-83f3-259890e5c514",
        "colab": {
          "base_uri": "https://localhost:8080/"
        }
      },
      "execution_count": 2,
      "outputs": [
        {
          "output_type": "execute_result",
          "data": {
            "text/plain": [
              "(25760, 10)"
            ]
          },
          "metadata": {},
          "execution_count": 2
        }
      ]
    },
    {
      "cell_type": "code",
      "source": [
        "# The first column, \"duration\" is seen as a string.\n",
        "# Using two snippets of code, clean this column up so that\n",
        "# is now an integer (int64)\n",
        "ride_sharing['duration'] = ride_sharing['duration'].str.strip('minutes')\n",
        "ride_sharing['duration'] = ride_sharing['duration'].astype('int')\n"
      ],
      "metadata": {
        "id": "KK5-y9nzhMVq"
      },
      "execution_count": 3,
      "outputs": []
    },
    {
      "cell_type": "code",
      "source": [
        "# Now display the datatypes in the updated dataframe\n",
        "ride_sharing.dtypes\n"
      ],
      "metadata": {
        "id": "QyGJUshvhz1J",
        "outputId": "0bce51dc-fe81-458c-b386-9fcaeb7f2e47",
        "colab": {
          "base_uri": "https://localhost:8080/"
        }
      },
      "execution_count": 4,
      "outputs": [
        {
          "output_type": "execute_result",
          "data": {
            "text/plain": [
              "duration            int64\n",
              "station_A_id        int64\n",
              "station_A_name     object\n",
              "station_B_id        int64\n",
              "station_B_name     object\n",
              "bike_id             int64\n",
              "user_type           int64\n",
              "user_birth_year     int64\n",
              "user_gender        object\n",
              "tire_size           int64\n",
              "dtype: object"
            ]
          },
          "metadata": {},
          "execution_count": 4
        }
      ]
    },
    {
      "cell_type": "code",
      "source": [
        "# Show the min and max values of ride durations (the shortest and longest rides)\n",
        "# Hint: If 'df' is the name of your dataframe, simply specify the column name\n",
        "# and then append the .min() or .max() methods.\n",
        "ride_sharing[\"duration\"].min()\n"
      ],
      "metadata": {
        "id": "UCA1OswWh5b5",
        "outputId": "3bfeb653-9fb9-442a-ba77-4f63ac090a97",
        "colab": {
          "base_uri": "https://localhost:8080/"
        }
      },
      "execution_count": 5,
      "outputs": [
        {
          "output_type": "execute_result",
          "data": {
            "text/plain": [
              "1"
            ]
          },
          "metadata": {},
          "execution_count": 5
        }
      ]
    },
    {
      "cell_type": "code",
      "source": [
        "ride_sharing[\"duration\"].max()"
      ],
      "metadata": {
        "id": "ZODyVsL2OTke",
        "outputId": "3a99735e-194b-4a6a-92a1-43604a0899ad",
        "colab": {
          "base_uri": "https://localhost:8080/"
        }
      },
      "execution_count": 6,
      "outputs": [
        {
          "output_type": "execute_result",
          "data": {
            "text/plain": [
              "1372"
            ]
          },
          "metadata": {},
          "execution_count": 6
        }
      ]
    },
    {
      "cell_type": "code",
      "source": [
        "# Create a new dataframe object and populate it with rides that are 60 minutes or less.\n",
        "# Hint: Use the .query() method for the dataframe that we used in class.\n",
        "new = ride_sharing.query('duration <= 60')\n"
      ],
      "metadata": {
        "id": "K7mStv5kibbA"
      },
      "execution_count": 7,
      "outputs": []
    },
    {
      "cell_type": "code",
      "source": [
        "# Now show both the min and max values of the duration column for your new dataset.\n",
        "new[\"duration\"].min()"
      ],
      "metadata": {
        "id": "v63UdQjNi-w5",
        "outputId": "3a5d8e58-1058-4f1f-8291-fb1f32f47f1c",
        "colab": {
          "base_uri": "https://localhost:8080/"
        }
      },
      "execution_count": 8,
      "outputs": [
        {
          "output_type": "execute_result",
          "data": {
            "text/plain": [
              "1"
            ]
          },
          "metadata": {},
          "execution_count": 8
        }
      ]
    },
    {
      "cell_type": "code",
      "source": [
        "new[\"duration\"].max()"
      ],
      "metadata": {
        "id": "rL56daoYPbuF",
        "outputId": "b76dce24-f933-4a51-d77f-ee1e18814cf1",
        "colab": {
          "base_uri": "https://localhost:8080/"
        }
      },
      "execution_count": 9,
      "outputs": [
        {
          "output_type": "execute_result",
          "data": {
            "text/plain": [
              "60"
            ]
          },
          "metadata": {},
          "execution_count": 9
        }
      ]
    },
    {
      "cell_type": "code",
      "source": [
        "# Using the new dataframe, update it so that is ONLY has records where\n",
        "# the tire_size is 26.\n",
        "new1 = new.drop(new[new['tire_size'] == 26].index)\n",
        "print(new1)"
      ],
      "metadata": {
        "id": "xTzb_j9rjGk2",
        "outputId": "8bb99794-25cc-45b1-b1c3-d0771d445e1d",
        "colab": {
          "base_uri": "https://localhost:8080/"
        }
      },
      "execution_count": 10,
      "outputs": [
        {
          "output_type": "stream",
          "name": "stdout",
          "text": [
            "       duration  station_A_id  \\\n",
            "1            24             3   \n",
            "2             8            67   \n",
            "4            11            22   \n",
            "5            10            22   \n",
            "7             9            30   \n",
            "...         ...           ...   \n",
            "25752        15            16   \n",
            "25753         9            21   \n",
            "25754         9            21   \n",
            "25758        14            15   \n",
            "25759        29            16   \n",
            "\n",
            "                                          station_A_name  station_B_id  \\\n",
            "1           Powell St BART Station (Market St at 4th St)           118   \n",
            "2      San Francisco Caltrain Station 2  (Townsend St...            23   \n",
            "4                                  Howard St at Beale St           350   \n",
            "5                                  Howard St at Beale St             6   \n",
            "7         San Francisco Caltrain (Townsend St at 4th St)            97   \n",
            "...                                                  ...           ...   \n",
            "25752                            Steuart St at Market St           371   \n",
            "25753   Montgomery St BART Station (Market St at 2nd St)            58   \n",
            "25754   Montgomery St BART Station (Market St at 2nd St)            58   \n",
            "25758  San Francisco Ferry Building (Harry Bridges Pl...            42   \n",
            "25759                            Steuart St at Market St           115   \n",
            "\n",
            "                                      station_B_name  bike_id  user_type  \\\n",
            "1                    Eureka Valley Recreation Center     5193          2   \n",
            "2                      The Embarcadero at Steuart St     3652          3   \n",
            "4                               8th St at Brannan St     4626          2   \n",
            "5                      The Embarcadero at Sansome St     3279          2   \n",
            "7                              14th St at Mission St     5286          2   \n",
            "...                                              ...      ...        ...   \n",
            "25752                     Lombard St at Columbus Ave     4962          2   \n",
            "25753                           Market St at 10th St     4800          2   \n",
            "25754                           Market St at 10th St     5105          1   \n",
            "25758  San Francisco City Hall (Polk St at Grove St)     4438          2   \n",
            "25759                             Jackson Playground     1705          3   \n",
            "\n",
            "       user_birth_year user_gender  tire_size  \n",
            "1                 1965        Male         27  \n",
            "2                 1993        Male         29  \n",
            "4                 1994        Male         27  \n",
            "5                 1979        Male         29  \n",
            "7                 1991        Male         27  \n",
            "...                ...         ...        ...  \n",
            "25752             1994        Male         27  \n",
            "25753             1989        Male         27  \n",
            "25754             1989        Male         29  \n",
            "25758             1995        Male         27  \n",
            "25759             1990        Male         27  \n",
            "\n",
            "[12783 rows x 10 columns]\n"
          ]
        }
      ]
    },
    {
      "cell_type": "code",
      "source": [
        "# Finally, produce a count of all records with FEMALE riders\n",
        "# using the 26-inch wheeled rental bikes for their rentals of\n",
        "# one hour or less.\n",
        "len(new[(new[\"user_gender\"]==\"Female\") & (new[\"tire_size\"]==26) & (new[\"duration\"]<=60)])\n",
        "\n"
      ],
      "metadata": {
        "id": "0cwbfj66jrG9",
        "outputId": "870b1dcc-f26d-4d1d-ccfa-61f98ce91a42",
        "colab": {
          "base_uri": "https://localhost:8080/"
        }
      },
      "execution_count": 11,
      "outputs": [
        {
          "output_type": "execute_result",
          "data": {
            "text/plain": [
              "2962"
            ]
          },
          "metadata": {},
          "execution_count": 11
        }
      ]
    }
  ]
}