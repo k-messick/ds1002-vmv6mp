{
  "nbformat": 4,
  "nbformat_minor": 0,
  "metadata": {
    "colab": {
      "provenance": [],
      "include_colab_link": true
    },
    "kernelspec": {
      "name": "python3",
      "display_name": "Python 3"
    },
    "language_info": {
      "name": "python"
    }
  },
  "cells": [
    {
      "cell_type": "markdown",
      "metadata": {
        "id": "view-in-github",
        "colab_type": "text"
      },
      "source": [
        "<a href=\"https://colab.research.google.com/github/k-messick/ds1002-vmv6mp/blob/main/homework/week-9.ipynb\" target=\"_parent\"><img src=\"https://colab.research.google.com/assets/colab-badge.svg\" alt=\"Open In Colab\"/></a>"
      ]
    },
    {
      "cell_type": "markdown",
      "source": [
        "# Homework - Week 9\n",
        "\n",
        "Complete the following blocks as specified in the directions. Run each cell to return the desired output. Save your notebook back to your GitHub repository and submit the GitHub URL to your notebook for review."
      ],
      "metadata": {
        "id": "phbaQTT5gy8A"
      }
    },
    {
      "cell_type": "markdown",
      "source": [
        "## Functions\n",
        "\n",
        "In the cell below define a function that takes one parameter (in the form of a list) called `names` and returns a simple greeting for each name, such as\n",
        "\n",
        "    \"Hello Natasha, it's so nice to meet you\"\n",
        "    \"Hello Sid, it's so nice to meet you\"\n",
        "\n",
        "Define the function and run it, and in another cell below call the function populated with a var of a list of names."
      ],
      "metadata": {
        "id": "38Pg39pMrDua"
      }
    },
    {
      "cell_type": "markdown",
      "source": [
        "**Just a little confused on how to get the greeting to apply to each name separately. I tried it two ways (in cell 147 & 149), yet each way gave me just the greeting and then listed the names. Even though I specified \"for name in names\" in cell 149, which I thought would have the greeting be applied to each individual item in the list called names."
      ],
      "metadata": {
        "id": "_tzc3GAnS-da"
      }
    },
    {
      "cell_type": "code",
      "source": [
        "#\n",
        "\n",
        "names = [\"Lily,\" \"Gavin,\" \"Gabe,\" \"Sarah\"]\n",
        "\n",
        "def greet(names):\n",
        "  for name in names:\n",
        "    return [\"Good luck\" + \" \" + names]\n",
        "\n"
      ],
      "metadata": {
        "id": "kdFLCHtOg53p"
      },
      "execution_count": 147,
      "outputs": []
    },
    {
      "cell_type": "code",
      "source": [
        "#\n",
        "print(greet(\"Lily,\" \"Gavin,\" \"Gabe,\" \"Sarah\"))\n",
        "\n",
        ""
      ],
      "metadata": {
        "id": "JlNPe_XUsmog",
        "outputId": "046280fe-ed89-4d28-f386-e543e3258462",
        "colab": {
          "base_uri": "https://localhost:8080/"
        }
      },
      "execution_count": 148,
      "outputs": [
        {
          "output_type": "stream",
          "name": "stdout",
          "text": [
            "['Good luck Lily,Gavin,Gabe,Sarah']\n"
          ]
        }
      ]
    },
    {
      "cell_type": "code",
      "source": [
        "def greet(names):\n",
        "  new = []\n",
        "  for name in names:\n",
        "    greetings = [\"Good luck\" + \" \" + names]\n",
        "    new.append(greetings)\n",
        "    return new\n",
        "print(greet(\"Lily,\" \"Gavin,\" \"Gabe,\" \"Sarah\"))\n"
      ],
      "metadata": {
        "id": "BFWerDFVSXGo",
        "outputId": "5a3bb2bc-1051-4ca2-e8b9-d3675defd949",
        "colab": {
          "base_uri": "https://localhost:8080/"
        }
      },
      "execution_count": 149,
      "outputs": [
        {
          "output_type": "stream",
          "name": "stdout",
          "text": [
            "[['Good luck Lily,Gavin,Gabe,Sarah']]\n"
          ]
        }
      ]
    },
    {
      "cell_type": "markdown",
      "source": [
        "Using the following list, pass it into a function you define that will evaluate the list and return a count of how many items is in it. Be creative.\n",
        "\n",
        "> Indented block\n",
        "\n",
        "\n",
        "\n",
        "```\n",
        "mylist = [\"Toronto\",\"Buffalo\",\"Syracuse\",\"Albany\",\"Schenectady\",\"Brooklyn\",\"Rome\",\"Ithaca\"]\n",
        "```"
      ],
      "metadata": {
        "id": "mXqNACpkrdUZ"
      }
    },
    {
      "cell_type": "code",
      "source": [
        "#\n",
        "mylist = [\"Toronto\",\"Buffalo\",\"Syracuse\",\"Albany\",\"Schenectady\",\"Brooklyn\",\"Rome\",\"Ithaca\"]\n",
        "print(len(mylist))"
      ],
      "metadata": {
        "id": "mvxOzRSisg0a",
        "outputId": "eec2a9e9-cfba-46c1-ca95-d64fa70c6b3c",
        "colab": {
          "base_uri": "https://localhost:8080/"
        }
      },
      "execution_count": 114,
      "outputs": [
        {
          "output_type": "stream",
          "name": "stdout",
          "text": [
            "8\n"
          ]
        }
      ]
    },
    {
      "cell_type": "markdown",
      "source": [
        "## Input Validation\n",
        "\n",
        "Write a function below that defines two input parameters as `bool` and returns a `bool`.\n",
        "In the cell below that, populate two variables with two different bools (True and False)\n",
        "and pass them into a call of your function."
      ],
      "metadata": {
        "id": "YU7FXSCXsFab"
      }
    },
    {
      "cell_type": "code",
      "source": [
        "#\n",
        "def myfunction(x,y = False):\n",
        "  if x == False:\n",
        "    if y == False:\n",
        "      print(\"Yes\")\n",
        "myfunction(False)"
      ],
      "metadata": {
        "id": "DGMJZjlysfHU",
        "outputId": "c7d81fd5-3843-48de-fe63-41a33fb0e26f",
        "colab": {
          "base_uri": "https://localhost:8080/"
        }
      },
      "execution_count": 115,
      "outputs": [
        {
          "output_type": "stream",
          "name": "stdout",
          "text": [
            "Yes\n"
          ]
        }
      ]
    },
    {
      "cell_type": "code",
      "source": [
        "\n",
        "z = \"True\"\n",
        "w = \"False\"\n",
        "def show_arg_expansion(*myfunction):\n",
        "\n",
        "    print(z, myfunction)\n",
        "    print(w, myfunction)\n",
        "\n",
        "    for function in myfunction:\n",
        "        print(function)\n",
        "\n",
        "show_arg_expansion(z, w)\n",
        "\n",
        "if z == False:\n",
        "  if w == False:\n",
        "    print(\"Yes\")\n",
        "myfunction(False)\n"
      ],
      "metadata": {
        "id": "29zeGbPb1voF",
        "outputId": "86f40a5b-61f8-4fe8-87e4-03a6daec9ed1",
        "colab": {
          "base_uri": "https://localhost:8080/"
        }
      },
      "execution_count": 116,
      "outputs": [
        {
          "output_type": "stream",
          "name": "stdout",
          "text": [
            "True ('True', 'False')\n",
            "False ('True', 'False')\n",
            "True\n",
            "False\n",
            "Yes\n"
          ]
        }
      ]
    },
    {
      "cell_type": "markdown",
      "source": [
        "## Global Variables\n",
        "\n",
        "Define a global variable and populate it with a data type (int, str, bool, float, etc.)"
      ],
      "metadata": {
        "id": "xXZTr5fdsd5M"
      }
    },
    {
      "cell_type": "code",
      "source": [
        "#\n",
        "z = 8\n",
        "\n",
        "def print_the_global_var():\n",
        "  print(z)\n",
        ""
      ],
      "metadata": {
        "id": "HN8CFLVRs6_L"
      },
      "execution_count": 117,
      "outputs": []
    },
    {
      "cell_type": "markdown",
      "source": [
        "Now create a function that prints out the global variable. Call the function and display the value of the var."
      ],
      "metadata": {
        "id": "G1Auc6l1s8F6"
      }
    },
    {
      "cell_type": "code",
      "source": [
        "#\n",
        "z = 8\n",
        "\n",
        "def print_the_global_var():\n",
        "  print(z)\n",
        "print_the_global_var()"
      ],
      "metadata": {
        "id": "Q6O0Ep_wtBWJ",
        "outputId": "6e6147a3-874a-4349-bb7b-049170fbf419",
        "colab": {
          "base_uri": "https://localhost:8080/"
        }
      },
      "execution_count": 118,
      "outputs": [
        {
          "output_type": "stream",
          "name": "stdout",
          "text": [
            "8\n"
          ]
        }
      ]
    },
    {
      "cell_type": "markdown",
      "source": [
        "Now create a function that creates its own global var and populates it.\n",
        "Call the function and then print out the global var from outside of the function."
      ],
      "metadata": {
        "id": "IN2TRQI8tCC4"
      }
    },
    {
      "cell_type": "code",
      "source": [
        "#\n",
        "y = 8\n",
        "\n",
        "def fcn(t):\n",
        "    out = y + t\n",
        "    return(out)\n",
        "print(fcn(29))"
      ],
      "metadata": {
        "id": "Oz4rnmfTtKen",
        "outputId": "a47e465d-5fad-4a99-c97d-b3141176ce83",
        "colab": {
          "base_uri": "https://localhost:8080/"
        }
      },
      "execution_count": 119,
      "outputs": [
        {
          "output_type": "stream",
          "name": "stdout",
          "text": [
            "37\n"
          ]
        }
      ]
    },
    {
      "cell_type": "markdown",
      "source": [
        "Finally, write a function that updates the value of the global var you defined 3 cells above.\n",
        "\n",
        "1. Within the function, print out the global var you defined 3 cells above.\n",
        "2. Update the global var to have a new value.\n",
        "3. Within the function, print the new value of the global var.\n",
        "\n",
        "Call the function and once more print out the value of the global var from outside of the function."
      ],
      "metadata": {
        "id": "jv0dtym0tLZn"
      }
    },
    {
      "cell_type": "code",
      "source": [
        "#\n",
        "z = 8\n",
        "\n",
        "def update_the_global():\n",
        "  global z\n",
        "  z = 18\n",
        "\n",
        "update_the_global()\n",
        "print(z)"
      ],
      "metadata": {
        "id": "pnX-hfKouLcG",
        "outputId": "55445775-fc75-4993-955d-71e3a731d435",
        "colab": {
          "base_uri": "https://localhost:8080/"
        }
      },
      "execution_count": 120,
      "outputs": [
        {
          "output_type": "stream",
          "name": "stdout",
          "text": [
            "18\n"
          ]
        }
      ]
    }
  ]
}