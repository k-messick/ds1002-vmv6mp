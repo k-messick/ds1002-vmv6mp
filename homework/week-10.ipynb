{
  "nbformat": 4,
  "nbformat_minor": 0,
  "metadata": {
    "colab": {
      "provenance": [],
      "include_colab_link": true
    },
    "kernelspec": {
      "name": "python3",
      "display_name": "Python 3"
    },
    "language_info": {
      "name": "python"
    }
  },
  "cells": [
    {
      "cell_type": "markdown",
      "metadata": {
        "id": "view-in-github",
        "colab_type": "text"
      },
      "source": [
        "<a href=\"https://colab.research.google.com/github/k-messick/ds1002-vmv6mp/blob/main/homework/week-10.ipynb\" target=\"_parent\"><img src=\"https://colab.research.google.com/assets/colab-badge.svg\" alt=\"Open In Colab\"/></a>"
      ]
    },
    {
      "cell_type": "markdown",
      "source": [
        "# Homework - Week 10\n",
        "\n",
        "Complete the following blocks as specified in the directions. Run each cell to return the desired output. Save your notebook back to your GitHub repository and submit the GitHub URL to your notebook for review."
      ],
      "metadata": {
        "id": "phbaQTT5gy8A"
      }
    },
    {
      "cell_type": "markdown",
      "source": [
        "## Class Basics\n",
        "\n",
        "Closely inspect the class below and answer the questions in the following cells."
      ],
      "metadata": {
        "id": "38Pg39pMrDua"
      }
    },
    {
      "cell_type": "code",
      "source": [
        "\n",
        "class Products:\n",
        "  def __init__(self, id, name, price, description, manufacturer):\n",
        "    self.id = id\n",
        "    self.name = name\n",
        "    self.price = price\n",
        "    self.description = description\n",
        "    self.manufacturer = manufacturer\n",
        "\n",
        "  def print_product(self):\n",
        "    print(f\"Product {self.id} is {self.name} made by {self.manufacturer}. It costs ${self.price}\")\n"
      ],
      "metadata": {
        "id": "kdFLCHtOg53p"
      },
      "execution_count": 94,
      "outputs": []
    },
    {
      "cell_type": "code",
      "source": [
        "# What are the attributes of this class?\n",
        "\n",
        "#Answer: The attributes of this class include id, name, price, description, and manufacturer.\n",
        "\n"
      ],
      "metadata": {
        "id": "SG85PC5Q0oSi"
      },
      "execution_count": 31,
      "outputs": []
    },
    {
      "cell_type": "code",
      "source": [
        "# In one line of code, create an instance of the class populating its attributes.\n",
        "Toys = Products(45899001,\"Barbie\", 21.99, \"Popstar Barbie Doll\", \"Mattel\")\n"
      ],
      "metadata": {
        "id": "ckuUZlUc0q8D"
      },
      "execution_count": 95,
      "outputs": []
    },
    {
      "cell_type": "code",
      "source": [
        "# Referencing the instance you just created, what code is required to print out the name of the instance?\n",
        "print(Toys.name)\n"
      ],
      "metadata": {
        "id": "Ksp2TAiM0u5t",
        "outputId": "730a18dd-ac5e-47a5-be3d-ea4d875ff0af",
        "colab": {
          "base_uri": "https://localhost:8080/"
        }
      },
      "execution_count": 96,
      "outputs": [
        {
          "output_type": "stream",
          "name": "stdout",
          "text": [
            "Barbie\n"
          ]
        }
      ]
    },
    {
      "cell_type": "markdown",
      "source": [
        "## Class Methods"
      ],
      "metadata": {
        "id": "0jQs4JYU2Kfh"
      }
    },
    {
      "cell_type": "code",
      "source": [
        "# Using the instance you created above, call the `print_product` method properly in a line of code.\n",
        "def print_product(self):\n",
        "  print(f\"Product {self.id} is {self.name} made by {self.manufacturer}. It costs ${self.price}.\")\n",
        "\n",
        "Toys.print_product()\n",
        "\n",
        "\n"
      ],
      "metadata": {
        "id": "aO-zWkhd172f",
        "outputId": "63d8bda5-1861-4cfd-cec9-60120bbe2297",
        "colab": {
          "base_uri": "https://localhost:8080/"
        }
      },
      "execution_count": 97,
      "outputs": [
        {
          "output_type": "stream",
          "name": "stdout",
          "text": [
            "Product 45899001 is Barbie made by Mattel. It costs $21.99\n"
          ]
        }
      ]
    },
    {
      "cell_type": "markdown",
      "source": [
        "*I understand that the instructions say to call the 'print_product' method properly in a line of code, so I believe I would only need the #Toys.print_product() since it is already defined, however I included the def part as well in this case to show I understood where the line of code calling the method came from."
      ],
      "metadata": {
        "id": "Jt4UZwCtP2YN"
      }
    },
    {
      "cell_type": "code",
      "source": [
        "# Now declare the class again (copy + paste from above). But now add a NEW method that you write.\n",
        "# This method should create a new attribute called \"sales_price\" that is 80% of the normal price.\n",
        "#\n",
        "# Finally, write this method to print out a statement like \"The ________ product is on sale for _____\"\n",
        "# where you fill in the blanks with the name and sales_price of the product.\n"
      ],
      "metadata": {
        "id": "75apcUeJ2VQo"
      },
      "execution_count": 59,
      "outputs": []
    },
    {
      "cell_type": "code",
      "source": [
        "# Execute the class above\n",
        "class Products:\n",
        "  def __init__(self, id, name, price, description, manufacturer, sales_price):\n",
        "    self.id = id\n",
        "    self.name = name\n",
        "    self.price = price\n",
        "    self.description = description\n",
        "    self.manufacturer = manufacturer\n",
        "    self.sale = sales_price\n",
        "\n",
        "  def sales_price(self):\n",
        "    print(f\"The {self.name} product is on sale for ${self.sale}.\")\n"
      ],
      "metadata": {
        "id": "TZiNWOl_2-oh"
      },
      "execution_count": 98,
      "outputs": []
    },
    {
      "cell_type": "code",
      "source": [
        "# Now create an instance of the class with new values.\n",
        "Toys = Products(45899001,\"Barbie\", 21.99, \"Popstar Barbie Doll\", \"Mattel\", 17.59)\n",
        "\n"
      ],
      "metadata": {
        "id": "TT8qK1Ie3EVX"
      },
      "execution_count": 99,
      "outputs": []
    },
    {
      "cell_type": "markdown",
      "source": [
        "*Question: When you're creating an instance of a class with new values, is it better to do a new \"name\" too? Such as, #Discounted_Toys = Products(45899001,\"Barbie\", 21.99, \"Popstar Barbie Doll\", \"Mattel\", 17.59)\n"
      ],
      "metadata": {
        "id": "6Jt9ggSEQwxC"
      }
    },
    {
      "cell_type": "code",
      "source": [
        "# Finally, using the instance you just created, invoke the new method you wrote. Be sure it prints\n",
        "# the desired text described above.\n",
        "\n",
        "Toys.sales_price()"
      ],
      "metadata": {
        "id": "mobnFcMw3Icp",
        "outputId": "7e3423a1-183e-4ad5-9272-e062d0e99afb",
        "colab": {
          "base_uri": "https://localhost:8080/"
        }
      },
      "execution_count": 103,
      "outputs": [
        {
          "output_type": "stream",
          "name": "stdout",
          "text": [
            "The Barbie product is on sale for $17.59.\n"
          ]
        }
      ]
    }
  ]
}