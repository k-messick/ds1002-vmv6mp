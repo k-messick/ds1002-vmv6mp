{
  "cells": [
    {
      "cell_type": "markdown",
      "metadata": {
        "id": "view-in-github",
        "colab_type": "text"
      },
      "source": [
        "<a href=\"https://colab.research.google.com/github/k-messick/ds1002-vmv6mp/blob/main/notebooks/password-generator.ipynb\" target=\"_parent\"><img src=\"https://colab.research.google.com/assets/colab-badge.svg\" alt=\"Open In Colab\"/></a>"
      ]
    },
    {
      "cell_type": "markdown",
      "metadata": {
        "id": "-0f83etDA-dx"
      },
      "source": [
        "# Password Generator\n",
        "\n",
        "To start working with Python functions, let's build a simple, real-world example: A password generator.\n",
        "\n",
        "We'll work up the design from simplest to more complex."
      ]
    },
    {
      "cell_type": "code",
      "execution_count": 1,
      "metadata": {
        "id": "6hKHnGTsA-dz"
      },
      "outputs": [],
      "source": [
        "# import two helpful libraries that are built into Python\n",
        "import random\n",
        "import string"
      ]
    },
    {
      "cell_type": "code",
      "execution_count": 2,
      "metadata": {
        "id": "QK9juZV8A-dz",
        "outputId": "c507ff53-c21d-46f0-8a1a-e2699b2c8eb0",
        "colab": {
          "base_uri": "https://localhost:8080/"
        }
      },
      "outputs": [
        {
          "output_type": "stream",
          "name": "stdout",
          "text": [
            "abcdefghijklmnopqrstuvwxyz\n",
            "ABCDEFGHIJKLMNOPQRSTUVWXYZ\n",
            "0123456789\n",
            "!\"#$%&'()*+,-./:;<=>?@[\\]^_`{|}~\n"
          ]
        }
      ],
      "source": [
        "# string gives us sets of string characters:\n",
        "lc_letters = string.ascii_lowercase\n",
        "uc_letters = string.ascii_uppercase\n",
        "digits = string.digits\n",
        "punctuation = string.punctuation\n",
        "\n",
        "print(lc_letters)\n",
        "print(uc_letters)\n",
        "print(digits)\n",
        "print(punctuation)"
      ]
    },
    {
      "cell_type": "code",
      "execution_count": 3,
      "metadata": {
        "id": "LFIdO0pAA-d0"
      },
      "outputs": [],
      "source": [
        "# Build a variable that contains all the string choices\n",
        "all_chars = lc_letters + uc_letters + digits + punctuation\n",
        "\n",
        "# or, even simpler:\n",
        "all_chars = string.ascii_lowercase + string.ascii_uppercase + string.digits + string.punctuation"
      ]
    },
    {
      "cell_type": "code",
      "execution_count": 6,
      "metadata": {
        "id": "4BgoNjfYA-d0",
        "outputId": "a3012aa4-3d8d-4343-e7ab-5a0919291846",
        "colab": {
          "base_uri": "https://localhost:8080/",
          "height": 35
        }
      },
      "outputs": [
        {
          "output_type": "execute_result",
          "data": {
            "text/plain": [
              "'J'"
            ],
            "application/vnd.google.colaboratory.intrinsic+json": {
              "type": "string"
            }
          },
          "metadata": {},
          "execution_count": 6
        }
      ],
      "source": [
        "# randomn gives us the ability to randomly select items from a list\n",
        "random.choice(all_chars)"
      ]
    },
    {
      "cell_type": "code",
      "execution_count": 5,
      "metadata": {
        "id": "ACEb73s7A-d0",
        "outputId": "2e85e830-0b78-4bb6-a887-8e65c0cd52b0",
        "colab": {
          "base_uri": "https://localhost:8080/"
        }
      },
      "outputs": [
        {
          "output_type": "stream",
          "name": "stdout",
          "text": [
            "pMm=Fr{m-`\n"
          ]
        }
      ],
      "source": [
        "# now build a for-loop that will randomly select 10 characters from the list.\n",
        "# start with an empty password string\n",
        "mypass = ''\n",
        "for i in range(10):\n",
        "    mypass += random.choice(all_chars)\n",
        "\n",
        "print(mypass)"
      ]
    },
    {
      "cell_type": "code",
      "execution_count": 7,
      "metadata": {
        "id": "-H_QI0smA-d1",
        "outputId": "0eaa8ef5-1cb0-42e6-d3f6-3cf9b273b884",
        "colab": {
          "base_uri": "https://localhost:8080/",
          "height": 35
        }
      },
      "outputs": [
        {
          "output_type": "execute_result",
          "data": {
            "text/plain": [
              "'TN@@p7)@oO'"
            ],
            "application/vnd.google.colaboratory.intrinsic+json": {
              "type": "string"
            }
          },
          "metadata": {},
          "execution_count": 7
        }
      ],
      "source": [
        "# Using all this inside of a function\n",
        "\n",
        "def generate_password():\n",
        "    all_chars = string.ascii_lowercase + string.ascii_uppercase + string.digits + string.punctuation\n",
        "    mypass = ''\n",
        "    for i in range(10):\n",
        "        mypass += random.choice(all_chars)\n",
        "    return mypass\n",
        "\n",
        "generate_password()"
      ]
    },
    {
      "cell_type": "markdown",
      "metadata": {
        "id": "8J_9-_YsA-d1"
      },
      "source": [
        "## Adding Parameters\n",
        "\n",
        "The above example has no options or parameters - it just spits out a 10-character password each time. That's okay but not very customizable."
      ]
    },
    {
      "cell_type": "code",
      "execution_count": 8,
      "metadata": {
        "id": "mcxft6n8A-d1",
        "outputId": "0c1ab9e7-972d-40de-ff03-928aacc4993d",
        "colab": {
          "base_uri": "https://localhost:8080/"
        }
      },
      "outputs": [
        {
          "output_type": "stream",
          "name": "stdout",
          "text": [
            "1',SR/qFXED4ps2]PWlG\n",
            "ggi:2{bA\"&AF%_d\\-omE|$Nu,&+gzQ\n",
            "Rujm0\n"
          ]
        }
      ],
      "source": [
        "# Let's add an option to customize the length of the password in the form of an integer parameter\n",
        "\n",
        "def generate_password(length):\n",
        "    all_chars = string.ascii_lowercase + string.ascii_uppercase + string.digits + string.punctuation\n",
        "    mypass = ''\n",
        "    for i in range(length):\n",
        "        mypass += random.choice(all_chars)\n",
        "    return mypass\n",
        "\n",
        "print(generate_password(20))\n",
        "print(generate_password(30))\n",
        "print(generate_password(5))"
      ]
    },
    {
      "cell_type": "code",
      "execution_count": 9,
      "metadata": {
        "id": "Am8WxXJaA-d1",
        "outputId": "42b33828-d35f-4f45-f51b-00985ae29da1",
        "colab": {
          "base_uri": "https://localhost:8080/"
        }
      },
      "outputs": [
        {
          "output_type": "stream",
          "name": "stdout",
          "text": [
            "Q?7}o!<b\n"
          ]
        }
      ],
      "source": [
        "# One problem you may notice in sample passwords from above is that quote marks are included\n",
        "# in the possible characters.  Let's remove those from the all_chars before we generate the password.\n",
        "\n",
        "def generate_password(length):\n",
        "    all_chars = string.ascii_lowercase + string.ascii_uppercase + string.digits + string.punctuation\n",
        "    all_chars = all_chars.replace(\"'\", \"\")\n",
        "    all_chars = all_chars.replace('\"', \"\")\n",
        "    mypass = ''\n",
        "    for i in range(length):\n",
        "        mypass += random.choice(all_chars)\n",
        "    return mypass\n",
        "\n",
        "print(generate_password(8))"
      ]
    },
    {
      "cell_type": "code",
      "execution_count": 11,
      "metadata": {
        "id": "vIG2a0kUA-d1",
        "outputId": "005190a4-2f81-461f-9cdf-6719ae6bb0eb",
        "colab": {
          "base_uri": "https://localhost:8080/"
        }
      },
      "outputs": [
        {
          "output_type": "stream",
          "name": "stdout",
          "text": [
            "How long would you like your password to be? 14\n",
            "h.}Y3&vO(xEyB@\n"
          ]
        }
      ],
      "source": [
        "# We can also prompt the user to input the length when the function is called\n",
        "\n",
        "def generate_password():\n",
        "    length = int(input('How long would you like your password to be? '))\n",
        "    all_chars = string.ascii_lowercase + string.ascii_uppercase + string.digits + string.punctuation\n",
        "    all_chars = all_chars.replace(\"'\", \"\")\n",
        "    all_chars = all_chars.replace('\"', \"\")\n",
        "    mypass = ''\n",
        "    for i in range(length):\n",
        "        mypass += random.choice(all_chars)\n",
        "    return mypass\n",
        "\n",
        "print(generate_password())"
      ]
    },
    {
      "cell_type": "markdown",
      "metadata": {
        "id": "aE_j36RFA-d1"
      },
      "source": [
        "## Use the function elsewhere\n",
        "\n",
        "Let's define the function again neatly.\n",
        "Then define a second function that takes in a simple list of users and returns a dictionary of users + passwords."
      ]
    },
    {
      "cell_type": "code",
      "execution_count": 12,
      "metadata": {
        "id": "RFTObBaMA-d2",
        "outputId": "0b3ebf4b-fc0d-4f96-b874-53cf4a66dd53",
        "colab": {
          "base_uri": "https://localhost:8080/"
        }
      },
      "outputs": [
        {
          "output_type": "execute_result",
          "data": {
            "text/plain": [
              "{'John': '!tAa_`4!{D',\n",
              " 'Paul': '&+aXB><{zt',\n",
              " 'George': 'F9?n=PEqPy',\n",
              " 'Ringo': 'Re;L~ww-[C'}"
            ]
          },
          "metadata": {},
          "execution_count": 12
        }
      ],
      "source": [
        "def generate_password():\n",
        "    all_chars = string.ascii_lowercase + string.ascii_uppercase + string.digits + string.punctuation\n",
        "    all_chars = all_chars.replace(\"'\", \"\")\n",
        "    all_chars = all_chars.replace('\"', \"\")\n",
        "    mypass = ''\n",
        "    for i in range(10):\n",
        "        mypass += random.choice(all_chars)\n",
        "    return mypass\n",
        "\n",
        "userlist = [\"John\", \"Paul\", \"George\", \"Ringo\"]\n",
        "\n",
        "def assign_passwords(userlist):\n",
        "    users = {}\n",
        "    for user in userlist:\n",
        "        users[user] = generate_password()\n",
        "    # return the dict back\n",
        "    return users\n",
        "\n",
        "assign_passwords(userlist)\n"
      ]
    }
  ],
  "metadata": {
    "kernelspec": {
      "display_name": "Python 3",
      "language": "python",
      "name": "python3"
    },
    "language_info": {
      "codemirror_mode": {
        "name": "ipython",
        "version": 3
      },
      "file_extension": ".py",
      "mimetype": "text/x-python",
      "name": "python",
      "nbconvert_exporter": "python",
      "pygments_lexer": "ipython3",
      "version": "3.9.6"
    },
    "colab": {
      "provenance": [],
      "include_colab_link": true
    }
  },
  "nbformat": 4,
  "nbformat_minor": 0
}