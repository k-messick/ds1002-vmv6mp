{
  "cells": [
    {
      "cell_type": "markdown",
      "metadata": {
        "id": "view-in-github",
        "colab_type": "text"
      },
      "source": [
        "<a href=\"https://colab.research.google.com/github/k-messick/ds1002-vmv6mp/blob/main/notebooks/07-numpy-continued.ipynb\" target=\"_parent\"><img src=\"https://colab.research.google.com/assets/colab-badge.svg\" alt=\"Open In Colab\"/></a>"
      ]
    },
    {
      "cell_type": "markdown",
      "metadata": {
        "id": "-y-T4jtwGviE"
      },
      "source": [
        "```\n",
        "Course:   DS1002\n",
        "Module:   Module 5\n",
        "Topic:    NumPy Continued\n",
        "```\n",
        "\n",
        "### PREREQUISITES\n",
        "- import / import as\n",
        "- variables\n",
        "- creating basic arrays\n",
        "\n",
        "### SOURCES\n",
        "- https://numpy.org/\n",
        "- https://en.wikipedia.org/wiki/NumPy\n",
        "- https://www.scipy.org/\n",
        "- https://en.wikipedia.org/wiki/SciPy\n",
        "- https://numpy.org/doc/stable/reference/generated/numpy.ndarray.html\n",
        "- https://docs.scipy.org/doc/numpy-1.15.1/reference/generated/numpy.random.randint.html\n",
        "\n",
        "### OBJECTIVES\n",
        "- Introduction to Numpy\n",
        "\n",
        "### CONCEPTS\n",
        "- The numpy package contains useful functions for math operations\n",
        "- The ndarray is the workhorse of the package"
      ]
    },
    {
      "cell_type": "code",
      "execution_count": 1,
      "metadata": {
        "id": "AILfOgNJGviG"
      },
      "outputs": [],
      "source": [
        "import numpy as np"
      ]
    },
    {
      "cell_type": "markdown",
      "metadata": {
        "id": "ncuzokBmGviH"
      },
      "source": [
        "# Data Types\n",
        "\n",
        "One way to control the data type of a NumPy array is to declare it when the array is created using the `dtype` keyword argument. Take a look at the data type NumPy uses by default when creating an array with `np.zeros()`. Could it be updated?\n",
        "\n",
        "* Using `np.zeros()`, create an array of zeros that has three rows and two columns; call it `zero_array`.  \n",
        "* Print the data type of `zero_array`.\n"
      ]
    },
    {
      "cell_type": "code",
      "execution_count": 3,
      "metadata": {
        "id": "xafx9TvIGviH",
        "outputId": "e206cb37-9ee1-47f5-e0b0-73782c9c4d39",
        "colab": {
          "base_uri": "https://localhost:8080/"
        }
      },
      "outputs": [
        {
          "output_type": "stream",
          "name": "stdout",
          "text": [
            "float64\n",
            "[[0. 0.]\n",
            " [0. 0.]\n",
            " [0. 0.]]\n"
          ]
        }
      ],
      "source": [
        "# Create an array of zeros with three rows and two columns\n",
        "zero_array = np.zeros((3, 2))\n",
        "\n",
        "# Print the data type of zero_array\n",
        "#64 means the capacity\n",
        "print(zero_array.dtype)\n",
        "print(zero_array)"
      ]
    },
    {
      "cell_type": "markdown",
      "metadata": {
        "id": "6hJhoXE_GviH"
      },
      "source": [
        "* Create a new array of zeros called `zero_int_array`, which will also have three rows and two columns, but the data type should be `np.int32`.  \n",
        "\n",
        "* Print the data type of `zero_int_array`."
      ]
    },
    {
      "cell_type": "code",
      "execution_count": 5,
      "metadata": {
        "id": "9YQeHJmeGviH",
        "outputId": "a91d8a1a-2a9e-4a02-8897-b1637216f722",
        "colab": {
          "base_uri": "https://localhost:8080/"
        }
      },
      "outputs": [
        {
          "output_type": "stream",
          "name": "stdout",
          "text": [
            "int32\n",
            "[[0. 0.]\n",
            " [0. 0.]\n",
            " [0. 0.]]\n"
          ]
        }
      ],
      "source": [
        "# Create a new array of int32 zeros with three rows and two columns\n",
        "zero_int_array = np.zeros((3, 2), dtype=np.int32)\n",
        "\n",
        "# Print the data type of zero_int_array\n",
        "print(zero_int_array.dtype)\n",
        "print(zero_array)"
      ]
    },
    {
      "cell_type": "code",
      "execution_count": 9,
      "metadata": {
        "id": "a5e12dCWGviH",
        "outputId": "d2d08df8-3761-46e6-88d2-d888046bf115",
        "colab": {
          "base_uri": "https://localhost:8080/"
        }
      },
      "outputs": [
        {
          "output_type": "execute_result",
          "data": {
            "text/plain": [
              "array([6. , 7.5, 8. , 0. , 1. ])"
            ]
          },
          "metadata": {},
          "execution_count": 9
        }
      ],
      "source": [
        "data1 = [6, 7.5, 8, 0, 1]        # create a list (comes from a python list & we can convert it to an ndarray)\n",
        "arr1 = np.array(data1)           # turn list into a numpy array\n",
        "arr1\n",
        "#ndarrays also have to be homogenous in terms of data type"
      ]
    },
    {
      "cell_type": "code",
      "execution_count": 11,
      "metadata": {
        "id": "1qzrva3xGviI",
        "outputId": "926d1c1b-39ce-4c17-e197-92a77ffaffbe",
        "colab": {
          "base_uri": "https://localhost:8080/"
        }
      },
      "outputs": [
        {
          "output_type": "execute_result",
          "data": {
            "text/plain": [
              "array([[1, 2, 3, 4],\n",
              "       [5, 6, 7, 8]])"
            ]
          },
          "metadata": {},
          "execution_count": 11
        }
      ],
      "source": [
        "data2 = [[1, 2, 3, 4], [5, 6, 7, 8]]       # create a 2-dimensional list (it's just a list of lists)\n",
        "arr2 = np.array(data2)                     # turn that list into a numpy array\n",
        "arr2"
      ]
    },
    {
      "cell_type": "code",
      "execution_count": 12,
      "metadata": {
        "id": "KwLy0JTSGviI",
        "outputId": "1dc0e8c0-27ae-450c-ede9-63788f6ccd89",
        "colab": {
          "base_uri": "https://localhost:8080/"
        }
      },
      "outputs": [
        {
          "output_type": "execute_result",
          "data": {
            "text/plain": [
              "2"
            ]
          },
          "metadata": {},
          "execution_count": 12
        }
      ],
      "source": [
        "arr2.ndim       # get the dimension"
      ]
    },
    {
      "cell_type": "code",
      "execution_count": 13,
      "metadata": {
        "id": "CeU7pinvGviI",
        "outputId": "64f0f86c-45b6-463c-de27-93f8b9c0d46a",
        "colab": {
          "base_uri": "https://localhost:8080/"
        }
      },
      "outputs": [
        {
          "output_type": "execute_result",
          "data": {
            "text/plain": [
              "(2, 4)"
            ]
          },
          "metadata": {},
          "execution_count": 13
        }
      ],
      "source": [
        "arr2.shape      # get the shape (gives the dimension and how much width to each dimension)"
      ]
    },
    {
      "cell_type": "code",
      "execution_count": 14,
      "metadata": {
        "id": "zOybNYgdGviI",
        "outputId": "e02eb23e-0953-4b12-fda0-a5417d9d80e5",
        "colab": {
          "base_uri": "https://localhost:8080/"
        }
      },
      "outputs": [
        {
          "output_type": "execute_result",
          "data": {
            "text/plain": [
              "dtype('float64')"
            ]
          },
          "metadata": {},
          "execution_count": 14
        }
      ],
      "source": [
        "arr1.dtype      # get the data type for arr1"
      ]
    },
    {
      "cell_type": "code",
      "execution_count": 15,
      "metadata": {
        "id": "YDDGk_bJGviI",
        "outputId": "41c1e2ac-2290-4f63-c5b9-16d52b22a814",
        "colab": {
          "base_uri": "https://localhost:8080/"
        }
      },
      "outputs": [
        {
          "output_type": "execute_result",
          "data": {
            "text/plain": [
              "dtype('int64')"
            ]
          },
          "metadata": {},
          "execution_count": 15
        }
      ],
      "source": [
        "arr2.dtype      # get the data type for arr2"
      ]
    },
    {
      "cell_type": "code",
      "execution_count": 18,
      "metadata": {
        "id": "5aAHNKBdHFJc",
        "outputId": "b7682ef5-e66b-4a5c-e67f-5fe5b84e848e",
        "colab": {
          "base_uri": "https://localhost:8080/",
          "height": 35
        }
      },
      "outputs": [
        {
          "output_type": "execute_result",
          "data": {
            "text/plain": [
              "'[1. 2. 3.]'"
            ],
            "application/vnd.google.colaboratory.intrinsic+json": {
              "type": "string"
            }
          },
          "metadata": {},
          "execution_count": 18
        }
      ],
      "source": [
        "arr1 = np.array([1, 2, 3], dtype=np.float64) #this is specifying something that should be a float\n",
        "arr1.dtype\n",
        "\n",
        "str(arr1) #to make it a string (b/c it has quote)"
      ]
    },
    {
      "cell_type": "code",
      "execution_count": 17,
      "metadata": {
        "id": "tYx2e2SYHcNU",
        "outputId": "5ece615d-fe3b-46bb-dfb7-aef152c32053",
        "colab": {
          "base_uri": "https://localhost:8080/"
        }
      },
      "outputs": [
        {
          "output_type": "execute_result",
          "data": {
            "text/plain": [
              "dtype('int32')"
            ]
          },
          "metadata": {},
          "execution_count": 17
        }
      ],
      "source": [
        "arr2 = np.array([1, 2, 3], dtype=np.int32)\n",
        "arr2.dtype"
      ]
    },
    {
      "cell_type": "code",
      "execution_count": 19,
      "metadata": {
        "id": "w_Y6EmmYHdBr",
        "outputId": "d15af270-45bf-4649-9c77-20dcb5b2b3c5",
        "colab": {
          "base_uri": "https://localhost:8080/"
        }
      },
      "outputs": [
        {
          "output_type": "execute_result",
          "data": {
            "text/plain": [
              "dtype('int64')"
            ]
          },
          "metadata": {},
          "execution_count": 19
        }
      ],
      "source": [
        "arr = np.array([1, 2, 3, 4, 5])\n",
        "arr.dtype"
      ]
    },
    {
      "cell_type": "code",
      "execution_count": 20,
      "metadata": {
        "id": "d9y9gQZnHfgQ",
        "outputId": "e7d10fc3-6d53-4190-8508-2e339c314a6f",
        "colab": {
          "base_uri": "https://localhost:8080/"
        }
      },
      "outputs": [
        {
          "output_type": "execute_result",
          "data": {
            "text/plain": [
              "dtype('float64')"
            ]
          },
          "metadata": {},
          "execution_count": 20
        }
      ],
      "source": [
        "float_arr = arr.astype(np.float64)\n",
        "float_arr.dtype"
      ]
    },
    {
      "cell_type": "code",
      "execution_count": 21,
      "metadata": {
        "id": "Ioa95YuUHjke",
        "outputId": "c90e501b-b51c-47bd-c195-663373324c69",
        "colab": {
          "base_uri": "https://localhost:8080/"
        }
      },
      "outputs": [
        {
          "output_type": "execute_result",
          "data": {
            "text/plain": [
              "array([ 3.7, -1.2, -2.6,  0.5, 12.9, 10.1])"
            ]
          },
          "metadata": {},
          "execution_count": 21
        }
      ],
      "source": [
        "arr = np.array([3.7, -1.2, -2.6, 0.5, 12.9, 10.1])\n",
        "arr"
      ]
    },
    {
      "cell_type": "code",
      "execution_count": 22,
      "metadata": {
        "id": "H2Ref496HmEn",
        "outputId": "49048ddd-f1eb-4a4e-cd4f-af454dccca9e",
        "colab": {
          "base_uri": "https://localhost:8080/"
        }
      },
      "outputs": [
        {
          "output_type": "execute_result",
          "data": {
            "text/plain": [
              "array([ 3, -1, -2,  0, 12, 10], dtype=int32)"
            ]
          },
          "metadata": {},
          "execution_count": 22
        }
      ],
      "source": [
        "arr.astype(np.int32)"
      ]
    },
    {
      "cell_type": "code",
      "execution_count": 23,
      "metadata": {
        "id": "YcVkJW44Hovc",
        "outputId": "7ad0c443-fa31-4d60-c5a9-64c9471305d7",
        "colab": {
          "base_uri": "https://localhost:8080/"
        }
      },
      "outputs": [
        {
          "output_type": "execute_result",
          "data": {
            "text/plain": [
              "array([ 1.25, -9.6 , 42.  ])"
            ]
          },
          "metadata": {},
          "execution_count": 23
        }
      ],
      "source": [
        "numeric_strings = np.array(['1.25', '-9.6', '42'], dtype=np.string_)\n",
        "numeric_strings.astype(float)"
      ]
    },
    {
      "cell_type": "markdown",
      "source": [
        "# Basic Array Manipulations + Calculations\n",
        "\n",
        "NumPy has over 500 basic operations, most of which can be performed upon array data. Here are some common/obvious examples:"
      ],
      "metadata": {
        "id": "_mnr60XBhlQu"
      }
    },
    {
      "cell_type": "code",
      "execution_count": 24,
      "metadata": {
        "id": "oj_yeFhVhr00",
        "outputId": "fb8cd108-6b60-46c1-9278-7717f4f043c6",
        "colab": {
          "base_uri": "https://localhost:8080/"
        }
      },
      "outputs": [
        {
          "output_type": "stream",
          "name": "stdout",
          "text": [
            "[[10  9  8  7  6]\n",
            " [ 5  4  3  2  1]]\n",
            "[[ 1  2  3  4  5]\n",
            " [ 6  7  8  9 10]]\n",
            "[ 1  2  3  4  5  6  7  8  9 10]\n",
            "1\n",
            "10\n",
            "5.5\n",
            "[[ 0.84147098  0.90929743  0.14112001 -0.7568025  -0.95892427]\n",
            " [-0.2794155   0.6569866   0.98935825  0.41211849 -0.54402111]]\n",
            "2.8722813232690143\n"
          ]
        }
      ],
      "source": [
        "# Start with a basic two-dimensional array and manipulate in basic ways:\n",
        "foo = np.array([[1,2,3,4,5],[6,7,8,9,10]])\n",
        "\n",
        "# flip - reverse the data of an array\n",
        "oof = np.flip(foo)\n",
        "print(oof)\n",
        "\n",
        "# copy - copy an array to an entirely separate array\n",
        "goo = np.copy(foo)\n",
        "print(goo)\n",
        "\n",
        "# concatenate - combine all elements within an array into a single list\n",
        "new_foo = np.concatenate(foo)\n",
        "print(new_foo)\n",
        "\n",
        "# min\n",
        "foomin = np.min(foo)\n",
        "print(foomin)\n",
        "\n",
        "# max\n",
        "foomax = np.max(foo)\n",
        "print(foomax)\n",
        "\n",
        "# mean\n",
        "foomean = np.mean(foo)\n",
        "print(foomean)\n",
        "\n",
        "# sin/cos/tan\n",
        "foosin = np.sin(foo)\n",
        "print(foosin)\n",
        "\n",
        "# standard deviation\n",
        "foostd = np.std(foo)\n",
        "print(foostd)"
      ]
    },
    {
      "cell_type": "markdown",
      "source": [
        "# Inserting + Dropping Array Values\n",
        "\n",
        "There are times it's useful to drop a specific index or the start/end of an array of values."
      ],
      "metadata": {
        "id": "CiViyuDPel1F"
      }
    },
    {
      "cell_type": "code",
      "source": [
        "# Drop the first item\n",
        "# Don't use 0 b/c of indices\n",
        "\n",
        "myarr = np.array([10,15,20,25,30,35,40,45,50])\n",
        "\n",
        "drop_start = myarr[1:]\n",
        "print(drop_start)"
      ],
      "metadata": {
        "id": "JWSMOpVNeuz0",
        "outputId": "31d106d9-7394-4d1c-bd03-64e1b17645ea",
        "colab": {
          "base_uri": "https://localhost:8080/"
        }
      },
      "execution_count": 25,
      "outputs": [
        {
          "output_type": "stream",
          "name": "stdout",
          "text": [
            "[15 20 25 30 35 40 45 50]\n"
          ]
        }
      ]
    },
    {
      "cell_type": "code",
      "source": [
        "# Drop the last item\n",
        "\n",
        "drop_end = myarr[:-1]\n",
        "print(drop_end)"
      ],
      "metadata": {
        "id": "55GV3eHqfCGi",
        "outputId": "fd19d0fc-392d-4e40-820d-972dce102ce4",
        "colab": {
          "base_uri": "https://localhost:8080/"
        }
      },
      "execution_count": 26,
      "outputs": [
        {
          "output_type": "stream",
          "name": "stdout",
          "text": [
            "[10 15 20 25 30 35 40 45]\n"
          ]
        }
      ]
    },
    {
      "cell_type": "code",
      "source": [
        "# Drop a specific index\n",
        "\n",
        "drop_second_index = np.delete(myarr, 2)\n",
        "print(drop_second_index)"
      ],
      "metadata": {
        "id": "t_0oJQGPfTo3",
        "outputId": "09710d97-ed6d-4978-b855-70488325c5f7",
        "colab": {
          "base_uri": "https://localhost:8080/"
        }
      },
      "execution_count": 27,
      "outputs": [
        {
          "output_type": "stream",
          "name": "stdout",
          "text": [
            "[10 15 25 30 35 40 45 50]\n"
          ]
        }
      ]
    },
    {
      "cell_type": "code",
      "source": [
        "# Drop every other item in the array\n",
        "# Removes every other item starting with 0\n",
        "\n",
        "every_other = np.delete(myarr, np.arange(0, len(myarr), 2))\n",
        "print(every_other)\n",
        "\n",
        "# Another version that removes every other starting with 1\n",
        "every_other = np.delete(myarr, np.arange(0, len(myarr), 2))\n",
        "print(every_other)"
      ],
      "metadata": {
        "id": "D054l_D1fdW4",
        "outputId": "b74d507c-0145-469e-e916-cf76b4eeec61",
        "colab": {
          "base_uri": "https://localhost:8080/"
        }
      },
      "execution_count": 28,
      "outputs": [
        {
          "output_type": "stream",
          "name": "stdout",
          "text": [
            "[15 25 35 45]\n",
            "[15 25 35 45]\n"
          ]
        }
      ]
    },
    {
      "cell_type": "markdown",
      "metadata": {
        "id": "Pt51js_uGviI"
      },
      "source": [
        "# Slicing\n",
        "\n",
        "**Higher Dimensional Arrays**"
      ]
    },
    {
      "cell_type": "code",
      "execution_count": 29,
      "metadata": {
        "editable": true,
        "id": "cXyHQD1uGviI",
        "jupyter": {
          "outputs_hidden": false
        },
        "outputId": "fd02c217-e72d-48a5-b906-4981b6137256",
        "colab": {
          "base_uri": "https://localhost:8080/"
        }
      },
      "outputs": [
        {
          "output_type": "execute_result",
          "data": {
            "text/plain": [
              "array([[1, 2, 3],\n",
              "       [4, 5, 6],\n",
              "       [7, 8, 9]])"
            ]
          },
          "metadata": {},
          "execution_count": 29
        }
      ],
      "source": [
        "arr2d = np.array([[1, 2, 3], [4, 5, 6], [7, 8, 9]])\n",
        "arr2d"
      ]
    },
    {
      "cell_type": "code",
      "execution_count": 30,
      "metadata": {
        "editable": true,
        "id": "C-uyvPMbGviJ",
        "jupyter": {
          "outputs_hidden": false
        },
        "outputId": "5ed037c4-c8a4-4c54-cc26-e87efd38d7e5",
        "colab": {
          "base_uri": "https://localhost:8080/"
        }
      },
      "outputs": [
        {
          "output_type": "execute_result",
          "data": {
            "text/plain": [
              "array([7, 8, 9])"
            ]
          },
          "metadata": {},
          "execution_count": 30
        }
      ],
      "source": [
        "arr2d[2]"
      ]
    },
    {
      "cell_type": "code",
      "execution_count": 31,
      "metadata": {
        "editable": true,
        "id": "v6oZZo3_GviJ",
        "jupyter": {
          "outputs_hidden": false
        },
        "outputId": "f871494c-888b-480d-ca50-b7245a9ce259",
        "colab": {
          "base_uri": "https://localhost:8080/"
        }
      },
      "outputs": [
        {
          "output_type": "execute_result",
          "data": {
            "text/plain": [
              "3"
            ]
          },
          "metadata": {},
          "execution_count": 31
        }
      ],
      "source": [
        "arr2d[0][2]\n",
        "# means going to 0 array and getting value at position 2"
      ]
    },
    {
      "cell_type": "markdown",
      "metadata": {
        "id": "OQoiWqP8GviJ"
      },
      "source": [
        "\n",
        "\n",
        "**Slicing: Simplified notation**"
      ]
    },
    {
      "cell_type": "code",
      "execution_count": 32,
      "metadata": {
        "editable": true,
        "id": "dlzPyEjyGviJ",
        "jupyter": {
          "outputs_hidden": false
        },
        "outputId": "ecec39fc-e11b-46ad-8b50-137cc678e99d",
        "colab": {
          "base_uri": "https://localhost:8080/"
        }
      },
      "outputs": [
        {
          "output_type": "execute_result",
          "data": {
            "text/plain": [
              "3"
            ]
          },
          "metadata": {},
          "execution_count": 32
        }
      ],
      "source": [
        "arr2d[0, 2]\n",
        "# means going to 0 array and getting value at position 2"
      ]
    },
    {
      "cell_type": "markdown",
      "metadata": {
        "id": "H5_SeBXOGviJ"
      },
      "source": [
        "A nice visual of a 2D array\n",
        "\n",
        "<img src=\"https://learning.oreilly.com/api/v2/epubs/urn:orm:book:9781449323592/files/httpatomoreillycomsourceoreillyimages2172112.png\" height=\"50%\" width=\"50%\"/>"
      ]
    },
    {
      "cell_type": "markdown",
      "metadata": {
        "id": "kchDQjMnGviJ"
      },
      "source": [
        "**Two-Dimensional Array Slicing**\n",
        "\n",
        "<img src=\"https://learning.oreilly.com/api/v2/epubs/urn:orm:book:9781449323592/files/httpatomoreillycomsourceoreillyimages2172114.png\" height=\"50%\" width=\"50%\"/>"
      ]
    },
    {
      "cell_type": "markdown",
      "metadata": {
        "id": "8_yM1k7FGviJ"
      },
      "source": [
        "**3D arrays**"
      ]
    },
    {
      "cell_type": "code",
      "execution_count": 33,
      "metadata": {
        "editable": true,
        "id": "Ag4yJHkeGviJ",
        "jupyter": {
          "outputs_hidden": false
        },
        "outputId": "99728a27-bceb-47ae-fbbb-bf001b0f8c98",
        "colab": {
          "base_uri": "https://localhost:8080/"
        }
      },
      "outputs": [
        {
          "output_type": "execute_result",
          "data": {
            "text/plain": [
              "array([[[ 1,  2,  3],\n",
              "        [ 4,  5,  6]],\n",
              "\n",
              "       [[ 7,  8,  9],\n",
              "        [10, 11, 12]]])"
            ]
          },
          "metadata": {},
          "execution_count": 33
        }
      ],
      "source": [
        "arr3d = np.array([[[1, 2, 3], [4, 5, 6]], [[7, 8, 9], [10, 11, 12]]])\n",
        "\n",
        "arr3d"
      ]
    },
    {
      "cell_type": "code",
      "execution_count": null,
      "metadata": {
        "id": "HlvrpZVPGviJ"
      },
      "outputs": [],
      "source": [
        "arr3d.shape"
      ]
    },
    {
      "cell_type": "code",
      "execution_count": null,
      "metadata": {
        "editable": true,
        "id": "Fm-pWgYXGviJ",
        "jupyter": {
          "outputs_hidden": false
        }
      },
      "outputs": [],
      "source": [
        "arr3d"
      ]
    },
    {
      "cell_type": "markdown",
      "metadata": {
        "id": "6VAqLUBRGviJ",
        "tags": []
      },
      "source": [
        "If you find NumPy's way of showing the data a bit difficult to parse visually.\n",
        "\n",
        "💡 **Here is a way to visualize 3 and higher dimensional data:**\n",
        "\n",
        "```python\n",
        "[ # AXIS 0                     CONTAINS 2 ELEMENTS (arrays)\n",
        "    [ # AXIS 1                 CONTAINS 2 ELEMENTS (arrays)\n",
        "        [1, 2, 3], # AXIS 3    CONTAINS 3 ELEMENTS (integers)\n",
        "        [4, 5, 6]  # AXIS 3\n",
        "    ],  \n",
        "    [ # AXIS 1\n",
        "        [7, 8, 9],\n",
        "        [10, 11, 12]\n",
        "    ]\n",
        "]\n",
        "```\n",
        "Each axis is a level in the nested hierarchy, i.e. a tree or DAG (directed-acyclic graph).\n",
        "\n",
        "* Each axis is a container.\n",
        "* There is only one top container.\n",
        "* Only the bottom containers have data."
      ]
    },
    {
      "cell_type": "markdown",
      "metadata": {
        "id": "NKkVfrMYGviJ"
      },
      "source": [
        "**Omit lower indices**\n",
        "\n",
        "In multidimensional arrays, if you omit later indices, the returned object will be a **lower-dimensional ndarray** consisting of all the data contained by the higher indexed dimension.\n",
        "\n",
        "So in the 2 × 2 × 3 array `arr3d`:"
      ]
    },
    {
      "cell_type": "code",
      "execution_count": null,
      "metadata": {
        "editable": true,
        "id": "ERwpcfHNGviJ",
        "jupyter": {
          "outputs_hidden": false
        }
      },
      "outputs": [],
      "source": [
        "arr3d[0]"
      ]
    },
    {
      "cell_type": "markdown",
      "metadata": {
        "id": "j3Tj6WFaGviJ"
      },
      "source": [
        "Saving data before modifying an array."
      ]
    },
    {
      "cell_type": "code",
      "execution_count": null,
      "metadata": {
        "editable": true,
        "id": "V4ofZLp0GviJ",
        "jupyter": {
          "outputs_hidden": false
        }
      },
      "outputs": [],
      "source": [
        "old_values = arr3d[0].copy()\n",
        "arr3d[0] = 42\n",
        "arr3d"
      ]
    },
    {
      "cell_type": "markdown",
      "metadata": {
        "id": "O8U6N49VGviJ"
      },
      "source": [
        "Putting the data back."
      ]
    },
    {
      "cell_type": "code",
      "execution_count": null,
      "metadata": {
        "editable": true,
        "id": "TCxoaJhSGviK",
        "jupyter": {
          "outputs_hidden": false
        }
      },
      "outputs": [],
      "source": [
        "arr3d[0] = old_values\n",
        "arr3d"
      ]
    },
    {
      "cell_type": "markdown",
      "metadata": {
        "id": "3S5QVCrhGviK"
      },
      "source": [
        "Similarly, `arr3d[1, 0]` gives you all of the values whose indices start with (1, 0), forming a 1-dimensional array:"
      ]
    },
    {
      "cell_type": "code",
      "execution_count": null,
      "metadata": {
        "editable": true,
        "id": "9YZIypDsGviK",
        "jupyter": {
          "outputs_hidden": false
        }
      },
      "outputs": [],
      "source": [
        "arr3d[1, 0]"
      ]
    },
    {
      "cell_type": "code",
      "execution_count": null,
      "metadata": {
        "editable": true,
        "id": "rZ8KkmPOGviK",
        "jupyter": {
          "outputs_hidden": false
        }
      },
      "outputs": [],
      "source": [
        "x = arr3d[1]\n",
        "x"
      ]
    },
    {
      "cell_type": "code",
      "execution_count": null,
      "metadata": {
        "editable": true,
        "id": "kW_r5Om9GviK",
        "jupyter": {
          "outputs_hidden": false
        }
      },
      "outputs": [],
      "source": [
        "x[0]"
      ]
    }
  ],
  "metadata": {
    "anaconda-cloud": {},
    "colab": {
      "provenance": [],
      "include_colab_link": true
    },
    "kernelspec": {
      "display_name": "Python 3.8.9 64-bit",
      "language": "python",
      "name": "python3"
    },
    "language_info": {
      "codemirror_mode": {
        "name": "ipython",
        "version": 3
      },
      "file_extension": ".py",
      "mimetype": "text/x-python",
      "name": "python",
      "nbconvert_exporter": "python",
      "pygments_lexer": "ipython3",
      "version": "3.9.6"
    },
    "vscode": {
      "interpreter": {
        "hash": "31f2aee4e71d21fbe5cf8b01ff0e069b9275f58929596ceb00d14d90e3e16cd6"
      }
    }
  },
  "nbformat": 4,
  "nbformat_minor": 0
}